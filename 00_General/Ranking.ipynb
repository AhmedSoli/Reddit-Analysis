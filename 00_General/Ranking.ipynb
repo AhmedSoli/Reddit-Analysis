{
 "cells": [
  {
   "cell_type": "code",
   "execution_count": 6,
   "metadata": {},
   "outputs": [],
   "source": [
    "import pickle\n",
    "import gzip\n",
    "\n",
    "counts = pickle.load(gzip.open(\"../Results/counts.pickle.gz\",\"rb\"))\n",
    "members = pickle.load(gzip.open(\"../Results/members.pickle.gz\",\"rb\"))"
   ]
  },
  {
   "cell_type": "code",
   "execution_count": 12,
   "metadata": {},
   "outputs": [],
   "source": [
    "ranks = {}\n",
    "for board in counts:\n",
    "    if counts[board]['commentators'] > 50:\n",
    "        ranks[board] = {\n",
    "            'comments': counts[board]['comments'],\n",
    "            'submissions': counts[board]['submissions'],\n",
    "            'posts': counts[board]['comments'] + counts[board]['submissions'],\n",
    "            'users': len(members[board]['users'])\n",
    "        }"
   ]
  },
  {
   "cell_type": "code",
   "execution_count": 24,
   "metadata": {},
   "outputs": [
    {
     "name": "stdout",
     "output_type": "stream",
     "text": [
      "The_Donald\n",
      "{'comments': 33620546, 'submissions': 3631114, 'posts': 37251660, 'users': 599849}\n",
      "users 31 posts 3\n",
      "\n",
      "\n",
      "politics\n",
      "{'comments': 58030232, 'submissions': 1152109, 'posts': 59182341, 'users': 1022625}\n",
      "users 14 posts 2\n",
      "\n",
      "\n",
      "SandersForPresident\n",
      "{'comments': 3921373, 'submissions': 205528, 'posts': 4126901, 'users': 208435}\n",
      "users 141 posts 91\n",
      "\n",
      "\n"
     ]
    }
   ],
   "source": [
    "rank = {\n",
    "    'posts': {board:i+1 for i,board in enumerate(sorted(ranks,key=lambda x:ranks[x]['posts'],reverse=True))},\n",
    "    'users': {board:i+1 for i,board in enumerate(sorted(ranks,key=lambda x:ranks[x]['users'],reverse=True))},\n",
    "} \n",
    "\n",
    "for board in ['The_Donald','politics','SandersForPresident']:\n",
    "    print(board)\n",
    "    print(ranks[board])\n",
    "    print('users',rank['users'][board],'posts',rank['posts'][board])\n",
    "    print(\"\\n\")"
   ]
  }
 ],
 "metadata": {
  "kernelspec": {
   "display_name": "Python 3",
   "language": "python",
   "name": "python3"
  },
  "language_info": {
   "codemirror_mode": {
    "name": "ipython",
    "version": 3
   },
   "file_extension": ".py",
   "mimetype": "text/x-python",
   "name": "python",
   "nbconvert_exporter": "python",
   "pygments_lexer": "ipython3",
   "version": "3.7.1"
  }
 },
 "nbformat": 4,
 "nbformat_minor": 2
}
