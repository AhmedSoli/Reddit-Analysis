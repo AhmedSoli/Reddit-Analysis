{
 "cells": [
  {
   "cell_type": "markdown",
   "metadata": {},
   "source": [
    "### Import Required Libraries"
   ]
  },
  {
   "cell_type": "code",
   "execution_count": null,
   "metadata": {},
   "outputs": [],
   "source": [
    "import pickle\n",
    "from collections import Counter\n",
    "from nltk.corpus import stopwords\n",
    "from nltk.stem.wordnet import WordNetLemmatizer\n",
    "import string\n",
    "\n",
    "nltk.download('stopwords')\n",
    "nltk.download('wordnet')\n",
    "nltk.download('punkt')"
   ]
  },
  {
   "cell_type": "markdown",
   "metadata": {},
   "source": [
    "### Load comments corpus "
   ]
  },
  {
   "cell_type": "code",
   "execution_count": null,
   "metadata": {},
   "outputs": [],
   "source": [
    "comments_corpus = pickle.load(open(\"../../Results/comments_corpus.pickle\",\"rb\"))"
   ]
  },
  {
   "cell_type": "markdown",
   "metadata": {},
   "source": [
    "### Simple PreProcessing (Remove punctuation, \\n and abbreviations) and counting of words"
   ]
  },
  {
   "cell_type": "code",
   "execution_count": null,
   "metadata": {},
   "outputs": [],
   "source": [
    "words_frequency = {}\n",
    "\n",
    "for subreddit in comments_corpus:\n",
    "    words_frequency[subreddit] = Counter()\n",
    "    print(\"Working on {} subreddit\".format(subreddit))\n",
    "    print(\"The subreddit contains {} comments\".format(len(comments_corpus[subreddit])))\n",
    "    for key,comment in enumerate(comments_corpus[subreddit]):\n",
    "        for word in comment.replace('\\n',' ').split(' '):\n",
    "            filtered_word = word.lower().split(\"'\")[0].translate(str.maketrans('', '', string.punctuation))\n",
    "            words_frequency[subreddit][filtered_word] += 1\n",
    "        if key % 100000 == 0:\n",
    "            print(\"{} comments finished for {}\".format(key,subreddit))"
   ]
  },
  {
   "cell_type": "markdown",
   "metadata": {},
   "source": [
    "### Lemmatizing words and removing Stopwords"
   ]
  },
  {
   "cell_type": "code",
   "execution_count": null,
   "metadata": {
    "scrolled": true
   },
   "outputs": [],
   "source": [
    "words_frequency_lemmatized = {}\n",
    "\n",
    "stop_words = set(stopwords.words('english'))\n",
    "lem = WordNetLemmatizer()\n",
    "\n",
    "for subreddit in comments_corpus:\n",
    "    words_frequency_lemmatized[subreddit] = Counter()\n",
    "    print(\"Working on {} subreddit\".format(subreddit))\n",
    "    print(\"The subreddit contains {} unique words\".format(len(words_frequency[subreddit])))\n",
    "    for key,word in enumerate(words_frequency[subreddit]):\n",
    "        if word not in stop_words:\n",
    "            word_lem = lem.lemmatize(word,\"v\")\n",
    "            words_frequency_lemmatized[subreddit][word_lem] += words_frequency[subreddit][word]\n",
    "            if key % 1000000 == 0:\n",
    "                print(\"{} words finished for {}\".format(key,subreddit))"
   ]
  },
  {
   "cell_type": "markdown",
   "metadata": {},
   "source": [
    "### Filter more words after manual inspection (Reddit specific characters)"
   ]
  },
  {
   "cell_type": "code",
   "execution_count": null,
   "metadata": {},
   "outputs": [],
   "source": [
    "remove = ['','permittedhttpswwwredditcomrpoliticswikirulesandregswikinopersonalattacks',\\\n",
    "        'discussionhttpswwwredditcomrpoliticswikirulesandregswikipleasebecivil' \\\n",
    "        'httpimgurcom0cf3yty', 'subredditmessagecomposetorpolitics', \\\n",
    "        'discussionhttpswwwredditcomrpoliticswikirulesandregswikipleasebecivil', 'delete',\\\n",
    "        \"httpimgurcom0cf3yty\", \"╚═███═╝\",\"つ\",\"◕◕\",\"ubotsbyliam\", \\\n",
    "        \"rbotsbyliam\",\"༽つ\",\"subredditmessagecomposetorthedonald\", \\\n",
    "        \"༼\",\"formhttpbotsbyliamcom\", \"utonysesek556\",'͡°',\"energyhttpswwwyoutubecomwatchvqligom24qqc\"\\\n",
    "        \"formhttpsdocsgooglecomformsd1hdofbq85c6qhks8ydg0le6uiffbfj5sabm6qtp3zavqviewformresponses\", \\\n",
    "        \"lightyears\\r\",\"httpiimgurcomy2t4j8ajpg\",\"pagehttpsawswariomissedcomthewallgrows\", \\\n",
    "        \"suggestionshttpsdocsgooglecomformsd1nbt77un01wxb3opvwc8llesd1e8jqj5mnkhitd4qqqkviewform\", \\\n",
    "        \"httpwwwarchiveis\",\"pepehttpsslimgufbmzs\", \"brigadinghttparchiveisi4col\", \\\n",
    "         \"moderatorshttpswwwredditcommessagecomposetorpoliticsampsubjectquestion\", \"im\",\"gt\",\\\n",
    "          \"etc\", \"1\", \"2\", \"3\", \"4\",\"5\",\"6\",\"7\",\"8\",\"9\",\"10\",\n",
    "          \"subredditmessagecomposetorneutralpolitics\",\"ruleshttpwwwredditcomrneutralpoliticswikiguidelineswikis\", \\\n",
    "          \"guidelineshttpswwwredditcomrsandersforpresidentwikirules\",\"rsandersforpresident\", \\\n",
    "          \"alonehttpswwwredditcomrmetarepublicancomments5t017athissubisforrepublicansifyoudonot\", \\\n",
    "          \"subredditmessagecomposetordemocrats\"\n",
    "         ]\n",
    "\n",
    "for r in remove:\n",
    "    for subreddit in comments_corpus:\n",
    "        del words_frequency_lemmatized[subreddit][r]"
   ]
  },
  {
   "cell_type": "markdown",
   "metadata": {},
   "source": [
    "### Transform absolute word counts into relative counts"
   ]
  },
  {
   "cell_type": "code",
   "execution_count": null,
   "metadata": {},
   "outputs": [],
   "source": [
    "words_count_total = {}\n",
    "word_percentages = {}\n",
    "\n",
    "for subreddit in words_frequency_lemmatized:\n",
    "    words_count_total[subreddit] = sum(words_frequency_lemmatized[subreddit].values())\n",
    "    word_percentages[subreddit] = Counter()\n",
    "    for word in words_frequency_lemmatized[subreddit]:\n",
    "        word_percentages[subreddit][word] = (100 * words_frequency_lemmatized[subreddit][word])/ float(words_count_total[subreddit])\n",
    "        \n",
    "pickle_out = open('../../Results/WordCounts/word_freq.pickle','wb')\n",
    "pickle.dump(word_percentages,pickle_out)\n",
    "pickle_out.close()"
   ]
  }
 ],
 "metadata": {
  "kernelspec": {
   "display_name": "Python 3",
   "language": "python",
   "name": "python3"
  },
  "language_info": {
   "codemirror_mode": {
    "name": "ipython",
    "version": 3
   },
   "file_extension": ".py",
   "mimetype": "text/x-python",
   "name": "python",
   "nbconvert_exporter": "python",
   "pygments_lexer": "ipython3",
   "version": "3.7.1"
  }
 },
 "nbformat": 4,
 "nbformat_minor": 2
}
