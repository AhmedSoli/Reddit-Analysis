{
 "cells": [
  {
   "cell_type": "markdown",
   "metadata": {},
   "source": [
    "### Import required libraries"
   ]
  },
  {
   "cell_type": "code",
   "execution_count": 1,
   "metadata": {},
   "outputs": [],
   "source": [
    "import pickle\n",
    "import gzip\n",
    "from vaderSentiment.vaderSentiment import SentimentIntensityAnalyzer\n",
    "from multiprocessing import Pool\n",
    "import logging\n",
    "\n",
    "logging.basicConfig(filename=\"output.log\",level=logging.INFO)"
   ]
  },
  {
   "cell_type": "markdown",
   "metadata": {},
   "source": [
    "### Load comments corpus"
   ]
  },
  {
   "cell_type": "code",
   "execution_count": 2,
   "metadata": {},
   "outputs": [],
   "source": [
    "comments_corpus = pickle.load(open(\"../../Results/comments_corpus.pickle\",\"rb\"))"
   ]
  },
  {
   "cell_type": "code",
   "execution_count": 3,
   "metadata": {},
   "outputs": [
    {
     "data": {
      "text/plain": [
       "dict_keys(['politics', 'NeutralPolitics', 'SandersForPresident', 'The_Donald', 'hillaryclinton', 'Republican', 'democrats', 'The_Farage', 'Le_Pen', 'altright', 'progressive', 'Conservative', 'ukpolitics', 'LateStageCapitalism', 'Libertarian'])"
      ]
     },
     "execution_count": 3,
     "metadata": {},
     "output_type": "execute_result"
    }
   ],
   "source": [
    "comments_corpus.keys()"
   ]
  },
  {
   "cell_type": "markdown",
   "metadata": {},
   "source": [
    "### Define function for calculating sentiment for a specific subreddit"
   ]
  },
  {
   "cell_type": "code",
   "execution_count": 11,
   "metadata": {},
   "outputs": [],
   "source": [
    "def calculate_sentiment(subreddit):\n",
    "    # get only comment for the selected subreddit\n",
    "    comments = comments_corpus[subreddit]\n",
    "    # free up memory\n",
    "    comments_corpus = None\n",
    "    # init comments analyzer\n",
    "    analyzer = SentimentIntensityAnalyzer()\n",
    "    # inti array for storing sentiment scores\n",
    "    sentiment = []\n",
    "    # iterate over non-deleted and non-removed comments\n",
    "    for i,comment in enumerate(comments):\n",
    "        if '[deleted]' in comment or '[removed]' in comment:\n",
    "            continue\n",
    "        sentiment.append(analyzer.polarity_scores(comment))\n",
    "        if i % 10000 == 0:\n",
    "            logging.info(\"{} {}\".format(subreddit,i))\n",
    "    # serialize the result\n",
    "    pickle_out = open(\"../../Results/Sentiment/sentiment_\" + subreddit + \".pickle\",\"wb\")\n",
    "    pickle.dump(sentiment, pickle_out)\n",
    "    pickle_out.close()"
   ]
  },
  {
   "cell_type": "markdown",
   "metadata": {},
   "source": [
    "### Run calculation and paralleise over all available cores"
   ]
  },
  {
   "cell_type": "code",
   "execution_count": null,
   "metadata": {},
   "outputs": [],
   "source": [
    "p = Pool(len(comments_corpus))\n",
    "print(p.map(calculate_sentiment, list(comments_corpus.keys())))\n",
    "p.close()"
   ]
  }
 ],
 "metadata": {
  "kernelspec": {
   "display_name": "Python 3",
   "language": "python",
   "name": "python3"
  },
  "language_info": {
   "codemirror_mode": {
    "name": "ipython",
    "version": 3
   },
   "file_extension": ".py",
   "mimetype": "text/x-python",
   "name": "python",
   "nbconvert_exporter": "python",
   "pygments_lexer": "ipython3",
   "version": "3.7.1"
  }
 },
 "nbformat": 4,
 "nbformat_minor": 2
}
