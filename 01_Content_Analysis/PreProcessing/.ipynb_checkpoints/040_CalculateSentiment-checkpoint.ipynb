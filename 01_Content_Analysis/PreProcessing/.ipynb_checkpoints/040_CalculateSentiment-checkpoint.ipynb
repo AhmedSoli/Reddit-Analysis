{
 "cells": [
  {
   "cell_type": "code",
   "execution_count": 1,
   "metadata": {},
   "outputs": [],
   "source": [
    "import pickle\n",
    "import gzip\n",
    "from vaderSentiment.vaderSentiment import SentimentIntensityAnalyzer\n",
    "from multiprocessing import Pool\n",
    "import logging\n",
    "logging.basicConfig(filename=\"output.log\",level=logging.INFO)"
   ]
  },
  {
   "cell_type": "code",
   "execution_count": 2,
   "metadata": {},
   "outputs": [],
   "source": [
    "comments_corpus = pickle.load(gzip.open(\"../../Results/comments_corpus.pickle.gz\",\"rb\"))\n",
    "comments_corpus.update(pickle.load(gzip.open(\"../../Results/comments_corpus_alt.pickle.gz\",\"rb\")))"
   ]
  },
  {
   "cell_type": "code",
   "execution_count": 3,
   "metadata": {},
   "outputs": [
    {
     "data": {
      "text/plain": [
       "dict_keys(['politics', 'NeutralPolitics', 'SandersForPresident', 'The_Donald', 'hillaryclinton', 'Republican', 'democrats', 'The_Farage', 'Le_Pen', 'altright', 'progressive', 'Conservative', 'ukpolitics', 'LateStageCapitalism', 'Libertarian'])"
      ]
     },
     "execution_count": 3,
     "metadata": {},
     "output_type": "execute_result"
    }
   ],
   "source": [
    "comments_corpus.keys()"
   ]
  },
  {
   "cell_type": "code",
   "execution_count": 4,
   "metadata": {},
   "outputs": [],
   "source": [
    "def worker(subreddit):\n",
    "    global comments_corpus\n",
    "    comments = comments_corpus[subreddit]\n",
    "    comments_corpus = None\n",
    "    analyzer = SentimentIntensityAnalyzer()\n",
    "    sentiment = []\n",
    "    for i,comment in enumerate(comments):\n",
    "        sentiment.append(analyzer.polarity_scores(comment))\n",
    "        if i % 10000 == 0:\n",
    "            logging.info(\"{} {}\".format(subreddit,i))\n",
    "    pickle_out = open(\"../../Results/sentiment_\" + subreddit + \".pickle\",\"wb\")\n",
    "    pickle.dump(sentiment, pickle_out)\n",
    "    pickle_out.close()"
   ]
  },
  {
   "cell_type": "code",
   "execution_count": null,
   "metadata": {},
   "outputs": [],
   "source": [
    "p = Pool(len(comments_corpus))\n",
    "print(p.map(worker, list(comments_corpus.keys())))\n",
    "p.close()"
   ]
  }
 ],
 "metadata": {
  "kernelspec": {
   "display_name": "Python 3",
   "language": "python",
   "name": "python3"
  },
  "language_info": {
   "codemirror_mode": {
    "name": "ipython",
    "version": 3
   },
   "file_extension": ".py",
   "mimetype": "text/x-python",
   "name": "python",
   "nbconvert_exporter": "python",
   "pygments_lexer": "ipython3",
   "version": "3.7.1"
  }
 },
 "nbformat": 4,
 "nbformat_minor": 2
}
