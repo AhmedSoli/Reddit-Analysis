{
 "cells": [
  {
   "cell_type": "markdown",
   "metadata": {},
   "source": [
    "### Import all required libraries"
   ]
  },
  {
   "cell_type": "code",
   "execution_count": null,
   "metadata": {},
   "outputs": [],
   "source": [
    "import json\n",
    "import os\n",
    "import multiprocessing\n",
    "import pickle\n",
    "import bz2\n",
    "import lzma\n",
    "from IPython.display import display, clear_output"
   ]
  },
  {
   "cell_type": "markdown",
   "metadata": {},
   "source": [
    "### Define target boards"
   ]
  },
  {
   "cell_type": "code",
   "execution_count": null,
   "metadata": {},
   "outputs": [],
   "source": [
    "target_boards = ['politics','NeutralPolitics','SandersForPresident','The_Donald','hillaryclinton',\n",
    "                 'Republican','democrats','The_Farage','Le_Pen','altright','progressive','Conservative',\n",
    "                 'ukpolitics','LateStageCapitalism','Libertarian']"
   ]
  },
  {
   "cell_type": "markdown",
   "metadata": {},
   "source": [
    "### Function for extracting the messages of the comments for a specific month"
   ]
  },
  {
   "cell_type": "code",
   "execution_count": null,
   "metadata": {},
   "outputs": [],
   "source": [
    "# input: the path of a file containing all comments posted on Reddit for one month \n",
    "# output: dictionary mapping each target board to the all comments posted in that month\n",
    "def extract_comments(file_path):\n",
    "    print(file_path[32:37])\n",
    "    \n",
    "    # init dictionary which will hold an array for each of the target boards\n",
    "    # with all comments posted in the target month\n",
    "    comments_corpus = {}\n",
    "    for board in target_boards:\n",
    "        comments_corpus[board] = []    \n",
    "        \n",
    "    if '.bz2' in file_path:\n",
    "        _open = bz2.open\n",
    "    else:\n",
    "        _open = lzma.open\n",
    "    \n",
    "    # iterate over all comments posted on Reddit in the selected month\n",
    "    with _open(file_path,'rt') as comments_data:\n",
    "        for i,comment in enumerate(comments_data):\n",
    "            # load comment into json object\n",
    "            comment = json.loads(comment)\n",
    "            # check if comment contains information about where it was posted\n",
    "            # all comments should include this information\n",
    "            if 'subreddit' in comment:\n",
    "                # check if the subreddit where the comment was posted\n",
    "                # is in the target boards\n",
    "                if comment['subreddit'] in target_boards:\n",
    "                    # if yes append the body of the comment\n",
    "                    comments_corpus[comment['subreddit']].append(comment['body'])\n",
    "                \n",
    "            # display progress\n",
    "            if i % 1000000 == 0:\n",
    "                clear_output(wait=True)\n",
    "                print(file_path,i)\n",
    "            \n",
    "        # serlialize the result for this month\n",
    "        pickle_out = open(\"../../Results/comments_corpus_\" + file_path[32:37] + \".pickle\",\"wb\")\n",
    "        pickle.dump(comments_corpus, pickle_out)\n",
    "        pickle_out.close()"
   ]
  },
  {
   "cell_type": "markdown",
   "metadata": {},
   "source": [
    "### Extract all files containing the comments posted on Reddit. Each file contains information about one single month"
   ]
  },
  {
   "cell_type": "code",
   "execution_count": null,
   "metadata": {},
   "outputs": [],
   "source": [
    "# path storing the data regarding the comments\n",
    "folder = '/home/data/reddit/comments/'\n",
    "files = os.listdir(folder)\n",
    "required_files = []\n",
    "\n",
    "for key,file in enumerate(files):\n",
    "    if file[3:7] >= \"2016\" and ('bz2' in file or 'xz' in file):\n",
    "        required_files.append(folder + file)"
   ]
  },
  {
   "cell_type": "markdown",
   "metadata": {},
   "source": [
    "### Run the calculation and parallelise over the number of cores available for the months"
   ]
  },
  {
   "cell_type": "code",
   "execution_count": null,
   "metadata": {
    "scrolled": true
   },
   "outputs": [],
   "source": [
    "# run the calculation\n",
    "print(len(required_files))\n",
    "p = multiprocessing.Pool(len(required_files))\n",
    "print(p.map(extract_comments, required_files))\n",
    "p.close()"
   ]
  },
  {
   "cell_type": "code",
   "execution_count": null,
   "metadata": {},
   "outputs": [],
   "source": [
    "comments_corpus = {}\n",
    "\n",
    "for file in sorted(required_files):\n",
    "    comments_corpus_temp = pickle.load(open(\"../../Results/comments_corpus_\" + file + \".pickle\",\"rb\"))\n",
    "    for subreddit in comments_corpus_temp:\n",
    "        if subreddit not in comments_corpus:\n",
    "            comments_corpus[subreddit] = []\n",
    "        comments_corpus[subreddit].extend(\n",
    "            comments_corpus_temp[subreddit]\n",
    "        )\n",
    "        print(subreddit,len(comments_corpus[subreddit]))\n",
    "                        \n",
    "pickle_out = open(\"../../Results/comments_corpus.pickle\",\"wb\")\n",
    "pickle.dump(comments_corpus, pickle_out)\n",
    "pickle_out.close()"
   ]
  }
 ],
 "metadata": {
  "kernelspec": {
   "display_name": "Python 3",
   "language": "python",
   "name": "python3"
  },
  "language_info": {
   "codemirror_mode": {
    "name": "ipython",
    "version": 3
   },
   "file_extension": ".py",
   "mimetype": "text/x-python",
   "name": "python",
   "nbconvert_exporter": "python",
   "pygments_lexer": "ipython3",
   "version": "3.7.1"
  }
 },
 "nbformat": 4,
 "nbformat_minor": 2
}
