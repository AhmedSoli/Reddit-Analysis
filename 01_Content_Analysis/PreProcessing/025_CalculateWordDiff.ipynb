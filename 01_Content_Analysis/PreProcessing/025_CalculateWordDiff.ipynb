{
 "cells": [
  {
   "cell_type": "markdown",
   "metadata": {},
   "source": [
    "### Import required Libraries"
   ]
  },
  {
   "cell_type": "code",
   "execution_count": 1,
   "metadata": {},
   "outputs": [],
   "source": [
    "import pickle\n",
    "from collections import Counter"
   ]
  },
  {
   "cell_type": "markdown",
   "metadata": {},
   "source": [
    "### Load realtive word counts per subreddit"
   ]
  },
  {
   "cell_type": "code",
   "execution_count": 2,
   "metadata": {},
   "outputs": [],
   "source": [
    "word_freq = pickle.load(open(\"../../Results/word_freq.pickle\",\"rb\"))"
   ]
  },
  {
   "cell_type": "markdown",
   "metadata": {},
   "source": [
    "### For all target subreddit calculate diff with The_Donald and politics"
   ]
  },
  {
   "cell_type": "code",
   "execution_count": 4,
   "metadata": {},
   "outputs": [],
   "source": [
    "word_freq_unique = {}"
   ]
  },
  {
   "cell_type": "code",
   "execution_count": 5,
   "metadata": {},
   "outputs": [],
   "source": [
    "for subreddit in word_freq:\n",
    "    if subreddit != '-The_Donald':\n",
    "        key = subreddit + \"-The_Donald\"\n",
    "        word_freq_unique[key] = Counter()\n",
    "        for word in word_freq[subreddit]:\n",
    "            word_freq_unique[key][word] = word_freq[subreddit][word] - word_freq['The_Donald'][word]"
   ]
  },
  {
   "cell_type": "code",
   "execution_count": 6,
   "metadata": {},
   "outputs": [],
   "source": [
    "for subreddit in word_freq:\n",
    "    if subreddit != 'politics':\n",
    "        key = subreddit + \"-politics\"\n",
    "        word_freq_unique[key] = Counter()\n",
    "        for word in word_freq[subreddit]:\n",
    "            word_freq_unique[key][word] = word_freq[subreddit][word] - word_freq['politics'][word]"
   ]
  },
  {
   "cell_type": "code",
   "execution_count": 11,
   "metadata": {},
   "outputs": [],
   "source": [
    "pickle_out = open('../../Results/word_freq_unique.pickle','wb')\n",
    "pickle.dump(word_freq_unique,pickle_out)\n",
    "pickle_out.close()"
   ]
  }
 ],
 "metadata": {
  "kernelspec": {
   "display_name": "Python 3",
   "language": "python",
   "name": "python3"
  },
  "language_info": {
   "codemirror_mode": {
    "name": "ipython",
    "version": 3
   },
   "file_extension": ".py",
   "mimetype": "text/x-python",
   "name": "python",
   "nbconvert_exporter": "python",
   "pygments_lexer": "ipython3",
   "version": "3.7.1"
  }
 },
 "nbformat": 4,
 "nbformat_minor": 2
}
