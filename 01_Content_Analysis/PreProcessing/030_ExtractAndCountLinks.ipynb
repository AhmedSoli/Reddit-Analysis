{
 "cells": [
  {
   "cell_type": "markdown",
   "metadata": {},
   "source": [
    "### Import required Libraries"
   ]
  },
  {
   "cell_type": "code",
   "execution_count": 3,
   "metadata": {},
   "outputs": [],
   "source": [
    "import pickle\n",
    "import re\n",
    "from pprint import pprint\n",
    "from collections import Counter"
   ]
  },
  {
   "cell_type": "markdown",
   "metadata": {},
   "source": [
    "### Load comments corpus"
   ]
  },
  {
   "cell_type": "code",
   "execution_count": 4,
   "metadata": {},
   "outputs": [],
   "source": [
    "comments_corpus = pickle.load(open(\"../../Results/comments_corpus.pickle.gz\",\"rb\"))"
   ]
  },
  {
   "cell_type": "markdown",
   "metadata": {},
   "source": [
    "### Define functions for extracting top level domain and complete url"
   ]
  },
  {
   "cell_type": "code",
   "execution_count": 5,
   "metadata": {},
   "outputs": [],
   "source": [
    "def extractPrefix(text):\n",
    "    prefix = re.search(\"(?P<url>https?://[^\\s]+)\", text)\n",
    "    if prefix is not None: \n",
    "        return prefix.group('url').split('/')[2]\n",
    "    \n",
    "def extractLinks(text):    \n",
    "    keywords = ['www','http','https','.com','.org','.de']\n",
    "    links = set()\n",
    "    for word in re.split('\\(|\\)| |,|\\[|\\]',text):\n",
    "        for keyword in keywords:\n",
    "            if keyword in word:\n",
    "                links.add(word)\n",
    "                break\n",
    "    return links"
   ]
  },
  {
   "cell_type": "markdown",
   "metadata": {},
   "source": [
    " ### Extract top level domain of urls in comment_links and full links in comment_full_links"
   ]
  },
  {
   "cell_type": "code",
   "execution_count": null,
   "metadata": {},
   "outputs": [],
   "source": [
    "comment_links = {}\n",
    "comment_full_links = {}\n",
    "\n",
    "for subreddit in comments_corpus:\n",
    "    print(subreddit,len(comments_corpus[subreddit]))\n",
    "    comment_links[subreddit] = Counter()\n",
    "    comment_full_links[subreddit] = Counter()\n",
    "    for key,comment in enumerate(comments_corpus[subreddit]):\n",
    "        prefix = extractPrefix(comment)\n",
    "        if prefix is not None:\n",
    "            comment_links[subreddit][prefix] += 1\n",
    "        links = extractLinks(comment)\n",
    "        if len(links) > 0:\n",
    "            for link in links:\n",
    "                comment_full_links[subreddit][link] += 1\n",
    "        if key % 1000000 == 0:\n",
    "            print(key)\n",
    "    comment_links[subreddit] = comment_links[subreddit].most_common()"
   ]
  },
  {
   "cell_type": "markdown",
   "metadata": {},
   "source": [
    "### Serliaze and save results"
   ]
  },
  {
   "cell_type": "code",
   "execution_count": 16,
   "metadata": {},
   "outputs": [],
   "source": [
    "pickle_out = open('../../Results/comment_links.pickle','wb')\n",
    "pickle.dump(comment_links,pickle_out)\n",
    "pickle_out.close()\n",
    "\n",
    "pickle_out = open('../../Results/comment_full_links.pickle','wb')\n",
    "pickle.dump(comment_full_links,pickle_out)\n",
    "pickle_out.close()"
   ]
  }
 ],
 "metadata": {
  "kernelspec": {
   "display_name": "Python 3",
   "language": "python",
   "name": "python3"
  },
  "language_info": {
   "codemirror_mode": {
    "name": "ipython",
    "version": 3
   },
   "file_extension": ".py",
   "mimetype": "text/x-python",
   "name": "python",
   "nbconvert_exporter": "python",
   "pygments_lexer": "ipython3",
   "version": "3.7.1"
  }
 },
 "nbformat": 4,
 "nbformat_minor": 2
}
