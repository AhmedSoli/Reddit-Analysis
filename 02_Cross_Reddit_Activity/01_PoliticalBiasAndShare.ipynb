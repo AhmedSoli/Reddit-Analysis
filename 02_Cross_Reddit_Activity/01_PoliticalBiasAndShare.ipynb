{
 "cells": [
  {
   "cell_type": "markdown",
   "metadata": {},
   "source": [
    "### Import required libaries"
   ]
  },
  {
   "cell_type": "code",
   "execution_count": 1,
   "metadata": {},
   "outputs": [],
   "source": [
    "import pickle\n",
    "import numpy as np"
   ]
  },
  {
   "cell_type": "markdown",
   "metadata": {},
   "source": [
    "### Load data about subreddit members"
   ]
  },
  {
   "cell_type": "code",
   "execution_count": 2,
   "metadata": {},
   "outputs": [],
   "source": [
    "members = pickle.load(open('../Results/members.pickle.gz','rb'))"
   ]
  },
  {
   "cell_type": "markdown",
   "metadata": {},
   "source": [
    "### Find left-leaning and right-leaning users"
   ]
  },
  {
   "cell_type": "code",
   "execution_count": 5,
   "metadata": {},
   "outputs": [
    {
     "data": {
      "text/plain": [
       "(802668, 357837)"
      ]
     },
     "execution_count": 5,
     "metadata": {},
     "output_type": "execute_result"
    }
   ],
   "source": [
    "left_users = members['politics']['users']|members['SandersForPresident']['users']\n",
    "right_users = members['The_Donald']['users']|members['Conservative']['users']\n",
    "\n",
    "\n",
    "political_orientations = {\n",
    "    'left': left_users - right_users,\n",
    "    'right': right_users - left_users\n",
    "}\n",
    "\n",
    "political_users = left_users|right_users \n",
    "\n",
    "len(political_orientations['left']),len(political_orientations['right'])"
   ]
  },
  {
   "cell_type": "markdown",
   "metadata": {},
   "source": [
    "### Calculate political bias  and share"
   ]
  },
  {
   "cell_type": "code",
   "execution_count": 7,
   "metadata": {},
   "outputs": [],
   "source": [
    "political_bias = {\n",
    "    'all': {},\n",
    "    '2500': {},\n",
    "    '10000': {},\n",
    "    '25000': {},\n",
    "    '500000': {},\n",
    "}\n",
    "\n",
    "political_share = {}\n",
    "\n",
    "for subreddit in members:\n",
    "    \n",
    "    users_count = float(len(members[subreddit]['users']))\n",
    "    left_count = len(political_orientations['left'].intersection(members[subreddit]['users']))\n",
    "    right_count = len(political_orientations['right'].intersection(members[subreddit]['users']))\n",
    "    \n",
    "    political_bias['all'][subreddit] = (left_count - right_count) / users_count\n",
    "    \n",
    "    political_share[subreddit] = len(political_users.intersection(members[subreddit]['users']))/ users_count\n",
    "    \n",
    "    if len(members[subreddit]['users']) > 2500:\n",
    "        political_bias['2500'][subreddit] = political_bias['all'][subreddit]\n",
    "        \n",
    "        if len(members[subreddit]['users']) > 10000:\n",
    "            political_bias['10000'][subreddit] = political_bias['all'][subreddit]\n",
    "            if len(members[subreddit]['users']) > 25000:\n",
    "                political_bias['25000'][subreddit] = political_bias['all'][subreddit]\n",
    "                if len(members[subreddit]['users']) > 500000:\n",
    "                    political_bias['25000'][subreddit] = political_bias['all'][subreddit]"
   ]
  },
  {
   "cell_type": "code",
   "execution_count": 43,
   "metadata": {},
   "outputs": [
    {
     "data": {
      "text/plain": [
       "0.08117512646878984"
      ]
     },
     "execution_count": 43,
     "metadata": {},
     "output_type": "execute_result"
    }
   ],
   "source": [
    "np.mean(list(political_bias['all'].values()))"
   ]
  },
  {
   "cell_type": "code",
   "execution_count": 44,
   "metadata": {},
   "outputs": [],
   "source": [
    "bias_sorted = sorted(political_bias['2500'].items(),key=lambda x:x[1],reverse=True)"
   ]
  },
  {
   "cell_type": "code",
   "execution_count": 51,
   "metadata": {},
   "outputs": [],
   "source": [
    "bias_sorted.remove((\"u_washingtonpost\", 0.42599975836655796))"
   ]
  },
  {
   "cell_type": "markdown",
   "metadata": {},
   "source": [
    "### Generate Latex Tables of the highest biased communities"
   ]
  },
  {
   "cell_type": "code",
   "execution_count": 55,
   "metadata": {},
   "outputs": [
    {
     "name": "stdout",
     "output_type": "stream",
     "text": [
      "politics & $0.73$ & $1.0$ & The\\_Donald & $-0.56$ $1.0$ \\\\\n",
      "SandersForPresident & $0.58$ & $1.0$ & Conservative & $-0.31$ $1.0$ \\\\\n",
      "CaliforniaForSanders & $0.55$ & $0.84$ & DrainTheSwamp & $-0.29$ $0.8$ \\\\\n",
      "GrassrootsSelect & $0.52$ & $0.94$ & The\\_Congress & $-0.27$ $0.96$ \\\\\n",
      "FriendsofthePod & $0.5$ & $0.76$ & The\\_Farage & $-0.26$ $0.9$ \\\\\n",
      "Keep\\_Track & $0.45$ & $0.9$ & tucker\\_carlson & $-0.23$ $0.93$ \\\\\n",
      "progressive & $0.42$ & $0.83$ & The\\_Europe & $-0.23$ $0.87$ \\\\\n",
      "justicedemocrats & $0.42$ & $0.86$ & europeannationalism & $-0.21$ $0.76$ \\\\\n",
      "BlueMidterm2018 & $0.41$ & $0.82$ & Le\\_Pen & $-0.2$ $0.9$ \\\\\n",
      "RussiaLago & $0.37$ & $0.86$ & Physical\\_Removal & $-0.18$ $0.89$ \\\\\n",
      "GreenParty & $0.36$ & $0.78$ & kekistan & $-0.18$ $0.5$ \\\\\n",
      "Political\\_Revolution & $0.36$ & $0.89$ & DarkEnlightenment & $-0.17$ $0.7$ \\\\\n",
      "occupywallstreet & $0.36$ & $0.8$ & CBTS\\_Stream & $-0.17$ $0.5$ \\\\\n",
      "PoliticalDiscussion & $0.36$ & $0.81$ & Mr\\_Trump & $-0.16$ $0.95$ \\\\\n",
      "LateShow & $0.36$ & $0.63$ & hottiesfortrump & $-0.15$ $0.81$ \\\\\n",
      "esist & $0.35$ & $0.85$ & redacted & $-0.15$ $0.95$ \\\\\n",
      "Maher & $0.35$ & $0.76$ & WhiteRights & $-0.15$ $0.71$ \\\\\n",
      "DepthHub & $0.35$ & $0.69$ & AskThe\\_Donald & $-0.14$ $0.91$ \\\\\n",
      "Enough\\_Sanders\\_Spam & $0.35$ & $0.83$ & altright & $-0.14$ $0.74$ \\\\\n",
      "Kossacks\\_for\\_Sanders & $0.34$ & $0.83$ & greatawakening & $-0.13$ $0.54$ \\\\\n"
     ]
    }
   ],
   "source": [
    "for i in range(20):\n",
    "    print(\n",
    "        bias_sorted[i][0].replace(\"_\",\"\\_\"),\"&\",\n",
    "        \"$\" + str(round(bias_sorted[i][1],2)) + \"$\",\"&\",\n",
    "        \"$\" + str(round(political_share[bias_sorted[i][0]],2)) + \"$\", \"&\",\n",
    "        bias_sorted[-i-1][0].replace(\"_\",\"\\_\"),\"&\",\n",
    "        \"$\" + str(round(bias_sorted[-i-1][1],2)) + \"$\",\n",
    "        \"$\" + str(round(political_share[bias_sorted[-i-1][0]],2)) + \"$\",\n",
    "        \"\\\\\\\\\"\n",
    "    )"
   ]
  }
 ],
 "metadata": {
  "kernelspec": {
   "display_name": "Python 3",
   "language": "python",
   "name": "python3"
  },
  "language_info": {
   "codemirror_mode": {
    "name": "ipython",
    "version": 3
   },
   "file_extension": ".py",
   "mimetype": "text/x-python",
   "name": "python",
   "nbconvert_exporter": "python",
   "pygments_lexer": "ipython3",
   "version": "3.7.1"
  }
 },
 "nbformat": 4,
 "nbformat_minor": 2
}
