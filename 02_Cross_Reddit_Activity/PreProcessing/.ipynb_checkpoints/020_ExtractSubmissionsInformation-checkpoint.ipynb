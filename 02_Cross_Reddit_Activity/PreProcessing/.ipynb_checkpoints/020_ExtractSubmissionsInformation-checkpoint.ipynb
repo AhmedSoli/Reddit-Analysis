{
 "cells": [
  {
   "cell_type": "markdown",
   "metadata": {},
   "source": [
    "### Import required Libaries"
   ]
  },
  {
   "cell_type": "code",
   "execution_count": null,
   "metadata": {},
   "outputs": [],
   "source": [
    "import lzma\n",
    "import bz2\n",
    "import pickle \n",
    "import json\n",
    "import os\n",
    "import multiprocessing"
   ]
  },
  {
   "cell_type": "markdown",
   "metadata": {},
   "source": [
    "### Define function for extracting comment information for a specific month"
   ]
  },
  {
   "cell_type": "code",
   "execution_count": null,
   "metadata": {},
   "outputs": [],
   "source": [
    "def extract_submissions_information(file_path):\n",
    "    print(file_path[-8:-3])\n",
    "    \n",
    "    subreddits = {}\n",
    "    submissioners = {}\n",
    "    \n",
    "    if '.bz2' in file_path:\n",
    "        _open = bz2.open\n",
    "    else:\n",
    "        _open = lzma.open\n",
    "    \n",
    "    with _open(file_path,'rt') as submissions_data:\n",
    "        for i,submission in enumerate(submissions_data):\n",
    "            submission = json.loads(submission)\n",
    "            if 'subreddit' in submission:\n",
    "                if submission['subreddit'] not in subreddits:\n",
    "                    subreddits[submission['subreddit']] = {\n",
    "                        'submissions': {},\n",
    "                        'submissioners': set()\n",
    "                    }\n",
    "                if submission['author'] not in subreddits[submission['subreddit']]['submissions']:\n",
    "                    subreddits[submission['subreddit']]['submissions'][submission['author']] = {\n",
    "                        'timestamps': [],\n",
    "                        'votes': [],\n",
    "                        'comments': []\n",
    "                    }\n",
    "                    \n",
    "                subreddits[submission['subreddit']]['submissions'][submission['author']]['timestamps'].append(submission['created_utc'])\n",
    "                subreddits[submission['subreddit']]['submissions'][submission['author']]['votes'].append(submission['score'])\n",
    "                subreddits[submission['subreddit']]['submissions'][submission['author']]['comments'].append(submission['num_comments'])\n",
    "                subreddits[submission['subreddit']]['submissioners'].add(submission['author'])\n",
    "                \n",
    "                if submission['author'] not in submissioners:\n",
    "                    submissioners[submission['author']] = {\n",
    "                        'timestamps': [],\n",
    "                        'votes': [],\n",
    "                        'comments': []\n",
    "                    }\n",
    "                    \n",
    "                submissioners[submission['author']]['timestamps'].append(submission['created_utc'])\n",
    "                submissioners[submission['author']]['votes'].append(submission['score'])\n",
    "                submissioners[submission['author']]['comments'].append(submission['num_comments'])\n",
    "                \n",
    "            if i % 1000000 == 0:\n",
    "                print(file_path,i)\n",
    "\n",
    "        #save the subreddit dict in a file\n",
    "        pickle_out = open(\"../../Results/submissions_\" + file_path[-8:-3] + \".pickle\",\"wb\")\n",
    "        pickle.dump(subreddits, pickle_out)\n",
    "        pickle_out.close()\n",
    "        \n",
    "        #save the subreddit dict in a file\n",
    "        pickle_out = open(\"../../Results/submissioners_\" + file_path[-8:-3] + \".pickle\",\"wb\")\n",
    "        pickle.dump(submissioners, pickle_out)\n",
    "        pickle_out.close()"
   ]
  },
  {
   "cell_type": "markdown",
   "metadata": {},
   "source": [
    "### Identify all files containing information about submissions "
   ]
  },
  {
   "cell_type": "code",
   "execution_count": null,
   "metadata": {},
   "outputs": [],
   "source": [
    "# path storing the data regarding the submissions\n",
    "folder = '/home/data/reddit/submissions/'\n",
    "files = os.listdir(folder)\n",
    "required_files = []\n",
    "\n",
    "\n",
    "for key,file in enumerate(files):\n",
    "    if file[3:7] >= \"2016\" and ('bz2' in file or 'xz' in file):\n",
    "        required_files.append(folder + file)"
   ]
  },
  {
   "cell_type": "markdown",
   "metadata": {},
   "source": [
    "### Run the calculations parallelised over the number of cores available"
   ]
  },
  {
   "cell_type": "code",
   "execution_count": null,
   "metadata": {},
   "outputs": [],
   "source": [
    "# run the calculation\n",
    "p = multiprocessing.Pool(len(required_files))\n",
    "print(p.map(worker, required_files))\n",
    "p.close()"
   ]
  },
  {
   "cell_type": "code",
   "execution_count": null,
   "metadata": {
    "scrolled": true
   },
   "outputs": [],
   "source": [
    "subreddits = {}\n",
    "submissioners = {}\n",
    "\n",
    "for file in required_files:\n",
    "    submissioners_temp = pickle.load(open(\"Results/submissioners_\" + file + \".pickle.gz\",\"rb\"))\n",
    "    subreddits_temp = pickle.load(open(\"Results/submissions_\" + file + \".pickle.gz\",\"rb\"))\n",
    "    \n",
    "    for submissioner in submissioners_temp:\n",
    "        \n",
    "        if submissioner not in submissioners:\n",
    "            submissioners[submissioner] = {\n",
    "                'timestamps': [],\n",
    "                'votes': [],\n",
    "                'comments': []\n",
    "                        \n",
    "            }\n",
    "            \n",
    "        submissioners[submissioner]['timestamps'].extend(\n",
    "            submissioners_temp[submissioner]['timestamps']\n",
    "        )\n",
    "        submissioners[submissioner]['votes'].extend(\n",
    "            submissioners_temp[submissioner]['votes']\n",
    "        )\n",
    "        submissioners[submissioner]['comments'].extend(\n",
    "            submissioners_temp[submissioner]['comments']\n",
    "        )\n",
    "        \n",
    "    for subreddit in subreddits_temp:\n",
    "        \n",
    "        if subreddit not in subreddits:\n",
    "            subreddits[subreddit] = {\n",
    "                'submissions': {},\n",
    "                'submissioners': set()\n",
    "            }\n",
    "        \n",
    "        subreddits[subreddit]['submissioners'].update(\n",
    "            subreddits_temp[subreddit]['submissioners']\n",
    "        )\n",
    "        \n",
    "        for submissioner in subreddits_temp[subreddit]['submissions']:\n",
    "            \n",
    "            if submissioner not in subreddits[subreddit]['submissions']:\n",
    "                subreddits[subreddit]['submissions'][submissioner] = {\n",
    "                    'timestamps': [],\n",
    "                    'votes': [],\n",
    "                    'comments': []\n",
    "                }\n",
    "                \n",
    "            subreddits[subreddit]['submissions'][submissioner]['timestamps'].extend(\n",
    "                subreddits_temp[subreddit]['submissions'][submissioner]['timestamps']\n",
    "            )\n",
    "            \n",
    "            subreddits[subreddit]['submissions'][submissioner]['votes'].extend(\n",
    "                subreddits_temp[subreddit]['submissions'][submissioner]['votes']\n",
    "            )\n",
    "            \n",
    "            subreddits[subreddit]['submissions'][submissioner]['comments'].extend(\n",
    "                subreddits_temp[subreddit]['submissions'][submissioner]['comments']\n",
    "            )\n",
    "    print(len(submissioners))\n",
    "    print(len(subreddits['politics']['submissioners']))\n",
    "\n",
    "                        \n",
    "pickle_out = open(\"../../Results/submissioners.pickle\",\"wb\")\n",
    "pickle.dump(submissioners, pickle_out)\n",
    "pickle_out.close()\n",
    "\n",
    "pickle_out = open(\"../../Results/submissions.pickle\",\"wb\")\n",
    "pickle.dump(subreddits, pickle_out)\n",
    "pickle_out.close()"
   ]
  }
 ],
 "metadata": {
  "kernelspec": {
   "display_name": "Python 3",
   "language": "python",
   "name": "python3"
  },
  "language_info": {
   "codemirror_mode": {
    "name": "ipython",
    "version": 3
   },
   "file_extension": ".py",
   "mimetype": "text/x-python",
   "name": "python",
   "nbconvert_exporter": "python",
   "pygments_lexer": "ipython3",
   "version": "3.7.1"
  }
 },
 "nbformat": 4,
 "nbformat_minor": 2
}
