{
 "cells": [
  {
   "cell_type": "code",
   "execution_count": 2,
   "metadata": {},
   "outputs": [],
   "source": [
    "import pickle\n",
    "\n",
    "comments = pickle.load(open(\"Results/comments.pickle\",\"rb\"))\n",
    "submissions = pickle.load(open(\"Results/submissions.pickle\",\"rb\"))"
   ]
  },
  {
   "cell_type": "code",
   "execution_count": 14,
   "metadata": {},
   "outputs": [
    {
     "name": "stdout",
     "output_type": "stream",
     "text": [
      "0.0\n",
      "0.060481249300685554\n",
      "0.12096249860137111\n",
      "0.18144374790205667\n",
      "0.24192499720274221\n",
      "0.3024062465034278\n",
      "0.36288749580411334\n",
      "0.4233687451047989\n",
      "0.48384999440548443\n",
      "0.54433124370617\n",
      "0.6048124930068556\n",
      "0.6652937423075411\n",
      "0.7257749916082267\n",
      "0.7862562409089122\n",
      "0.8467374902095978\n",
      "0.9072187395102833\n",
      "0.9676999888109689\n"
     ]
    }
   ],
   "source": [
    "subreddits = {}\n",
    "\n",
    "for i,subreddit in enumerate(submissions):\n",
    "    subreddits[subreddit] = {}\n",
    "    subreddits[subreddit]['submissions'] = submissions[subreddit]['submissions']\n",
    "    subreddits[subreddit]['submissioners'] = submissions[subreddit]['submissioners']\n",
    "\n",
    "    if subreddit in comments:\n",
    "        subreddits[subreddit]['comments'] = comments[subreddit]['comments']\n",
    "        subreddits[subreddit]['commentators'] = comments[subreddit]['commentators']\n",
    "        subreddits[subreddit]['users'] = subreddits[subreddit]['submissioners']|subreddits[subreddit]['commentators']\n",
    "    else:\n",
    "        subreddits[subreddit]['users'] = subreddits[subreddit]['submissioners'] \n",
    "   \n",
    "    if i % 100000 == 0:\n",
    "        print(i/len(submissions))"
   ]
  },
  {
   "cell_type": "code",
   "execution_count": 15,
   "metadata": {},
   "outputs": [
    {
     "data": {
      "text/plain": [
       "(1653405, 615909)"
      ]
     },
     "execution_count": 15,
     "metadata": {},
     "output_type": "execute_result"
    }
   ],
   "source": [
    "len(submissions),len(comments)"
   ]
  },
  {
   "cell_type": "code",
   "execution_count": null,
   "metadata": {},
   "outputs": [],
   "source": [
    "pickle_out = open(\"Results/subreddits.pickle\",\"wb\")\n",
    "pickle.dump(subreddits, pickle_out)\n",
    "pickle_out.close()"
   ]
  }
 ],
 "metadata": {
  "kernelspec": {
   "display_name": "Python 3",
   "language": "python",
   "name": "python3"
  },
  "language_info": {
   "codemirror_mode": {
    "name": "ipython",
    "version": 3
   },
   "file_extension": ".py",
   "mimetype": "text/x-python",
   "name": "python",
   "nbconvert_exporter": "python",
   "pygments_lexer": "ipython3",
   "version": "3.7.1"
  }
 },
 "nbformat": 4,
 "nbformat_minor": 2
}
