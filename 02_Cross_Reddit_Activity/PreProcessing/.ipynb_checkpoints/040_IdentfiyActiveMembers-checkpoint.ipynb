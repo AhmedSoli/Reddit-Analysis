{
 "cells": [
  {
   "cell_type": "markdown",
   "metadata": {},
   "source": [
    "### Import required libararies"
   ]
  },
  {
   "cell_type": "code",
   "execution_count": null,
   "metadata": {},
   "outputs": [],
   "source": [
    "import pickle"
   ]
  },
  {
   "cell_type": "markdown",
   "metadata": {},
   "source": [
    "### Load dict holding information about the subreddits"
   ]
  },
  {
   "cell_type": "code",
   "execution_count": null,
   "metadata": {},
   "outputs": [],
   "source": [
    "subreddits = pickle.load(open(\"../../Results/subreddits.pickle\",\"rb\"))"
   ]
  },
  {
   "cell_type": "markdown",
   "metadata": {},
   "source": [
    "### Find active members of each subreddit"
   ]
  },
  {
   "cell_type": "code",
   "execution_count": null,
   "metadata": {},
   "outputs": [],
   "source": [
    "active_members = {}\n",
    "\n",
    "for key,subreddit in enumerate(subreddits):\n",
    "    if 'comments' not in subreddits[subreddit]:\n",
    "        subreddits[subreddit]['comments'] = {}\n",
    "        subreddits[subreddit]['commentators'] = set()\n",
    "        \n",
    "    if len(subreddits[subreddit]['commentators']) + len(subreddits[subreddit]['submissioners']) > 10:\n",
    "        \n",
    "        active_members[subreddit] = {\n",
    "            'commentators': set(),\n",
    "            'submissioners': set(),\n",
    "            'users': set(),\n",
    "        }\n",
    "        \n",
    "        users = subreddits[subreddit]['commentators']|subreddits[subreddit]['submissioners']\n",
    "\n",
    "        for user in users:\n",
    "            num = {\n",
    "                'submissions':0,\n",
    "                'comments': 0\n",
    "            }\n",
    "                \n",
    "            if user in subreddits[subreddit]['comments']:\n",
    "                num['comments'] = len(subreddits[subreddit]['comments'][user]['timestamps'])\n",
    "            if user in subreddits[subreddit]['submissions']:\n",
    "                num['submissions'] = len(subreddits[subreddit]['submissions'][user]['timestamps'])\n",
    "           \n",
    "\n",
    "            if num['submissions'] > 3:\n",
    "                active_members[subreddit]['submissioners'].add(user)\n",
    "\n",
    "            if num['comments'] > 9:\n",
    "                active_members[subreddit]['commentators'].add(user)\n",
    "\n",
    "            if num['comments'] + num['submissions'] * 3 > 9:\n",
    "                active_members[subreddit]['users'].add(user)\n",
    "    if key % 100 == 0:\n",
    "        print(key,subreddit)\n",
    "        \n",
    "pickle_out = open(\"../../Results/active_members.pickle\",\"wb\")\n",
    "pickle.dump(active_members, pickle_out)\n",
    "pickle_out.close()"
   ]
  }
 ],
 "metadata": {
  "kernelspec": {
   "display_name": "Python 3",
   "language": "python",
   "name": "python3"
  },
  "language_info": {
   "codemirror_mode": {
    "name": "ipython",
    "version": 3
   },
   "file_extension": ".py",
   "mimetype": "text/x-python",
   "name": "python",
   "nbconvert_exporter": "python",
   "pygments_lexer": "ipython3",
   "version": "3.7.1"
  }
 },
 "nbformat": 4,
 "nbformat_minor": 2
}
