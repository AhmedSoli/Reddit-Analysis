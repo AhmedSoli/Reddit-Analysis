{
 "cells": [
  {
   "cell_type": "code",
   "execution_count": 2,
   "metadata": {},
   "outputs": [],
   "source": [
    "import pickle"
   ]
  },
  {
   "cell_type": "code",
   "execution_count": null,
   "metadata": {},
   "outputs": [],
   "source": [
    "subreddits = pickle.load(open(\"../../Results/subreddits.pickle\",\"rb\"))"
   ]
  },
  {
   "cell_type": "code",
   "execution_count": 3,
   "metadata": {},
   "outputs": [],
   "source": [
    "members = {}\n",
    "\n",
    "for subreddit in subreddits:\n",
    "    commentators = subreddits[subreddit].get('commentators',set())\n",
    "    submissioners = subreddits[subreddit].get('submissioners',set())\n",
    "    users = commentators|submissioners\n",
    "    if len(users) > 1000:\n",
    "        members[subreddit] = {\n",
    "            'commentators': commentators,\n",
    "            'submissioners': submissioners,\n",
    "            'users': users\n",
    "        }"
   ]
  },
  {
   "cell_type": "code",
   "execution_count": null,
   "metadata": {},
   "outputs": [],
   "source": [
    "pickle_out = open(\"../../Results/members.pickle\",\"wb\")\n",
    "pickle.dump(members, pickle_out)\n",
    "pickle_out.close()"
   ]
  }
 ],
 "metadata": {
  "kernelspec": {
   "display_name": "Python 3",
   "language": "python",
   "name": "python3"
  },
  "language_info": {
   "codemirror_mode": {
    "name": "ipython",
    "version": 3
   },
   "file_extension": ".py",
   "mimetype": "text/x-python",
   "name": "python",
   "nbconvert_exporter": "python",
   "pygments_lexer": "ipython3",
   "version": "3.7.1"
  }
 },
 "nbformat": 4,
 "nbformat_minor": 2
}
