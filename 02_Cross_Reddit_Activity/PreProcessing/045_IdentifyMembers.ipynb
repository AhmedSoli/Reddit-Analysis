{
 "cells": [
  {
   "cell_type": "markdown",
   "metadata": {},
   "source": [
    "### Import required libararies"
   ]
  },
  {
   "cell_type": "code",
   "execution_count": 2,
   "metadata": {},
   "outputs": [],
   "source": [
    "import pickle"
   ]
  },
  {
   "cell_type": "markdown",
   "metadata": {},
   "source": [
    "### Load dict holding information about the subreddits"
   ]
  },
  {
   "cell_type": "code",
   "execution_count": null,
   "metadata": {},
   "outputs": [],
   "source": [
    "subreddits = pickle.load(open(\"../../Results/subreddits.pickle\",\"rb\"))"
   ]
  },
  {
   "cell_type": "markdown",
   "metadata": {},
   "source": [
    "### Find members of each subreddit"
   ]
  },
  {
   "cell_type": "code",
   "execution_count": 3,
   "metadata": {},
   "outputs": [],
   "source": [
    "members = {}\n",
    "\n",
    "for subreddit in subreddits:\n",
    "    commentators = subreddits[subreddit].get('commentators',set())\n",
    "    submissioners = subreddits[subreddit].get('submissioners',set())\n",
    "    users = commentators|submissioners\n",
    "    if len(users) > 1000:\n",
    "        members[subreddit] = {\n",
    "            'commentators': commentators,\n",
    "            'submissioners': submissioners,\n",
    "            'users': users\n",
    "        }\n",
    "        \n",
    "pickle_out = open(\"../../Results/members.pickle\",\"wb\")\n",
    "pickle.dump(members, pickle_out)\n",
    "pickle_out.close()"
   ]
  }
 ],
 "metadata": {
  "kernelspec": {
   "display_name": "Python 3",
   "language": "python",
   "name": "python3"
  },
  "language_info": {
   "codemirror_mode": {
    "name": "ipython",
    "version": 3
   },
   "file_extension": ".py",
   "mimetype": "text/x-python",
   "name": "python",
   "nbconvert_exporter": "python",
   "pygments_lexer": "ipython3",
   "version": "3.7.1"
  }
 },
 "nbformat": 4,
 "nbformat_minor": 2
}
