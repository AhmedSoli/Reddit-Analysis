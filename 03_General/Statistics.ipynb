{
 "cells": [
  {
   "cell_type": "markdown",
   "metadata": {},
   "source": [
    "### Import required libraries"
   ]
  },
  {
   "cell_type": "code",
   "execution_count": 1,
   "metadata": {},
   "outputs": [],
   "source": [
    "import pickle\n",
    "import gzip"
   ]
  },
  {
   "cell_type": "markdown",
   "metadata": {},
   "source": [
    "### Load required data"
   ]
  },
  {
   "cell_type": "code",
   "execution_count": null,
   "metadata": {},
   "outputs": [],
   "source": [
    "members = pickle.load(gzip.open(\"../Results/members.pickle.gz\",\"rb\"))\n",
    "subreddits = pickle.load(gzip.open(\"../Results/subreddits.pickle.gz\",\"rb\"))"
   ]
  },
  {
   "cell_type": "markdown",
   "metadata": {},
   "source": [
    "### Count commentators/submissioners/comments/submissions in each subreddit"
   ]
  },
  {
   "cell_type": "code",
   "execution_count": 12,
   "metadata": {},
   "outputs": [],
   "source": [
    "counts = {}\n",
    "\n",
    "for subreddit in members:\n",
    "    \n",
    "    counts[subreddit] = {\n",
    "        'commentators': len(members[subreddit]['commentators']),\n",
    "        'submissioners': len(members[subreddit]['submissioners']),\n",
    "        'comments': sum(\n",
    "            [len(subreddits[subreddit]['comments'][commentator]) for commentator in subreddits[subreddit]['commentators']]\n",
    "        ),\n",
    "        'submissions': sum(\n",
    "            [len(subreddits[subreddit]['submissions'][submissioner]) for submissioner in subreddits[subreddit]['submissioners']]\n",
    "        ),\n",
    "        'users': len(members[subreddit]['users']),\n",
    "    }"
   ]
  },
  {
   "cell_type": "markdown",
   "metadata": {},
   "source": [
    "### Rank subreddits "
   ]
  },
  {
   "cell_type": "code",
   "execution_count": 18,
   "metadata": {},
   "outputs": [],
   "source": [
    "ranks = {\n",
    "    'users' : {subreddit: rank+1 for rank,subreddit in enumerate(sorted(counts,key=lambda x:counts[x]['users'],reverse=True))},\n",
    "    'comments' : {subreddit: rank+1 for rank,subreddit in enumerate(sorted(counts,key=lambda x:counts[x]['comments'],reverse=True))},\n",
    "    'submissions' : {subreddit: rank+1 for rank,subreddit in enumerate(sorted(counts,key=lambda x:counts[x]['submissions'],reverse=True))},\n",
    "}"
   ]
  },
  {
   "cell_type": "markdown",
   "metadata": {},
   "source": [
    "### Generate Latex Tables"
   ]
  },
  {
   "cell_type": "code",
   "execution_count": 30,
   "metadata": {},
   "outputs": [
    {
     "name": "stdout",
     "output_type": "stream",
     "text": [
      "politics & 14 & 1022625 & 2 & 58030232 & 18 & 1152109 & 532269637 & 319909394 \\\\\n",
      "The_Donald & 31 & 599849 & 3 & 33620546 & 4 & 3631114 & 298061698 & 737763646 \\\\\n",
      "SandersForPresident & 141 & 208435 & 88 & 3921373 & 151 & 205528 & 23159433 & 27983407 \\\\\n",
      "Conservative & 370 & 93571 & 245 & 1732239 & 224 & 142048 & 10256711 & 5522857 \\\\\n"
     ]
    }
   ],
   "source": [
    "for board in ['politics','The_Donald','SandersForPresident','Conservative']:\n",
    "    print(board,\"&\",\n",
    "          ranks['users'][board],\"&\",counts[board]['users'],\"&\",\n",
    "          ranks['comments'][board],\"&\", counts[board]['comments'],\"&\",\n",
    "          ranks['submissions'][board],\"&\", counts[board]['submissions'],\n",
    "          \"&\",sum(comments_analysis[board]['values']['sum_votes']),\n",
    "          \"&\",sum(submissions_analysis[board]['values']['sum_votes']),\n",
    "          \"\\\\\\\\\")"
   ]
  }
 ],
 "metadata": {
  "kernelspec": {
   "display_name": "Python 3",
   "language": "python",
   "name": "python3"
  },
  "language_info": {
   "codemirror_mode": {
    "name": "ipython",
    "version": 3
   },
   "file_extension": ".py",
   "mimetype": "text/x-python",
   "name": "python",
   "nbconvert_exporter": "python",
   "pygments_lexer": "ipython3",
   "version": "3.7.1"
  }
 },
 "nbformat": 4,
 "nbformat_minor": 2
}
