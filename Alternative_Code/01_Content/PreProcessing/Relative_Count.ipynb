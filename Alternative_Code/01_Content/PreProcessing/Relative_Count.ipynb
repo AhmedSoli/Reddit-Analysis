{
 "cells": [
  {
   "cell_type": "code",
   "execution_count": 4,
   "metadata": {},
   "outputs": [],
   "source": [
    "import pickle\n",
    "import gzip"
   ]
  },
  {
   "cell_type": "code",
   "execution_count": 9,
   "metadata": {},
   "outputs": [],
   "source": [
    "word_freq = pickle.load(gzip.open(\"../../Results/com_word_freq_perc.pickle.gz\",\"rb\"))\n",
    "word_freq_alt = pickle.load(gzip.open(\"../../Results/com_word_freq_perc_alt.pickle.gz\",\"rb\"))"
   ]
  },
  {
   "cell_type": "code",
   "execution_count": 6,
   "metadata": {},
   "outputs": [
    {
     "data": {
      "text/plain": [
       "dict_keys(['politics', 'NeutralPolitics', 'SandersForPresident', 'The_Donald', 'hillaryclinton', 'Republican', 'democrats'])"
      ]
     },
     "execution_count": 6,
     "metadata": {},
     "output_type": "execute_result"
    }
   ],
   "source": [
    "word_freq.keys()"
   ]
  },
  {
   "cell_type": "code",
   "execution_count": 13,
   "metadata": {},
   "outputs": [
    {
     "data": {
      "text/plain": [
       "dict_keys(['politics', 'NeutralPolitics', 'SandersForPresident', 'The_Donald', 'hillaryclinton', 'Republican', 'democrats', 'The_Farage', 'Le_Pen', 'altright', 'progressive', 'Conservative', 'ukpolitics', 'LateStageCapitalism', 'Libertarian'])"
      ]
     },
     "execution_count": 13,
     "metadata": {},
     "output_type": "execute_result"
    }
   ],
   "source": [
    "word_freq.keys()"
   ]
  },
  {
   "cell_type": "code",
   "execution_count": 15,
   "metadata": {},
   "outputs": [
    {
     "name": "stdout",
     "output_type": "stream",
     "text": [
      "99.99999998613328\n",
      "100.00000000019018\n",
      "100.00000000226693\n",
      "99.99999998217793\n",
      "100.00000000145792\n",
      "100.00000000040828\n",
      "100.00000000025511\n",
      "99.99999999996076\n",
      "100.00000000005375\n",
      "100.00000000013179\n",
      "100.00000000013843\n",
      "100.00000000121392\n",
      "100.00000000161782\n",
      "99.999999999249\n",
      "99.99999999850088\n"
     ]
    }
   ],
   "source": [
    "for s in word_freq:\n",
    "    print(sum(word_freq[s].values()))"
   ]
  },
  {
   "cell_type": "code",
   "execution_count": null,
   "metadata": {},
   "outputs": [],
   "source": [
    "pickle_out = open('../../Results/word_freq.pickle','wb')\n",
    "pickle.dump(word_freq,pickle_out)\n",
    "pickle_out.close()"
   ]
  }
 ],
 "metadata": {
  "kernelspec": {
   "display_name": "Python 3",
   "language": "python",
   "name": "python3"
  },
  "language_info": {
   "codemirror_mode": {
    "name": "ipython",
    "version": 3
   },
   "file_extension": ".py",
   "mimetype": "text/x-python",
   "name": "python",
   "nbconvert_exporter": "python",
   "pygments_lexer": "ipython3",
   "version": "3.7.1"
  }
 },
 "nbformat": 4,
 "nbformat_minor": 2
}
