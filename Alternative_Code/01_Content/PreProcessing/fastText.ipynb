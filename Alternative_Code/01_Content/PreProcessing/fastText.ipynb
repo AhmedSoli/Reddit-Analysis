{
 "cells": [
  {
   "cell_type": "code",
   "execution_count": 17,
   "metadata": {},
   "outputs": [],
   "source": [
    "import gzip\n",
    "import pickle\n",
    "import string\n",
    "\n",
    "comments_corpus = pickle.load(gzip.open(\"../../Results/comments_corpus.pickle.gz\",\"rb\"))\n",
    "comments_corpus.update(pickle.load(gzip.open(\"../../Results/comments_corpus_alt.pickle.gz\",\"rb\")))"
   ]
  },
  {
   "cell_type": "code",
   "execution_count": 22,
   "metadata": {},
   "outputs": [],
   "source": [
    "for subreddit in comments_corpus:\n",
    "    with open(\"../../../../\" + subreddit + \".txt\",\"w+\") as f:\n",
    "        for comment in comments_corpus[subreddit]:\n",
    "            if comment not in ['[deleted]','[removed]']:\n",
    "                comment = comment.replace('\\n',' ').translate(str.maketrans('', '', string.punctuation)) + \"\\n\"\n",
    "                f.write(comment)"
   ]
  },
  {
   "cell_type": "code",
   "execution_count": null,
   "metadata": {},
   "outputs": [],
   "source": [
    "import os   \n",
    "from multiprocessing import Pool\n",
    "\n",
    "def worker(subreddit):\n",
    "    command = '/home/asol/fastText/fasttext skipgram -input /home/asol/' + subreddit + '.txt -output ' + subreddit\n",
    "    os.system(command)\n",
    "    \n",
    "p = Pool(len(comments_corpus))\n",
    "print(p.map(worker, list(comments_corpus.keys())))\n",
    "p.close()"
   ]
  },
  {
   "cell_type": "code",
   "execution_count": null,
   "metadata": {},
   "outputs": [],
   "source": []
  }
 ],
 "metadata": {
  "kernelspec": {
   "display_name": "Python 3",
   "language": "python",
   "name": "python3"
  },
  "language_info": {
   "codemirror_mode": {
    "name": "ipython",
    "version": 3
   },
   "file_extension": ".py",
   "mimetype": "text/x-python",
   "name": "python",
   "nbconvert_exporter": "python",
   "pygments_lexer": "ipython3",
   "version": "3.7.1"
  }
 },
 "nbformat": 4,
 "nbformat_minor": 2
}
