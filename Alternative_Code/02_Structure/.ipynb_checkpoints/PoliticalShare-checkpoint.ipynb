{
 "cells": [
  {
   "cell_type": "code",
   "execution_count": 1,
   "metadata": {},
   "outputs": [],
   "source": [
    "import pickle\n",
    "import gzip\n",
    "\n",
    "active_members = pickle.load(gzip.open('../Results/active_members.pickle.gz','rb'))"
   ]
  },
  {
   "cell_type": "code",
   "execution_count": 7,
   "metadata": {},
   "outputs": [],
   "source": [
    "political_users = {\n",
    "    'commentators': set(),\n",
    "    'submissioners': set(),\n",
    "    'users': set()\n",
    "}\n",
    "\n",
    "for subreddit in ['politics','SandersForPresident','NeutralPolitics','The_Donald']:\n",
    "    political_users['commentators'].update(active_members[subreddit]['commentators'])\n",
    "    political_users['submissioners'].update(active_members[subreddit]['submissioners'])\n",
    "    political_users['users'].update(active_members[subreddit]['users'])"
   ]
  },
  {
   "cell_type": "code",
   "execution_count": 23,
   "metadata": {},
   "outputs": [],
   "source": [
    "political_share = {}\n",
    "\n",
    "for subreddit in active_members:\n",
    "    \n",
    "        \n",
    "        all = {\n",
    "            'commentators': float(len(active_members[subreddit]['commentators'])),\n",
    "            'submissioners': float(len(active_members[subreddit]['submissioners'])),\n",
    "            'users': float(len(active_members[subreddit]['users'])),\n",
    "        }\n",
    "            \n",
    "        if all['users'] > 500:\n",
    "            political_share[subreddit] = {}\n",
    "\n",
    "            common = {\n",
    "                'commentators': \n",
    "                    len(active_members[subreddit]['commentators'].intersection(political_users['commentators'])),\n",
    "                'submissioners':\n",
    "                    len(active_members[subreddit]['submissioners'].intersection(political_users['submissioners'])),\n",
    "                'users':\n",
    "                    len(active_members[subreddit]['users'].intersection(political_users['users'])),\n",
    "            }\n",
    "\n",
    "\n",
    "            if all['commentators'] == 0:\n",
    "                political_share[subreddit]['commentators'] = 0\n",
    "            else:\n",
    "                political_share[subreddit]['commentators'] = common['commentators'] / all['commentators']\n",
    "\n",
    "            if all['submissioners'] == 0:\n",
    "                political_share[subreddit]['submissioners'] = 0\n",
    "            else:\n",
    "                political_share[subreddit]['submissioners'] = common['submissioners'] / all['submissioners']\n",
    "\n",
    "            if all['users'] == 0:\n",
    "                political_share[subreddit]['users'] = 0\n",
    "            else:\n",
    "                political_share[subreddit]['users'] = common['users'] / all['users']\n"
   ]
  },
  {
   "cell_type": "code",
   "execution_count": 29,
   "metadata": {},
   "outputs": [],
   "source": [
    "pickle_out = open(\"../Results/political_share.pickle\",\"wb\")\n",
    "pickle.dump(political_share, pickle_out)\n",
    "pickle_out.close()"
   ]
  },
  {
   "cell_type": "code",
   "execution_count": 30,
   "metadata": {},
   "outputs": [],
   "source": [
    "political_share_sorted = sorted(political_share.items(),key=lambda x:x[1]['users'],reverse=True)"
   ]
  },
  {
   "cell_type": "code",
   "execution_count": 41,
   "metadata": {},
   "outputs": [
    {
     "name": "stdout",
     "output_type": "stream",
     "text": [
      "1* & The\\_Donald & 1* & politics \\\\\n",
      "1* & SandersForPresident & 1* & NeutralPolitics \\\\\n",
      "2 & The\\_Congress & 3 & Mr\\_Trump \\\\\n",
      "4 & tucker\\_carlson & 5 & HillaryForPrison \\\\\n",
      "6 & redacted & 7 & OurPresident \\\\\n",
      "8 & AskBernieSupporters & 9 & the\\_meltdown \\\\\n",
      "10 & Political\\_Revolution & 11 & DNCleaks \\\\\n",
      "12 & HillaryMeltdown & 13 & hottiesfortrump \\\\\n",
      "14 & POTUSWatch & 15 & The\\_Farage \\\\\n",
      "16 & esist & 17 & Le\\_Pen \\\\\n",
      "18 & jillstein & 19 & progressive \\\\\n",
      "20 & MarchAgainstTrump & 21 & AskThe\\_Donald \\\\\n"
     ]
    }
   ],
   "source": [
    "for i in range(0,2):\n",
    "    print(\"1*\",\"&\",political_share_sorted[i * 2][0].replace(\"_\",\"\\_\"), \"&\", \\\n",
    "          \"1*\", \"&\", political_share_sorted[i * 2 + 1][0].replace(\"_\",\"\\_\"),\"\\\\\\\\\")\n",
    "    \n",
    "for i in range(2,12):\n",
    "    print(i * 2 - 2,\"&\",political_share_sorted[i * 2][0].replace(\"_\",\"\\_\"), \"&\", \\\n",
    "          i * 2 - 1, \"&\", political_share_sorted[i * 2 + 1][0].replace(\"_\",\"\\_\"),\"\\\\\\\\\")"
   ]
  },
  {
   "cell_type": "code",
   "execution_count": null,
   "metadata": {},
   "outputs": [],
   "source": []
  }
 ],
 "metadata": {
  "kernelspec": {
   "display_name": "Python 3",
   "language": "python",
   "name": "python3"
  },
  "language_info": {
   "codemirror_mode": {
    "name": "ipython",
    "version": 3
   },
   "file_extension": ".py",
   "mimetype": "text/x-python",
   "name": "python",
   "nbconvert_exporter": "python",
   "pygments_lexer": "ipython3",
   "version": "3.7.1"
  }
 },
 "nbformat": 4,
 "nbformat_minor": 2
}
