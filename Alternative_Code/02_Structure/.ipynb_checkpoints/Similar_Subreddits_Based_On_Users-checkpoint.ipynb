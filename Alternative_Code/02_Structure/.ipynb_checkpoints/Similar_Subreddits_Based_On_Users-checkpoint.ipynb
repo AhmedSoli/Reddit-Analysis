{
 "cells": [
  {
   "cell_type": "code",
   "execution_count": 1,
   "metadata": {},
   "outputs": [],
   "source": [
    "import pickle\n",
    "import gzip \n",
    "\n",
    "vectors = pickle.load(gzip.open('../Results/0to50k.pickle.gz',\"rb\"))\n",
    "active_members = pickle.load(gzip.open('../Results/active_members.pickle.gz',\"rb\"))"
   ]
  },
  {
   "cell_type": "code",
   "execution_count": 10,
   "metadata": {},
   "outputs": [],
   "source": [
    "counts = {}\n",
    "\n",
    "for board in active_members:\n",
    "    counts[board] = len(active_members[board]['users'])\n",
    "    \n",
    "boards_sorted = sorted(counts,key=lambda x: counts[x],reverse=True)"
   ]
  },
  {
   "cell_type": "code",
   "execution_count": 40,
   "metadata": {},
   "outputs": [],
   "source": [
    "def same_user_base(board,filter = 500):\n",
    "    global boards_sorted\n",
    "    global vectors\n",
    "    global counts\n",
    "    idx = (-vectors[board]).argsort()[0:1000]\n",
    "    i = 0\n",
    "    for id in idx:\n",
    "        if counts[boards_sorted[id + 1]] > filter:\n",
    "            i += 1\n",
    "            print(boards_sorted[id + 1])\n",
    "        if i == 10:\n",
    "            break"
   ]
  },
  {
   "cell_type": "code",
   "execution_count": 48,
   "metadata": {},
   "outputs": [
    {
     "name": "stdout",
     "output_type": "stream",
     "text": [
      "SandersForPresident\n",
      "jillstein\n",
      "Political_Revolution\n",
      "Kossacks_for_Sanders\n",
      "OurPresident\n",
      "justicedemocrats\n",
      "AskBernieSupporters\n",
      "DNCleaks\n",
      "WayOfTheBern\n",
      "HillaryForPrison\n"
     ]
    }
   ],
   "source": [
    "same_user_base('SandersForPresident')"
   ]
  },
  {
   "cell_type": "code",
   "execution_count": 49,
   "metadata": {},
   "outputs": [
    {
     "name": "stdout",
     "output_type": "stream",
     "text": [
      "politics\n",
      "the_meltdown\n",
      "OurPresident\n",
      "esist\n",
      "RussiaLago\n",
      "MarchAgainstTrump\n",
      "Impeach_Trump\n",
      "Political_Revolution\n",
      "progressive\n",
      "BlueMidterm2018\n"
     ]
    }
   ],
   "source": [
    "same_user_base('politics')"
   ]
  },
  {
   "cell_type": "code",
   "execution_count": 50,
   "metadata": {},
   "outputs": [
    {
     "name": "stdout",
     "output_type": "stream",
     "text": [
      "The_Donald\n",
      "The_Congress\n",
      "Mr_Trump\n",
      "tucker_carlson\n",
      "The_Farage\n",
      "Le_Pen\n",
      "The_Europe\n",
      "HillaryMeltdown\n",
      "Physical_Removal\n",
      "redacted\n"
     ]
    }
   ],
   "source": [
    "same_user_base('The_Donald')"
   ]
  },
  {
   "cell_type": "code",
   "execution_count": 51,
   "metadata": {},
   "outputs": [
    {
     "name": "stdout",
     "output_type": "stream",
     "text": [
      "Conservative\n",
      "conservatives\n",
      "Republican\n",
      "askaconservative\n",
      "ShitRConservativeSays\n",
      "POTUSWatch\n",
      "ShitPoliticsSays\n",
      "TheNewRight\n",
      "prolife\n",
      "randpaul\n"
     ]
    }
   ],
   "source": [
    "same_user_base('Conservative')"
   ]
  },
  {
   "cell_type": "code",
   "execution_count": 52,
   "metadata": {},
   "outputs": [
    {
     "name": "stdout",
     "output_type": "stream",
     "text": [
      "Republican\n",
      "conservatives\n"
     ]
    }
   ],
   "source": [
    "same_user_base('Republican')"
   ]
  },
  {
   "cell_type": "code",
   "execution_count": 53,
   "metadata": {},
   "outputs": [
    {
     "name": "stdout",
     "output_type": "stream",
     "text": [
      "progressive\n",
      "Liberal\n"
     ]
    }
   ],
   "source": [
    "same_user_base('progressive')"
   ]
  },
  {
   "cell_type": "code",
   "execution_count": 54,
   "metadata": {},
   "outputs": [
    {
     "name": "stdout",
     "output_type": "stream",
     "text": [
      "BlueMidterm2018\n",
      "Impeach_Trump\n",
      "democrats\n",
      "justicedemocrats\n"
     ]
    }
   ],
   "source": [
    "same_user_base('BlueMidterm2018')"
   ]
  },
  {
   "cell_type": "code",
   "execution_count": 55,
   "metadata": {},
   "outputs": [
    {
     "name": "stdout",
     "output_type": "stream",
     "text": [
      "hillaryclinton\n",
      "EnoughHillHate\n",
      "enoughsandersspam\n",
      "Enough_Sanders_Spam\n",
      "democrats\n"
     ]
    }
   ],
   "source": [
    "same_user_base('hillaryclinton')"
   ]
  },
  {
   "cell_type": "code",
   "execution_count": 56,
   "metadata": {},
   "outputs": [
    {
     "name": "stdout",
     "output_type": "stream",
     "text": [
      "democrats\n",
      "Liberal\n",
      "progressive\n",
      "uspolitics\n"
     ]
    }
   ],
   "source": [
    "same_user_base('democrats')"
   ]
  },
  {
   "cell_type": "code",
   "execution_count": 57,
   "metadata": {},
   "outputs": [
    {
     "name": "stdout",
     "output_type": "stream",
     "text": [
      "Liberal\n",
      "progressive\n",
      "democrats\n"
     ]
    }
   ],
   "source": [
    "same_user_base('Liberal')"
   ]
  },
  {
   "cell_type": "code",
   "execution_count": 59,
   "metadata": {},
   "outputs": [
    {
     "name": "stdout",
     "output_type": "stream",
     "text": [
      "neutralnews\n",
      "NeutralPolitics\n"
     ]
    }
   ],
   "source": [
    "same_user_base('neutralnews')"
   ]
  },
  {
   "cell_type": "code",
   "execution_count": 60,
   "metadata": {},
   "outputs": [
    {
     "name": "stdout",
     "output_type": "stream",
     "text": [
      "NeutralPolitics\n",
      "neutralnews\n",
      "moderatepolitics\n"
     ]
    }
   ],
   "source": [
    "same_user_base('NeutralPolitics')"
   ]
  },
  {
   "cell_type": "code",
   "execution_count": 62,
   "metadata": {},
   "outputs": [
    {
     "name": "stdout",
     "output_type": "stream",
     "text": [
      "randpaul\n"
     ]
    }
   ],
   "source": [
    "same_user_base('randpaul')"
   ]
  },
  {
   "cell_type": "code",
   "execution_count": 65,
   "metadata": {},
   "outputs": [
    {
     "name": "stdout",
     "output_type": "stream",
     "text": [
      "philosophy\n",
      "askphilosophy\n",
      "badphilosophy\n",
      "CriticalTheory\n"
     ]
    }
   ],
   "source": [
    "same_user_base('philosophy')"
   ]
  },
  {
   "cell_type": "code",
   "execution_count": 66,
   "metadata": {},
   "outputs": [
    {
     "name": "stdout",
     "output_type": "stream",
     "text": [
      "ThreadGames\n",
      "nocontext\n",
      "LifeProTips\n",
      "bestof\n",
      "CrazyIdeas\n",
      "YouShouldKnow\n",
      "nottheonion\n",
      "jesuschristreddit\n",
      "UNBGBBIIVCHIDCTIICBG\n",
      "coolguides\n"
     ]
    }
   ],
   "source": [
    "same_user_base('AskReddit')"
   ]
  },
  {
   "cell_type": "code",
   "execution_count": 67,
   "metadata": {},
   "outputs": [
    {
     "name": "stdout",
     "output_type": "stream",
     "text": [
      "LSD\n",
      "1P_LSD\n",
      "Psychedelics\n",
      "DMT\n",
      "microdosing\n",
      "drugscirclejerk\n",
      "ketamine\n",
      "RationalPsychonaut\n",
      "drugsarebeautiful\n",
      "shrooms\n"
     ]
    }
   ],
   "source": [
    "same_user_base('LSD')"
   ]
  },
  {
   "cell_type": "code",
   "execution_count": 68,
   "metadata": {},
   "outputs": [
    {
     "name": "stdout",
     "output_type": "stream",
     "text": [
      "ukpolitics\n",
      "badunitedkingdom\n",
      "LabourUK\n",
      "unitedkingdom\n",
      "brexit\n",
      "BritishSuccess\n",
      "Wales\n",
      "Scotland\n",
      "BritishTV\n",
      "ukbike\n"
     ]
    }
   ],
   "source": [
    "same_user_base('ukpolitics')"
   ]
  },
  {
   "cell_type": "code",
   "execution_count": 77,
   "metadata": {},
   "outputs": [
    {
     "name": "stdout",
     "output_type": "stream",
     "text": [
      "worldnews\n",
      "u_washingtonpost\n",
      "TrumpCriticizesTrump\n",
      "OurPresident\n",
      "blog\n",
      "esist\n",
      "bestof\n",
      "UpliftingNews\n",
      "MarchAgainstTrump\n",
      "announcements\n"
     ]
    }
   ],
   "source": [
    "same_user_base('worldnews')"
   ]
  },
  {
   "cell_type": "code",
   "execution_count": 78,
   "metadata": {},
   "outputs": [
    {
     "name": "stdout",
     "output_type": "stream",
     "text": [
      "altright\n",
      "europeannationalism\n",
      "WhiteRights\n",
      "The_Europe\n",
      "DebateAltRight\n"
     ]
    }
   ],
   "source": [
    "same_user_base('altright')"
   ]
  },
  {
   "cell_type": "code",
   "execution_count": null,
   "metadata": {},
   "outputs": [],
   "source": []
  }
 ],
 "metadata": {
  "kernelspec": {
   "display_name": "Python 3",
   "language": "python",
   "name": "python3"
  },
  "language_info": {
   "codemirror_mode": {
    "name": "ipython",
    "version": 3
   },
   "file_extension": ".py",
   "mimetype": "text/x-python",
   "name": "python",
   "nbconvert_exporter": "python",
   "pygments_lexer": "ipython3",
   "version": "3.7.1"
  }
 },
 "nbformat": 4,
 "nbformat_minor": 2
}
