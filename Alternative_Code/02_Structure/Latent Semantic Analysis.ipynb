{
 "cells": [
  {
   "cell_type": "code",
   "execution_count": 31,
   "metadata": {},
   "outputs": [],
   "source": [
    "import gzip\n",
    "import pickle\n",
    "from MulticoreTSNE import MulticoreTSNE as TSNE\n",
    "import numpy as np\n",
    "import plotly.plotly as py\n",
    "import plotly.graph_objs as go\n",
    "from sklearn.metrics.pairwise import cosine_similarity\n",
    "\n",
    "\n",
    "def similar_vectors(board,vectors_key,k=5,skip=[]):\n",
    "    global vectors\n",
    "    similarity = {}\n",
    "    \n",
    "    if len(skip) == 0:\n",
    "        skip = [board]\n",
    "  \n",
    "    for subreddit in vectors[vectors_key]:\n",
    "        if subreddit not in skip:\n",
    "            similarity[subreddit] = cosine_similarity( \\\n",
    "                vectors[vectors_key][board].reshape(1,-1),vectors[vectors_key][subreddit].reshape(1,-1))\n",
    "    \n",
    "    return sorted(similarity,key = lambda x:similarity[x],reverse=True)[0:k]\n",
    "\n",
    "def plot(points,labels):\n",
    "    trace = go.Scatter(\n",
    "        x = points[:,0],\n",
    "        y = points[:,1],\n",
    "        mode = 'markers+text',\n",
    "        marker = {\n",
    "            'size': 5,\n",
    "            'colorscale': 'Viridis',\n",
    "            'opacity': 1\n",
    "        },\n",
    "        text = labels,\n",
    "        textposition = \"top center\"\n",
    "    )\n",
    "\n",
    "    data = [trace]\n",
    "\n",
    "    # Plot and embed in ipython notebook!\n",
    "    display(py.iplot(data, filename='basic-scatter'))\n",
    "\n",
    "def transform_and_plot(vector_key,boards):\n",
    "    global vectors\n",
    "    tsne = TSNE(n_jobs=72)\n",
    "    points = tsne.fit_transform(np.array([vectors['politics'][board] for board in boards]))\n",
    "    plot(points,boards)"
   ]
  },
  {
   "cell_type": "code",
   "execution_count": 2,
   "metadata": {},
   "outputs": [],
   "source": [
    "vectors = {}\n",
    "vectors['small'] = pickle.load(gzip.open('../Results/0to500.pickle.gz',\"rb\"))\n",
    "vectors['mediam'] = pickle.load(gzip.open('../Results/0to2500.pickle.gz',\"rb\"))\n",
    "vectors['medium_alt'] = pickle.load(gzip.open('../Results/2500to5000.pickle.gz',\"rb\"))\n",
    "vectors['politics'] = pickle.load(gzip.open('../Results/politics.pickle.gz',\"rb\"))\n",
    "vectors['politics_alt'] = pickle.load(gzip.open('../Results/politics_alt.pickle.gz',\"rb\"))\n",
    "vectors['sanders_The_Donald'] = pickle.load(gzip.open('../Results/sanders_The_Donald.pickle.gz',\"rb\"))\n",
    "# vectors['large'] = pickle.load(gzip.open('../Results/0to25k_active_members.pickle.gz',\"rb\"))\n",
    "# vectors['xlarge'] = pickle.load(gzip.open('../Results/0to50k_active_members.pickle.gz',\"rb\"))"
   ]
  },
  {
   "cell_type": "code",
   "execution_count": 10,
   "metadata": {},
   "outputs": [],
   "source": [
    "political_share = pickle.load(gzip.open('../Results/political_share.pickle.gz',\"rb\"))\n",
    "political_boards = sorted(political_share,key=lambda x:political_share[x]['users'],reverse=True)[0:50]"
   ]
  },
  {
   "cell_type": "code",
   "execution_count": 25,
   "metadata": {},
   "outputs": [],
   "source": [
    "political_boards = ['politics','The_Donald','hillaryclinton','SandersForPresident','Conservative','progressive', \\\n",
    "        'NeutralPolitics','neutralnews','worldnews','news','Le_Pen','The_Farage', \\\n",
    "        'democrats','Republican','altright','RightwingLGBT','AskThe_Donald',\\\n",
    "         'WhiteRights','moderatepolitics','HillaryForAmerica','BlueMidterm2018','esist',\\\n",
    "         'GrassrootsSelect','BannedFromThe_Donald','BernTheConvention','ShitPoliticsSays',\\\n",
    "         'ShitThe_DonaldSays','AskTrumpSupporters','OurPresident','AskBernieSupporters','StillSandersForPres',\\\n",
    "          'The_Europe','askhillarysupporters','DNCleaks','TrumpForPrison','HillaryForPrison','Mr_Trump',\\\n",
    "          'EnoughHillHate','justicedemocrats','ShitRConservativeSays','enoughsandersspam','Enough_Sanders_Spam']"
   ]
  },
  {
   "cell_type": "code",
   "execution_count": 32,
   "metadata": {},
   "outputs": [
    {
     "data": {
      "text/html": [
       "<iframe id=\"igraph\" scrolling=\"no\" style=\"border:none;\" seamless=\"seamless\" src=\"https://plot.ly/~asoliman96/12.embed\" height=\"525px\" width=\"100%\"></iframe>"
      ],
      "text/plain": [
       "<plotly.tools.PlotlyDisplay object>"
      ]
     },
     "metadata": {},
     "output_type": "display_data"
    }
   ],
   "source": [
    "transform_and_plot('politics',political_boards)"
   ]
  },
  {
   "cell_type": "code",
   "execution_count": 33,
   "metadata": {},
   "outputs": [
    {
     "data": {
      "text/html": [
       "<iframe id=\"igraph\" scrolling=\"no\" style=\"border:none;\" seamless=\"seamless\" src=\"https://plot.ly/~asoliman96/12.embed\" height=\"525px\" width=\"100%\"></iframe>"
      ],
      "text/plain": [
       "<plotly.tools.PlotlyDisplay object>"
      ]
     },
     "metadata": {},
     "output_type": "display_data"
    }
   ],
   "source": [
    "transform_and_plot('politics_alt',political_boards)"
   ]
  },
  {
   "cell_type": "code",
   "execution_count": 36,
   "metadata": {},
   "outputs": [
    {
     "data": {
      "text/html": [
       "<iframe id=\"igraph\" scrolling=\"no\" style=\"border:none;\" seamless=\"seamless\" src=\"https://plot.ly/~asoliman96/12.embed\" height=\"525px\" width=\"100%\"></iframe>"
      ],
      "text/plain": [
       "<plotly.tools.PlotlyDisplay object>"
      ]
     },
     "metadata": {},
     "output_type": "display_data"
    }
   ],
   "source": [
    "transform_and_plot('sanders_The_Donald',political_boards)"
   ]
  },
  {
   "cell_type": "code",
   "execution_count": null,
   "metadata": {},
   "outputs": [],
   "source": []
  }
 ],
 "metadata": {
  "kernelspec": {
   "display_name": "Python 3",
   "language": "python",
   "name": "python3"
  },
  "language_info": {
   "codemirror_mode": {
    "name": "ipython",
    "version": 3
   },
   "file_extension": ".py",
   "mimetype": "text/x-python",
   "name": "python",
   "nbconvert_exporter": "python",
   "pygments_lexer": "ipython3",
   "version": "3.7.1"
  }
 },
 "nbformat": 4,
 "nbformat_minor": 2
}
