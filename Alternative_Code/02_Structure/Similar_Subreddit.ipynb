{
 "cells": [
  {
   "cell_type": "code",
   "execution_count": 1,
   "metadata": {},
   "outputs": [],
   "source": [
    "import pickle\n",
    "import gzip \n",
    "from sklearn.metrics.pairwise import cosine_similarity\n",
    "import numpy as np"
   ]
  },
  {
   "cell_type": "code",
   "execution_count": 2,
   "metadata": {},
   "outputs": [],
   "source": [
    "vectors = pickle.load(gzip.open('../Results/0to50k.pickle.gz',\"rb\"))\n",
    "active_members = pickle.load(gzip.open('../Results/active_members.pickle.gz',\"rb\"))"
   ]
  },
  {
   "cell_type": "code",
   "execution_count": 3,
   "metadata": {},
   "outputs": [],
   "source": [
    "members = pickle.load(gzip.open('../Results/members.pickle.gz',\"rb\"))"
   ]
  },
  {
   "cell_type": "code",
   "execution_count": 6,
   "metadata": {},
   "outputs": [],
   "source": [
    "counts = pickle.load(gzip.open('../Results/counts.pickle.gz',\"rb\"))"
   ]
  },
  {
   "cell_type": "code",
   "execution_count": 14,
   "metadata": {},
   "outputs": [],
   "source": [
    "def similar_vectors(board,k=50,skip=[]):\n",
    "    global vectors\n",
    "    similarity = {}\n",
    "    \n",
    "    if len(skip) == 0:\n",
    "        skip = [board]\n",
    "  \n",
    "    for subreddit in vectors:\n",
    "        if subreddit not in skip:\n",
    "            similarity[subreddit] = cosine_similarity( \\\n",
    "                vectors[board].reshape(1,-1),vectors[subreddit].reshape(1,-1))\n",
    "    \n",
    "    return sorted(similarity,key = lambda x:similarity[x],reverse=True)[0:k]\n",
    "\n",
    "def add(b1,b2,k=50,skip=[]):\n",
    "    global vectors\n",
    "    similarity = {}\n",
    "    \n",
    "    if len(skip) == 0:\n",
    "        skip = [b1,b2]\n",
    "        \n",
    "    result = vectors[b1] + vectors[b2]\n",
    "  \n",
    "    for subreddit in vectors:\n",
    "        if subreddit not in skip:\n",
    "            similarity[subreddit] = cosine_similarity( \\\n",
    "                result.reshape(1,-1),vectors[subreddit].reshape(1,-1))\n",
    "    \n",
    "    return sorted(similarity,key = lambda x:similarity[x],reverse=True)[0:k]\n",
    "\n",
    "\n",
    "def subtract(b1,b2,k=50,skip=[]):\n",
    "    global vectors\n",
    "    similarity = {}\n",
    "    \n",
    "    if len(skip) == 0:\n",
    "        skip = [b1,b2]\n",
    "        \n",
    "    result = vectors[b1] - vectors[b2]\n",
    "  \n",
    "    for subreddit in vectors:\n",
    "        if subreddit not in skip:\n",
    "            similarity[subreddit] = cosine_similarity( \\\n",
    "                result.reshape(1,-1),vectors[subreddit].reshape(1,-1))\n",
    "    \n",
    "    return sorted(similarity,key = lambda x:similarity[x],reverse=True)[0:k]"
   ]
  },
  {
   "cell_type": "code",
   "execution_count": 15,
   "metadata": {},
   "outputs": [],
   "source": [
    "sim = {}\n",
    "boards = ['hillaryclinton','SandersForPresident','politics','The_Donald','Conservative']"
   ]
  },
  {
   "cell_type": "code",
   "execution_count": 16,
   "metadata": {},
   "outputs": [],
   "source": [
    "for board in boards:\n",
    "    sim[board] = similar_vectors(board)"
   ]
  },
  {
   "cell_type": "code",
   "execution_count": 21,
   "metadata": {
    "collapsed": true
   },
   "outputs": [
    {
     "name": "stdout",
     "output_type": "stream",
     "text": [
      "hillaryclinton\n",
      "{'hillaryclinton': ['BlueMidterm2018', 'MakingaMurderer', 'democrats', 'Enough_Sanders_Spam', 'Political_Revolution', 'washingtondc', 'progressive', 'enoughsandersspam', 'Blackfellas', 'neoliberal', 'samharris', 'circlebroke2', 'pittsburgh', 'circlebroke', 'ShitLiberalsSay', 'baltimore', 'AgainstHateSubreddits', 'WikiLeaks', 'Judaism', 'medicine']}\n",
      "\n",
      "\n",
      "SandersForPresident\n",
      "{'hillaryclinton': ['BlueMidterm2018', 'MakingaMurderer', 'democrats', 'Enough_Sanders_Spam', 'Political_Revolution', 'washingtondc', 'progressive', 'enoughsandersspam', 'Blackfellas', 'neoliberal', 'samharris', 'circlebroke2', 'pittsburgh', 'circlebroke', 'ShitLiberalsSay', 'baltimore', 'AgainstHateSubreddits', 'WikiLeaks', 'Judaism', 'medicine'], 'SandersForPresident': ['PoliticalDiscussion', 'Political_Revolution', 'EnoughTrumpSpam', 'LateStageCapitalism', 'MarchAgainstTrump', 'esist', 'AskTrumpSupporters', 'bestof', 'TrueReddit', 'Conservative', 'dataisbeautiful', 'hillaryclinton', 'Libertarian', 'uncensorednews', 'socialism', 'PoliticalHumor', 'atheism', 'changemyview', 'Economics', 'SubredditDrama']}\n",
      "\n",
      "\n",
      "politics\n",
      "{'hillaryclinton': ['BlueMidterm2018', 'MakingaMurderer', 'democrats', 'Enough_Sanders_Spam', 'Political_Revolution', 'washingtondc', 'progressive', 'enoughsandersspam', 'Blackfellas', 'neoliberal', 'samharris', 'circlebroke2', 'pittsburgh', 'circlebroke', 'ShitLiberalsSay', 'baltimore', 'AgainstHateSubreddits', 'WikiLeaks', 'Judaism', 'medicine'], 'SandersForPresident': ['PoliticalDiscussion', 'Political_Revolution', 'EnoughTrumpSpam', 'LateStageCapitalism', 'MarchAgainstTrump', 'esist', 'AskTrumpSupporters', 'bestof', 'TrueReddit', 'Conservative', 'dataisbeautiful', 'hillaryclinton', 'Libertarian', 'uncensorednews', 'socialism', 'PoliticalHumor', 'atheism', 'changemyview', 'Economics', 'SubredditDrama'], 'politics': ['worldnews', 'news', 'todayilearned', 'pics', 'AdviceAnimals', 'movies', 'gifs', 'nottheonion', 'WTF', 'technology', 'television', 'videos', 'IAmA', 'funny', 'Futurology', 'explainlikeimfive', 'The_Donald', 'SandersForPresident', 'mildlyinteresting', 'atheism']}\n",
      "\n",
      "\n",
      "The_Donald\n",
      "{'hillaryclinton': ['BlueMidterm2018', 'MakingaMurderer', 'democrats', 'Enough_Sanders_Spam', 'Political_Revolution', 'washingtondc', 'progressive', 'enoughsandersspam', 'Blackfellas', 'neoliberal', 'samharris', 'circlebroke2', 'pittsburgh', 'circlebroke', 'ShitLiberalsSay', 'baltimore', 'AgainstHateSubreddits', 'WikiLeaks', 'Judaism', 'medicine'], 'SandersForPresident': ['PoliticalDiscussion', 'Political_Revolution', 'EnoughTrumpSpam', 'LateStageCapitalism', 'MarchAgainstTrump', 'esist', 'AskTrumpSupporters', 'bestof', 'TrueReddit', 'Conservative', 'dataisbeautiful', 'hillaryclinton', 'Libertarian', 'uncensorednews', 'socialism', 'PoliticalHumor', 'atheism', 'changemyview', 'Economics', 'SubredditDrama'], 'politics': ['worldnews', 'news', 'todayilearned', 'pics', 'AdviceAnimals', 'movies', 'gifs', 'nottheonion', 'WTF', 'technology', 'television', 'videos', 'IAmA', 'funny', 'Futurology', 'explainlikeimfive', 'The_Donald', 'SandersForPresident', 'mildlyinteresting', 'atheism'], 'The_Donald': ['conspiracy', 'PoliticalHumor', 'CringeAnarchy', 'SandersForPresident', 'Libertarian', 'ImGoingToHellForThis', 'nottheonion', 'Futurology', 'atheism', 'dataisbeautiful', 'Conservative', 'TumblrInAction', 'guns', 'KotakuInAction', 'Documentaries', '4chan', 'PoliticalDiscussion', 'BlackPeopleTwitter', 'PublicFreakout', 'uncensorednews']}\n",
      "\n",
      "\n",
      "Conservative\n",
      "{'hillaryclinton': ['BlueMidterm2018', 'MakingaMurderer', 'democrats', 'Enough_Sanders_Spam', 'Political_Revolution', 'washingtondc', 'progressive', 'enoughsandersspam', 'Blackfellas', 'neoliberal', 'samharris', 'circlebroke2', 'pittsburgh', 'circlebroke', 'ShitLiberalsSay', 'baltimore', 'AgainstHateSubreddits', 'WikiLeaks', 'Judaism', 'medicine'], 'SandersForPresident': ['PoliticalDiscussion', 'Political_Revolution', 'EnoughTrumpSpam', 'LateStageCapitalism', 'MarchAgainstTrump', 'esist', 'AskTrumpSupporters', 'bestof', 'TrueReddit', 'Conservative', 'dataisbeautiful', 'hillaryclinton', 'Libertarian', 'uncensorednews', 'socialism', 'PoliticalHumor', 'atheism', 'changemyview', 'Economics', 'SubredditDrama'], 'politics': ['worldnews', 'news', 'todayilearned', 'pics', 'AdviceAnimals', 'movies', 'gifs', 'nottheonion', 'WTF', 'technology', 'television', 'videos', 'IAmA', 'funny', 'Futurology', 'explainlikeimfive', 'The_Donald', 'SandersForPresident', 'mildlyinteresting', 'atheism'], 'The_Donald': ['conspiracy', 'PoliticalHumor', 'CringeAnarchy', 'SandersForPresident', 'Libertarian', 'ImGoingToHellForThis', 'nottheonion', 'Futurology', 'atheism', 'dataisbeautiful', 'Conservative', 'TumblrInAction', 'guns', 'KotakuInAction', 'Documentaries', '4chan', 'PoliticalDiscussion', 'BlackPeopleTwitter', 'PublicFreakout', 'uncensorednews'], 'Conservative': ['uncensorednews', 'AskThe_Donald', 'ShitPoliticsSays', 'AskTrumpSupporters', 'Economics', 'HillaryForPrison', 'hillaryclinton', 'MarchAgainstTrump', 'Republican', 'WikiLeaks', 'Political_Revolution', 'sjwhate', 'Firearms', 'JordanPeterson', 'Anarcho_Capitalism', 'MURICA', 'esist', 'ProtectAndServe', 'BlueMidterm2018', 'MensRights']}\n",
      "\n",
      "\n"
     ]
    }
   ],
   "source": [
    "results = {}\n",
    "for board in boards:\n",
    "    print(board)\n",
    "    results[board] = []\n",
    "    for subreddit in sim[board]:\n",
    "        if subreddit in members and len(members[subreddit]['users']) > 5000:\n",
    "            results[board].append(subreddit)\n",
    "            if len(results[board]) == 20:\n",
    "                break\n",
    "    print(results)\n",
    "    print(\"\\n\")"
   ]
  },
  {
   "cell_type": "code",
   "execution_count": 30,
   "metadata": {},
   "outputs": [
    {
     "name": "stdout",
     "output_type": "stream",
     "text": [
      "PoliticalDiscussion & worldnews & uncensorednews & conspiracy \\\\\n",
      "Political\\_Revolution & news & AskThe\\_Donald & PoliticalHumor \\\\\n",
      "EnoughTrumpSpam & todayilearned & ShitPoliticsSays & CringeAnarchy \\\\\n",
      "LateStageCapitalism & pics & AskTrumpSupporters & SandersForPresident \\\\\n",
      "MarchAgainstTrump & AdviceAnimals & Economics & Libertarian \\\\\n",
      "esist & movies & HillaryForPrison & ImGoingToHellForThis \\\\\n",
      "AskTrumpSupporters & gifs & hillaryclinton & nottheonion \\\\\n",
      "bestof & nottheonion & MarchAgainstTrump & Futurology \\\\\n",
      "TrueReddit & WTF & Republican & atheism \\\\\n",
      "Conservative & technology & WikiLeaks & dataisbeautiful \\\\\n",
      "dataisbeautiful & television & Political\\_Revolution & Conservative \\\\\n",
      "hillaryclinton & videos & sjwhate & TumblrInAction \\\\\n",
      "Libertarian & IAmA & Firearms & guns \\\\\n",
      "uncensorednews & funny & JordanPeterson & KotakuInAction \\\\\n",
      "socialism & Futurology & Anarcho\\_Capitalism & Documentaries \\\\\n"
     ]
    }
   ],
   "source": [
    "for i in range(15):\n",
    "    line = []\n",
    "    for key,subreddit in enumerate(['SandersForPresident','politics','Conservative','The_Donald']):\n",
    "        line.append(results[subreddit][i].replace('_','\\_'))\n",
    "        if key < 3:\n",
    "            line.append(\"&\")\n",
    "        else:\n",
    "            line.append(\"\\\\\\\\\")\n",
    "    print(\" \".join(line))"
   ]
  },
  {
   "cell_type": "code",
   "execution_count": 48,
   "metadata": {},
   "outputs": [
    {
     "data": {
      "text/plain": [
       "['nfl', 'fantasyfootball', 'baseball', 'CFB', 'hiphopheads']"
      ]
     },
     "execution_count": 48,
     "metadata": {},
     "output_type": "execute_result"
    }
   ],
   "source": [
    "similar_vectors('nba')"
   ]
  },
  {
   "cell_type": "code",
   "execution_count": 49,
   "metadata": {},
   "outputs": [
    {
     "data": {
      "text/plain": [
       "['askphilosophy',\n",
       " 'NeutralPolitics',\n",
       " 'psychology',\n",
       " 'EverythingScience',\n",
       " 'Foodforthought']"
      ]
     },
     "execution_count": 49,
     "metadata": {},
     "output_type": "execute_result"
    }
   ],
   "source": [
    "similar_vectors('philosophy')"
   ]
  },
  {
   "cell_type": "code",
   "execution_count": 51,
   "metadata": {
    "collapsed": true
   },
   "outputs": [
    {
     "data": {
      "text/plain": [
       "['solotravel',\n",
       " 'Ultralight',\n",
       " 'bodyweightfitness',\n",
       " 'homegym',\n",
       " 'intermittentfasting']"
      ]
     },
     "execution_count": 51,
     "metadata": {},
     "output_type": "execute_result"
    }
   ],
   "source": [
    "add('running','nutrition')"
   ]
  },
  {
   "cell_type": "code",
   "execution_count": 52,
   "metadata": {
    "collapsed": true
   },
   "outputs": [
    {
     "data": {
      "text/plain": [
       "['neutralnews', 'Impeach_Trump', 'Liberal', 'TrueAskReddit', 'Foodforthought']"
      ]
     },
     "execution_count": 52,
     "metadata": {},
     "output_type": "execute_result"
    }
   ],
   "source": [
    "add('NeutralPolitics','progressive')"
   ]
  },
  {
   "cell_type": "code",
   "execution_count": 53,
   "metadata": {
    "collapsed": true
   },
   "outputs": [
    {
     "data": {
      "text/plain": [
       "['progressive', 'Liberal', 'neutralnews', 'RussiaLago', 'Impeach_Trump']"
      ]
     },
     "execution_count": 53,
     "metadata": {},
     "output_type": "execute_result"
    }
   ],
   "source": [
    "add('NeutralPolitics','democrats')"
   ]
  },
  {
   "cell_type": "code",
   "execution_count": 54,
   "metadata": {
    "collapsed": true
   },
   "outputs": [
    {
     "data": {
      "text/plain": [
       "['neutralnews', 'Liberal', 'DNCleaks', 'AskALiberal', 'badeconomics']"
      ]
     },
     "execution_count": 54,
     "metadata": {},
     "output_type": "execute_result"
    }
   ],
   "source": [
    "add('NeutralPolitics','Republican')"
   ]
  },
  {
   "cell_type": "code",
   "execution_count": 8,
   "metadata": {
    "collapsed": true
   },
   "outputs": [
    {
     "data": {
      "text/plain": [
       "['AskThe_Donald',\n",
       " 'ShitPoliticsSays',\n",
       " 'Liberal',\n",
       " 'Foodforthought',\n",
       " 'neutralnews']"
      ]
     },
     "execution_count": 8,
     "metadata": {},
     "output_type": "execute_result"
    }
   ],
   "source": [
    "add('NeutralPolitics','Conservative')"
   ]
  },
  {
   "cell_type": "code",
   "execution_count": 60,
   "metadata": {
    "collapsed": true
   },
   "outputs": [
    {
     "data": {
      "text/plain": [
       "['worldnews',\n",
       " 'news',\n",
       " 'todayilearned',\n",
       " 'pics',\n",
       " 'AdviceAnimals',\n",
       " 'movies',\n",
       " 'gifs',\n",
       " 'nottheonion',\n",
       " 'WTF',\n",
       " 'technology']"
      ]
     },
     "execution_count": 60,
     "metadata": {},
     "output_type": "execute_result"
    }
   ],
   "source": [
    "similar_vectors('politics')"
   ]
  },
  {
   "cell_type": "code",
   "execution_count": 61,
   "metadata": {
    "collapsed": true
   },
   "outputs": [
    {
     "data": {
      "text/plain": [
       "['conspiracy',\n",
       " 'PoliticalHumor',\n",
       " 'CringeAnarchy',\n",
       " 'SandersForPresident',\n",
       " 'Libertarian',\n",
       " 'ImGoingToHellForThis',\n",
       " 'nottheonion',\n",
       " 'Futurology',\n",
       " 'atheism',\n",
       " 'dataisbeautiful']"
      ]
     },
     "execution_count": 61,
     "metadata": {},
     "output_type": "execute_result"
    }
   ],
   "source": [
    "similar_vectors('The_Donald')"
   ]
  },
  {
   "cell_type": "code",
   "execution_count": 62,
   "metadata": {
    "collapsed": true
   },
   "outputs": [
    {
     "data": {
      "text/plain": [
       "['BlueMidterm2018',\n",
       " 'MakingaMurderer',\n",
       " 'democrats',\n",
       " 'Enough_Sanders_Spam',\n",
       " 'Political_Revolution',\n",
       " 'washingtondc',\n",
       " 'progressive',\n",
       " 'enoughsandersspam',\n",
       " 'Blackfellas',\n",
       " 'neoliberal']"
      ]
     },
     "execution_count": 62,
     "metadata": {},
     "output_type": "execute_result"
    }
   ],
   "source": [
    "similar_vectors('hillaryclinton')"
   ]
  },
  {
   "cell_type": "code",
   "execution_count": 63,
   "metadata": {},
   "outputs": [
    {
     "data": {
      "text/plain": [
       "['PoliticalDiscussion',\n",
       " 'Political_Revolution',\n",
       " 'EnoughTrumpSpam',\n",
       " 'LateStageCapitalism',\n",
       " 'MarchAgainstTrump',\n",
       " 'esist',\n",
       " 'AskTrumpSupporters',\n",
       " 'bestof',\n",
       " 'TrueReddit',\n",
       " 'Conservative']"
      ]
     },
     "execution_count": 63,
     "metadata": {},
     "output_type": "execute_result"
    }
   ],
   "source": [
    "similar_vectors('SandersForPresident')"
   ]
  },
  {
   "cell_type": "code",
   "execution_count": 64,
   "metadata": {
    "collapsed": true
   },
   "outputs": [
    {
     "data": {
      "text/plain": [
       "['Liberal',\n",
       " 'DNCleaks',\n",
       " 'Kossacks_for_Sanders',\n",
       " 'Iowa',\n",
       " 'wisconsin',\n",
       " 'TrueAskReddit',\n",
       " 'Feminism',\n",
       " 'Impeach_Trump',\n",
       " 'Africa',\n",
       " 'jillstein']"
      ]
     },
     "execution_count": 64,
     "metadata": {},
     "output_type": "execute_result"
    }
   ],
   "source": [
    "similar_vectors('progressive')"
   ]
  },
  {
   "cell_type": "code",
   "execution_count": 65,
   "metadata": {
    "collapsed": true
   },
   "outputs": [
    {
     "data": {
      "text/plain": [
       "['uncensorednews',\n",
       " 'AskThe_Donald',\n",
       " 'ShitPoliticsSays',\n",
       " 'AskTrumpSupporters',\n",
       " 'Economics',\n",
       " 'HillaryForPrison',\n",
       " 'hillaryclinton',\n",
       " 'MarchAgainstTrump',\n",
       " 'Republican',\n",
       " 'WikiLeaks']"
      ]
     },
     "execution_count": 65,
     "metadata": {},
     "output_type": "execute_result"
    }
   ],
   "source": [
    "similar_vectors('Conservative')"
   ]
  },
  {
   "cell_type": "code",
   "execution_count": 66,
   "metadata": {
    "collapsed": true
   },
   "outputs": [
    {
     "data": {
      "text/plain": [
       "['GoldandBlack',\n",
       " 'berkeley',\n",
       " 'TheNewRight',\n",
       " 'POTUSWatch',\n",
       " 'arizona',\n",
       " 'oklahoma',\n",
       " 'Cleveland',\n",
       " 'Spokane',\n",
       " 'RightwingLGBT',\n",
       " 'Norway']"
      ]
     },
     "execution_count": 66,
     "metadata": {},
     "output_type": "execute_result"
    }
   ],
   "source": [
    "similar_vectors('Republican')"
   ]
  },
  {
   "cell_type": "code",
   "execution_count": 67,
   "metadata": {
    "collapsed": true
   },
   "outputs": [
    {
     "data": {
      "text/plain": [
       "['OurPresident',\n",
       " 'EnoughLibertarianSpam',\n",
       " 'Republican',\n",
       " 'BlueMidterm2018',\n",
       " 'Liberal',\n",
       " 'RussiaLago',\n",
       " 'oklahoma',\n",
       " 'GunsAreCool',\n",
       " 'florida',\n",
       " 'arizona']"
      ]
     },
     "execution_count": 67,
     "metadata": {},
     "output_type": "execute_result"
    }
   ],
   "source": [
    "similar_vectors('democrats')"
   ]
  },
  {
   "cell_type": "code",
   "execution_count": 68,
   "metadata": {
    "collapsed": true
   },
   "outputs": [
    {
     "data": {
      "text/plain": [
       "['neutralnews',\n",
       " 'TrueAtheism',\n",
       " 'Impeach_Trump',\n",
       " 'Foodforthought',\n",
       " 'progressive',\n",
       " 'TrumpCriticizesTrump',\n",
       " 'badhistory',\n",
       " 'TrueAskReddit',\n",
       " 'conspiratard',\n",
       " 'circlebroke']"
      ]
     },
     "execution_count": 68,
     "metadata": {},
     "output_type": "execute_result"
    }
   ],
   "source": [
    "similar_vectors('NeutralPolitics')"
   ]
  },
  {
   "cell_type": "code",
   "execution_count": 69,
   "metadata": {},
   "outputs": [
    {
     "data": {
      "text/plain": [
       "['worldnews',\n",
       " 'news',\n",
       " 'todayilearned',\n",
       " 'pics',\n",
       " 'AdviceAnimals',\n",
       " 'movies',\n",
       " 'gifs',\n",
       " 'nottheonion',\n",
       " 'WTF',\n",
       " 'technology']"
      ]
     },
     "execution_count": 69,
     "metadata": {},
     "output_type": "execute_result"
    }
   ],
   "source": [
    "similar_vectors('politics')"
   ]
  },
  {
   "cell_type": "code",
   "execution_count": 12,
   "metadata": {
    "collapsed": true
   },
   "outputs": [
    {
     "data": {
      "text/plain": [
       "['AskReddit', 'politics', 'worldnews', 'leagueoflegends', 'gaming']"
      ]
     },
     "execution_count": 12,
     "metadata": {},
     "output_type": "execute_result"
    }
   ],
   "source": [
    "subtract('The_Donald','conspiracy')"
   ]
  },
  {
   "cell_type": "code",
   "execution_count": 13,
   "metadata": {
    "collapsed": true
   },
   "outputs": [
    {
     "data": {
      "text/plain": [
       "['GlobalOffensiveTrade',\n",
       " 'friendsafari',\n",
       " 'gonewild',\n",
       " 'dirtykikpals',\n",
       " 'PewdiepieSubmissions']"
      ]
     },
     "execution_count": 13,
     "metadata": {},
     "output_type": "execute_result"
    }
   ],
   "source": [
    "subtract('The_Donald','politics')"
   ]
  },
  {
   "cell_type": "code",
   "execution_count": 18,
   "metadata": {
    "collapsed": true
   },
   "outputs": [
    {
     "data": {
      "text/plain": [
       "['Conservative',\n",
       " 'uncensorednews',\n",
       " 'AskTrumpSupporters',\n",
       " 'Libertarian',\n",
       " 'conspiracy',\n",
       " 'PoliticalDiscussion',\n",
       " 'KotakuInAction',\n",
       " 'AskThe_Donald',\n",
       " 'PoliticalHumor',\n",
       " 'MarchAgainstTrump']"
      ]
     },
     "execution_count": 18,
     "metadata": {},
     "output_type": "execute_result"
    }
   ],
   "source": [
    "add('NeutralPolitics','The_Donald')"
   ]
  },
  {
   "cell_type": "code",
   "execution_count": 1,
   "metadata": {
    "collapsed": true
   },
   "outputs": [
    {
     "ename": "NameError",
     "evalue": "name 'subtract' is not defined",
     "output_type": "error",
     "traceback": [
      "\u001b[0;31m---------------------------------------------------------------------------\u001b[0m",
      "\u001b[0;31mNameError\u001b[0m                                 Traceback (most recent call last)",
      "\u001b[0;32m<ipython-input-1-57100a2e46d9>\u001b[0m in \u001b[0;36m<module>\u001b[0;34m\u001b[0m\n\u001b[0;32m----> 1\u001b[0;31m \u001b[0msubtract\u001b[0m\u001b[0;34m(\u001b[0m\u001b[0;34m'The_Donald'\u001b[0m\u001b[0;34m,\u001b[0m\u001b[0;34m'NeutralPolitics'\u001b[0m\u001b[0;34m)\u001b[0m\u001b[0;34m\u001b[0m\u001b[0;34m\u001b[0m\u001b[0m\n\u001b[0m",
      "\u001b[0;31mNameError\u001b[0m: name 'subtract' is not defined"
     ]
    }
   ],
   "source": [
    "subtract('The_Donald','NeutralPolitics')"
   ]
  },
  {
   "cell_type": "code",
   "execution_count": 14,
   "metadata": {
    "collapsed": true
   },
   "outputs": [
    {
     "data": {
      "text/plain": [
       "['AskReddit', 'politics', 'worldnews', 'news', 'pics']"
      ]
     },
     "execution_count": 14,
     "metadata": {},
     "output_type": "execute_result"
    }
   ],
   "source": [
    "subtract('The_Donald','NeutralPolitics')"
   ]
  },
  {
   "cell_type": "code",
   "execution_count": 15,
   "metadata": {
    "collapsed": true
   },
   "outputs": [
    {
     "data": {
      "text/plain": [
       "['ChubbyWhores',\n",
       " 'SloppyBlowjobVideos',\n",
       " 'Freya_Belrose',\n",
       " 'EscapistPorn',\n",
       " 'pantyclub']"
      ]
     },
     "execution_count": 15,
     "metadata": {},
     "output_type": "execute_result"
    }
   ],
   "source": [
    "subtract('NeutralPolitics','The_Donald')"
   ]
  },
  {
   "cell_type": "code",
   "execution_count": 16,
   "metadata": {},
   "outputs": [
    {
     "data": {
      "text/plain": [
       "['AskReddit', 'politics', 'worldnews', 'gaming', 'news']"
      ]
     },
     "execution_count": 16,
     "metadata": {},
     "output_type": "execute_result"
    }
   ],
   "source": [
    "subtract('The_Donald','SandersForPresident')"
   ]
  },
  {
   "cell_type": "code",
   "execution_count": 17,
   "metadata": {
    "collapsed": true
   },
   "outputs": [
    {
     "data": {
      "text/plain": [
       "['ImaginaryMusic',\n",
       " 'SloppyBlowjobVideos',\n",
       " 'Cadance',\n",
       " 'NorthDakota4Sanders',\n",
       " 'ChubbyWhores']"
      ]
     },
     "execution_count": 17,
     "metadata": {},
     "output_type": "execute_result"
    }
   ],
   "source": [
    "subtract('SandersForPresident','The_Donald')"
   ]
  },
  {
   "cell_type": "code",
   "execution_count": 7,
   "metadata": {
    "collapsed": true
   },
   "outputs": [
    {
     "data": {
      "text/plain": [
       "['friendsafari',\n",
       " 'GlobalOffensiveTrade',\n",
       " 'stopdrinking',\n",
       " 'Fireteams',\n",
       " 'depression']"
      ]
     },
     "execution_count": 7,
     "metadata": {},
     "output_type": "execute_result"
    }
   ],
   "source": [
    "subtract('EnoughMuskSpam','elonmusk')"
   ]
  },
  {
   "cell_type": "code",
   "execution_count": 8,
   "metadata": {
    "collapsed": true
   },
   "outputs": [
    {
     "data": {
      "text/plain": [
       "['UkrainianConflict',\n",
       " 'chomsky',\n",
       " 'RealTesla',\n",
       " 'thedavidpakmanshow',\n",
       " 'redacted',\n",
       " 'SocialistRA',\n",
       " 'NorthKoreaNews',\n",
       " 'PuertoRico',\n",
       " 'czech',\n",
       " 'nasa']"
      ]
     },
     "execution_count": 8,
     "metadata": {},
     "output_type": "execute_result"
    }
   ],
   "source": [
    "add('EnoughMuskSpam','elonmusk')"
   ]
  },
  {
   "cell_type": "code",
   "execution_count": 9,
   "metadata": {
    "collapsed": true
   },
   "outputs": [
    {
     "data": {
      "text/plain": [
       "['shrooms',\n",
       " 'MDMA',\n",
       " 'Psychonaut',\n",
       " 'weed',\n",
       " 'researchchemicals',\n",
       " 'opiates',\n",
       " 'vaporents',\n",
       " 'Stims',\n",
       " 'DMT',\n",
       " 'DarkNetMarkets']"
      ]
     },
     "execution_count": 9,
     "metadata": {},
     "output_type": "execute_result"
    }
   ],
   "source": [
    "similar_vectors('LSD')"
   ]
  },
  {
   "cell_type": "code",
   "execution_count": 10,
   "metadata": {
    "collapsed": true
   },
   "outputs": [
    {
     "data": {
      "text/plain": [
       "['RealTesla',\n",
       " 'PuertoRico',\n",
       " 'nasa',\n",
       " 'newyorkcity',\n",
       " 'Wales',\n",
       " 'netneutrality',\n",
       " 'Dinosaurs',\n",
       " 'SpaceXMasterrace',\n",
       " 'brasilivre',\n",
       " 'KeepOurNetFree']"
      ]
     },
     "execution_count": 10,
     "metadata": {},
     "output_type": "execute_result"
    }
   ],
   "source": [
    "similar_vectors('elonmusk')"
   ]
  },
  {
   "cell_type": "code",
   "execution_count": 11,
   "metadata": {
    "collapsed": true
   },
   "outputs": [
    {
     "data": {
      "text/plain": [
       "['judo',\n",
       " 'puns',\n",
       " 'SuddenlyGay',\n",
       " 'SyrianCirclejerkWar',\n",
       " 'spiderbro',\n",
       " 'NormMacdonald',\n",
       " 'glitch_art',\n",
       " 'BethesdaSoftworks',\n",
       " 'berserklejerk',\n",
       " 'freemasonry']"
      ]
     },
     "execution_count": 11,
     "metadata": {},
     "output_type": "execute_result"
    }
   ],
   "source": [
    "similar_vectors('flatearth')"
   ]
  },
  {
   "cell_type": "code",
   "execution_count": 12,
   "metadata": {
    "collapsed": true
   },
   "outputs": [
    {
     "data": {
      "text/plain": [
       "['Libertarian',\n",
       " 'uncensorednews',\n",
       " 'Documentaries',\n",
       " 'PoliticalHumor',\n",
       " 'Conservative',\n",
       " 'MarchAgainstTrump',\n",
       " 'LateStageCapitalism',\n",
       " 'EnoughTrumpSpam',\n",
       " 'SandersForPresident',\n",
       " 'worldpolitics']"
      ]
     },
     "execution_count": 12,
     "metadata": {},
     "output_type": "execute_result"
    }
   ],
   "source": [
    "similar_vectors('conspiracy')"
   ]
  },
  {
   "cell_type": "code",
   "execution_count": 13,
   "metadata": {
    "collapsed": true
   },
   "outputs": [
    {
     "data": {
      "text/plain": [
       "['JoeRogan',\n",
       " 'Psychonaut',\n",
       " 'MarchAgainstTrump',\n",
       " 'uncensorednews',\n",
       " 'JordanPeterson',\n",
       " 'MGTOW',\n",
       " 'shrooms',\n",
       " 'MensRights',\n",
       " 'HillaryForPrison',\n",
       " 'ChapoTrapHouse']"
      ]
     },
     "execution_count": 13,
     "metadata": {},
     "output_type": "execute_result"
    }
   ],
   "source": [
    "add('LSD','conspiracy')"
   ]
  },
  {
   "cell_type": "code",
   "execution_count": 14,
   "metadata": {
    "collapsed": true
   },
   "outputs": [
    {
     "data": {
      "text/plain": [
       "['JordanPeterson',\n",
       " 'StreetFights',\n",
       " 'samharris',\n",
       " 'Anarcho_Capitalism',\n",
       " 'steelers',\n",
       " 'Destiny',\n",
       " 'PKA',\n",
       " 'WayOfTheBern',\n",
       " 'howardstern',\n",
       " 'The_Mueller']"
      ]
     },
     "execution_count": 14,
     "metadata": {},
     "output_type": "execute_result"
    }
   ],
   "source": [
    "similar_vectors('JoeRogan')"
   ]
  },
  {
   "cell_type": "code",
   "execution_count": 15,
   "metadata": {
    "collapsed": true
   },
   "outputs": [
    {
     "data": {
      "text/plain": [
       "['Anxiety',\n",
       " 'leaves',\n",
       " 'opiates',\n",
       " 'dating_advice',\n",
       " 'kratom',\n",
       " 'amiugly',\n",
       " 'ForeverAlone',\n",
       " 'SuicideWatch',\n",
       " 'bipolar',\n",
       " 'aspergers']"
      ]
     },
     "execution_count": 15,
     "metadata": {},
     "output_type": "execute_result"
    }
   ],
   "source": [
    "add('depression','LSD')"
   ]
  },
  {
   "cell_type": "code",
   "execution_count": 16,
   "metadata": {
    "collapsed": true
   },
   "outputs": [
    {
     "data": {
      "text/plain": [
       "['pornfree',\n",
       " 'Divorce',\n",
       " 'BreakUps',\n",
       " 'BipolarReddit',\n",
       " 'blogsnark',\n",
       " 'intj',\n",
       " 'adultery',\n",
       " 'AskFeminists',\n",
       " 'sales',\n",
       " 'BPDlovedones']"
      ]
     },
     "execution_count": 16,
     "metadata": {},
     "output_type": "execute_result"
    }
   ],
   "source": [
    "similar_vectors('leaves')"
   ]
  },
  {
   "cell_type": "code",
   "execution_count": 17,
   "metadata": {
    "collapsed": true
   },
   "outputs": [
    {
     "data": {
      "text/plain": [
       "['ForeverAlone',\n",
       " 'Anxiety',\n",
       " 'aspergers',\n",
       " 'AskThe_Donald',\n",
       " 'dating_advice',\n",
       " 'IncelTears',\n",
       " 'leaves',\n",
       " 'AskTrumpSupporters',\n",
       " 'amiugly',\n",
       " 'Catholicism']"
      ]
     },
     "execution_count": 17,
     "metadata": {},
     "output_type": "execute_result"
    }
   ],
   "source": [
    "add('depression','Conservative')"
   ]
  },
  {
   "cell_type": "code",
   "execution_count": 5,
   "metadata": {},
   "outputs": [
    {
     "data": {
      "text/plain": [
       "['ChubbyWhores',\n",
       " 'SloppyBlowjobVideos',\n",
       " 'Freya_Belrose',\n",
       " 'EscapistPorn',\n",
       " 'pantyclub']"
      ]
     },
     "execution_count": 5,
     "metadata": {},
     "output_type": "execute_result"
    }
   ],
   "source": [
    "subtract('NeutralPolitics','The_Donald')"
   ]
  },
  {
   "cell_type": "code",
   "execution_count": 6,
   "metadata": {},
   "outputs": [
    {
     "data": {
      "text/plain": [
       "['KikRoleplay', 'ondww', 'onmww', 'dirtykikmates', 'CutCocks']"
      ]
     },
     "execution_count": 6,
     "metadata": {},
     "output_type": "execute_result"
    }
   ],
   "source": [
    "subtract('NeutralPolitics','SandersForPresident')"
   ]
  },
  {
   "cell_type": "code",
   "execution_count": 7,
   "metadata": {},
   "outputs": [
    {
     "data": {
      "text/plain": [
       "['conspiracy',\n",
       " 'PoliticalHumor',\n",
       " 'Libertarian',\n",
       " 'PoliticalDiscussion',\n",
       " 'dataisbeautiful',\n",
       " 'Conservative',\n",
       " 'atheism',\n",
       " 'EnoughTrumpSpam',\n",
       " 'ImGoingToHellForThis',\n",
       " 'Futurology']"
      ]
     },
     "execution_count": 7,
     "metadata": {},
     "output_type": "execute_result"
    }
   ],
   "source": [
    "add('The_Donald','SandersForPresident')"
   ]
  },
  {
   "cell_type": "code",
   "execution_count": 8,
   "metadata": {},
   "outputs": [
    {
     "data": {
      "text/plain": [
       "['nottheonion',\n",
       " 'worldnews',\n",
       " 'AdviceAnimals',\n",
       " 'PoliticalHumor',\n",
       " 'technology',\n",
       " 'conspiracy',\n",
       " 'television',\n",
       " 'Futurology',\n",
       " 'SandersForPresident',\n",
       " 'news']"
      ]
     },
     "execution_count": 8,
     "metadata": {},
     "output_type": "execute_result"
    }
   ],
   "source": [
    "add('politics','The_Donald')"
   ]
  },
  {
   "cell_type": "code",
   "execution_count": 9,
   "metadata": {},
   "outputs": [
    {
     "data": {
      "text/plain": [
       "['dirtykikpals', 'dirtypenpals', 'AppNana', 'exxxchange', 'DirtySnapchat']"
      ]
     },
     "execution_count": 9,
     "metadata": {},
     "output_type": "execute_result"
    }
   ],
   "source": [
    "subtract('NeutralPolitics','politics')"
   ]
  },
  {
   "cell_type": "code",
   "execution_count": 10,
   "metadata": {},
   "outputs": [
    {
     "data": {
      "text/plain": [
       "['Conservative',\n",
       " 'uncensorednews',\n",
       " 'AskTrumpSupporters',\n",
       " 'Libertarian',\n",
       " 'conspiracy',\n",
       " 'PoliticalDiscussion',\n",
       " 'KotakuInAction',\n",
       " 'AskThe_Donald',\n",
       " 'PoliticalHumor',\n",
       " 'MarchAgainstTrump']"
      ]
     },
     "execution_count": 10,
     "metadata": {},
     "output_type": "execute_result"
    }
   ],
   "source": [
    "add('NeutralPolitics','The_Donald')"
   ]
  },
  {
   "cell_type": "code",
   "execution_count": 12,
   "metadata": {},
   "outputs": [
    {
     "data": {
      "text/plain": [
       "['ChubbyWhores',\n",
       " 'SloppyBlowjobVideos',\n",
       " 'Freya_Belrose',\n",
       " 'EscapistPorn',\n",
       " 'pantyclub']"
      ]
     },
     "execution_count": 12,
     "metadata": {},
     "output_type": "execute_result"
    }
   ],
   "source": [
    "subtract('NeutralPolitics','The_Donald')"
   ]
  },
  {
   "cell_type": "code",
   "execution_count": 11,
   "metadata": {},
   "outputs": [
    {
     "data": {
      "text/plain": [
       "['Political_Revolution',\n",
       " 'hillaryclinton',\n",
       " 'AskTrumpSupporters',\n",
       " 'MarchAgainstTrump',\n",
       " 'neoliberal',\n",
       " 'California',\n",
       " 'Economics',\n",
       " 'esist',\n",
       " 'TrueReddit',\n",
       " 'PoliticalDiscussion']"
      ]
     },
     "execution_count": 11,
     "metadata": {},
     "output_type": "execute_result"
    }
   ],
   "source": [
    "add('NeutralPolitics','SandersForPresident')"
   ]
  },
  {
   "cell_type": "code",
   "execution_count": 13,
   "metadata": {},
   "outputs": [
    {
     "data": {
      "text/plain": [
       "['KikRoleplay', 'ondww', 'onmww', 'dirtykikmates', 'CutCocks']"
      ]
     },
     "execution_count": 13,
     "metadata": {},
     "output_type": "execute_result"
    }
   ],
   "source": [
    "subtract('NeutralPolitics','SandersForPresident')"
   ]
  },
  {
   "cell_type": "code",
   "execution_count": 14,
   "metadata": {},
   "outputs": [
    {
     "data": {
      "text/plain": [
       "['AskReddit', 'politics', 'worldnews', 'leagueoflegends', 'gaming']"
      ]
     },
     "execution_count": 14,
     "metadata": {},
     "output_type": "execute_result"
    }
   ],
   "source": [
    "subtract('The_Donald','conspiracy')"
   ]
  },
  {
   "cell_type": "code",
   "execution_count": 15,
   "metadata": {},
   "outputs": [
    {
     "data": {
      "text/plain": [
       "['nfl', 'nba', 'fantasyfootball', 'relationships', 'CFB']"
      ]
     },
     "execution_count": 15,
     "metadata": {},
     "output_type": "execute_result"
    }
   ],
   "source": [
    "subtract('politics','worldnews')"
   ]
  },
  {
   "cell_type": "code",
   "execution_count": 16,
   "metadata": {},
   "outputs": [
    {
     "data": {
      "text/plain": [
       "['AskReddit', 'politics', 'pics', 'worldnews', 'funny']"
      ]
     },
     "execution_count": 16,
     "metadata": {},
     "output_type": "execute_result"
    }
   ],
   "source": [
    "subtract('SandersForPresident','PoliticalDiscussion')"
   ]
  },
  {
   "cell_type": "code",
   "execution_count": null,
   "metadata": {},
   "outputs": [],
   "source": []
  }
 ],
 "metadata": {
  "kernelspec": {
   "display_name": "Python 3",
   "language": "python",
   "name": "python3"
  },
  "language_info": {
   "codemirror_mode": {
    "name": "ipython",
    "version": 3
   },
   "file_extension": ".py",
   "mimetype": "text/x-python",
   "name": "python",
   "nbconvert_exporter": "python",
   "pygments_lexer": "ipython3",
   "version": "3.7.1"
  }
 },
 "nbformat": 4,
 "nbformat_minor": 2
}
