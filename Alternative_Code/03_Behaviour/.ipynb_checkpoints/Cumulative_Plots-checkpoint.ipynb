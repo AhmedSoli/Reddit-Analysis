{
 "cells": [
  {
   "cell_type": "code",
   "execution_count": 19,
   "metadata": {},
   "outputs": [],
   "source": [
    "import pickle\n",
    "import gzip \n",
    "import plotly.plotly as py\n",
    "import plotly.graph_objs as go\n",
    "import plotly\n",
    "import plotly.io as pio\n",
    "import numpy as np\n",
    "\n",
    "comments_analysis = pickle.load(gzip.open(\"../Results/comments_analysis.pickle.gz\",\"rb\"))\n",
    "submissions_analysis = pickle.load(gzip.open(\"../Results/submissions_analysis.pickle.gz\",\"rb\"))"
   ]
  },
  {
   "cell_type": "code",
   "execution_count": 289,
   "metadata": {},
   "outputs": [],
   "source": [
    "def percentage_required(values):\n",
    "#    current_sum,start,count = 0,0,0\n",
    "    # num posts\n",
    "    len_values = len(values)\n",
    "    # sum votes\n",
    "    sum_values = sum(values)\n",
    "    percentages = {}\n",
    "    for percentage in np.arange(0,101,1):\n",
    "        # percetage 4% 5%\n",
    "        percentage = round(percentage,4)\n",
    "        print(percentage)\n",
    "        for key,value in enumerate(values[start:]):\n",
    "            count += 1\n",
    "            current_sum += value\n",
    "            if current_sum >= sum_values * (percentage/float(100)):\n",
    "                print(current_sum,sum_values * (percentage/float(100)),len_values,count)\n",
    "                start += key\n",
    "                break\n",
    "        percentages[percentage] = round((count / len_values) * 100,2)\n",
    "    return percentages\n",
    "\n",
    "def percentage_required_alt(values):\n",
    "    len_values = len(values)\n",
    "    sum_values = sum(values)\n",
    "    percentages = {}\n",
    "    for percentage in np.arange(0,100.1,0.1):\n",
    "        percentage = round(percentage,4)\n",
    "        current_sum = 0\n",
    "        for count,value in enumerate(values):\n",
    "            current_sum += value\n",
    "            if current_sum*100 >= sum_values * percentage:\n",
    "                break\n",
    "        percentages[percentage] = round(((count+1) / len_values) * 100,2)\n",
    "    return percentages"
   ]
  },
  {
   "cell_type": "code",
   "execution_count": 291,
   "metadata": {},
   "outputs": [
    {
     "name": "stdout",
     "output_type": "stream",
     "text": [
      "politics %_of_users_required_for_%_of_votes_received\n",
      "politics %_of_posts_required_for_%_of_votes_received\n",
      "politics %_of_users_required_for_%_of_comments_received\n",
      "politics %_of_posts_required_for_%_of_comments_received\n",
      "The_Donald %_of_users_required_for_%_of_votes_received\n",
      "The_Donald %_of_posts_required_for_%_of_votes_received\n",
      "The_Donald %_of_users_required_for_%_of_comments_received\n",
      "The_Donald %_of_posts_required_for_%_of_comments_received\n",
      "SandersForPresident %_of_users_required_for_%_of_votes_received\n",
      "SandersForPresident %_of_posts_required_for_%_of_votes_received\n",
      "SandersForPresident %_of_users_required_for_%_of_comments_received\n",
      "SandersForPresident %_of_posts_required_for_%_of_comments_received\n",
      "Conservative %_of_users_required_for_%_of_votes_received\n",
      "Conservative %_of_posts_required_for_%_of_votes_received\n",
      "Conservative %_of_users_required_for_%_of_comments_received\n",
      "Conservative %_of_posts_required_for_%_of_comments_received\n"
     ]
    }
   ],
   "source": [
    "percentages = {}\n",
    "\n",
    "for subreddit in ['politics','The_Donald','SandersForPresident','Conservative']:\n",
    "   \n",
    "    values_array = {\n",
    "        '%_of_users_required_for_%_of_votes_received': sorted(submissions_analysis[subreddit]['values']['sum_votes'],reverse=True),\n",
    "        '%_of_posts_required_for_%_of_votes_received': sorted(submissions_analysis[subreddit]['values']['votes'],reverse=True),\n",
    "        '%_of_users_required_for_%_of_comments_received': sorted(submissions_analysis[subreddit]['values']['sum_comments'],reverse=True),\n",
    "        '%_of_posts_required_for_%_of_comments_received': sorted(submissions_analysis[subreddit]['values']['comments'],reverse=True)\n",
    "    }\n",
    "    \n",
    "    percentages[subreddit] = {}\n",
    "    \n",
    "    for metric in values_array:\n",
    "        print(subreddit,metric)\n",
    "        percentages[subreddit][metric] = percentage_required_alt(values_array[metric])"
   ]
  },
  {
   "cell_type": "code",
   "execution_count": 304,
   "metadata": {},
   "outputs": [
    {
     "name": "stdout",
     "output_type": "stream",
     "text": [
      "This is the format of your plot grid:\n",
      "[ (1,1) x1,y1 ]  [ (1,2) x2,y2 ]\n",
      "[ (2,1) x3,y3 ]  [ (2,2) x4,y4 ]\n",
      "\n"
     ]
    },
    {
     "data": {
      "text/html": [
       "<iframe id=\"igraph\" scrolling=\"no\" style=\"border:none;\" seamless=\"seamless\" src=\"https://plot.ly/~soli__/45.embed\" height=\"900px\" width=\"750px\"></iframe>"
      ],
      "text/plain": [
       "<plotly.tools.PlotlyDisplay object>"
      ]
     },
     "metadata": {},
     "output_type": "display_data"
    }
   ],
   "source": [
    "colors = {\n",
    "    'The_Donald': ('(139,0,0)','dashdot'),\n",
    "    'Conservative': ('(255,0,0)','dot'),\n",
    "    'politics': ('(0,191,255)',None),\n",
    "    'SandersForPresident': ('(0,0,255)','dash'),\n",
    "}\n",
    "    \n",
    "fig = plotly.tools.make_subplots(rows=2,cols=2)\n",
    "\n",
    "subplots = {\n",
    "    '%_of_posts_required_for_%_of_comments_received': {\n",
    "        'title': {\n",
    "            'x':'% of submissions required',\n",
    "            'y': '% of comments received'\n",
    "        },\n",
    "        'pos': (1,1)\n",
    "    },\n",
    "    '%_of_users_required_for_%_of_comments_received': {\n",
    "        'title': {\n",
    "            'x': '% of submission authors required',\n",
    "            'y': '% of comments received',    \n",
    "        },\n",
    "        'pos': (1,2)\n",
    "    },\n",
    "    '%_of_posts_required_for_%_of_votes_received': {\n",
    "        'title': {\n",
    "            'x': '% of submissions required',\n",
    "            'y': '% of votes received',\n",
    "        },\n",
    "        'pos': (2,1)\n",
    "    },\n",
    "    '%_of_users_required_for_%_of_votes_received': {\n",
    "        'title': {\n",
    "            'x': '% of sumbission authors required',\n",
    "            'y': '% of votes received',\n",
    "        },\n",
    "        'pos': (2,2)\n",
    "    },\n",
    "}\n",
    "\n",
    "fig['layout']['legend']['orientation'] = 'h'\n",
    "fig['layout']['legend']['x'] = 0\n",
    "fig['layout']['legend']['y'] = -0.1\n",
    "\n",
    "fig['layout']['width'] = 750\n",
    "fig['layout']['height'] = 900\n",
    "\n",
    "\n",
    "\n",
    "for key, subplot in enumerate(subplots):\n",
    "    if key == 2:\n",
    "        showlegend = True\n",
    "\n",
    "    else:\n",
    "        showlegend = False\n",
    "    \n",
    "        \n",
    "    for subreddit in ['politics','SandersForPresident','The_Donald','Conservative']:\n",
    "        X = []\n",
    "        Y = []\n",
    "\n",
    "        for y in percentages[subreddit][subplot]:\n",
    "            x = percentages[subreddit][subplot][y]\n",
    "            Y.append(y)\n",
    "            X.append(x)\n",
    "            if int(y) >= 95:\n",
    "                break\n",
    "\n",
    "        trace = go.Scatter(\n",
    "            x = X,\n",
    "            y = Y,\n",
    "            mode = 'lines',\n",
    "            name = subreddit,\n",
    "            line = {\n",
    "                'color' : ('rgb' + colors[subreddit][0]),\n",
    "                'dash': colors[subreddit][1]\n",
    "\n",
    "            },\n",
    "            showlegend = showlegend\n",
    "        )\n",
    "\n",
    "        fig.append_trace(trace,subplots[subplot]['pos'][0],subplots[subplot]['pos'][1])\n",
    "        \n",
    "        if key == 2 or key == 3:\n",
    "            fig['layout']['xaxis' + str(key+1)].update({\n",
    "                'title': \"<b>\" + subplots[subplot]['title']['x'] + \"</b>\",\n",
    "                'titlefont': {\n",
    "                    'family': 'Courier New, monospace',\n",
    "                    'size': 25,\n",
    "                    'color':'black'\n",
    "                }\n",
    "            })\n",
    "            \n",
    "        if key == 0 or  key == 2:\n",
    "            fig['layout']['yaxis' + str(key+1)].update({\n",
    "                'title': \"<b>\" + subplots[subplot]['title']['y'] + \"</b>\",\n",
    "                'titlefont': {\n",
    "                    'family': 'Courier New, monospace',\n",
    "                    'size': 25,\n",
    "                    'color':'black'\n",
    "                }\n",
    "            })\n",
    "            \n",
    "        \n",
    "\n",
    "\n",
    "\n",
    "display(py.iplot(fig, filename='customizing-subplot-axes'))"
   ]
  },
  {
   "cell_type": "code",
   "execution_count": 297,
   "metadata": {},
   "outputs": [],
   "source": [
    "def plot(vals,dict_key,title,x_label,y_label):\n",
    "    \n",
    "    data = []\n",
    "    \n",
    "    colors = {\n",
    "        'The_Donald': ('(139,0,0)','dashdot'),\n",
    "        'Conservative': ('(255,0,0)','dot'),\n",
    "        'politics': ('(0,191,255)',None),\n",
    "        'SandersForPresident': ('(0,0,255)','dash'),\n",
    "    }\n",
    "    \n",
    "    for subreddit in ['politics','SandersForPresident','The_Donald','Conservative']:\n",
    "        X = []\n",
    "        Y = []\n",
    "        \n",
    "        for y in vals[subreddit][dict_key]:\n",
    "            x = vals[subreddit][dict_key][y]\n",
    "            Y.append(y)\n",
    "            X.append(x)\n",
    "            if int(y) >= 95:\n",
    "                break\n",
    "        \n",
    "        trace = go.Scatter(\n",
    "            x = X,\n",
    "            y = Y,\n",
    "            mode = 'lines',\n",
    "            name = subreddit,\n",
    "            line = {\n",
    "                'color' : ('rgb' + colors[subreddit][0]),\n",
    "                'dash': colors[subreddit][1]\n",
    "\n",
    "            }\n",
    "        )\n",
    "\n",
    "        data.append(trace)\n",
    "        \n",
    "    layout = go.Layout(\n",
    "            xaxis = dict(\n",
    "                title = x_label,\n",
    "                titlefont=dict(\n",
    "                    family='Courier New, monospace',\n",
    "                    size=22,\n",
    "                    color='black'\n",
    "                )\n",
    "            ),\n",
    "            yaxis = dict(\n",
    "                title = y_label,\n",
    "                titlefont = dict(\n",
    "                    family='Courier New, monospace',\n",
    "                    size=22,\n",
    "                    color='black'\n",
    "                )\n",
    "            )\n",
    "        )\n",
    "    \n",
    "    fig = go.Figure(data=data, layout=layout)\n",
    "    \n",
    "    display(py.iplot(fig, filename='styled-line'))"
   ]
  },
  {
   "cell_type": "code",
   "execution_count": 227,
   "metadata": {
    "collapsed": true
   },
   "outputs": [
    {
     "data": {
      "text/html": [
       "<iframe id=\"igraph\" scrolling=\"no\" style=\"border:none;\" seamless=\"seamless\" src=\"https://plot.ly/~soli__/43.embed\" height=\"525px\" width=\"100%\"></iframe>"
      ],
      "text/plain": [
       "<plotly.tools.PlotlyDisplay object>"
      ]
     },
     "metadata": {},
     "output_type": "display_data"
    }
   ],
   "source": [
    "plot(percentages,'%_of_users_required_for_%_of_votes_received','title','% of users required','% of votes received')"
   ]
  },
  {
   "cell_type": "code",
   "execution_count": 221,
   "metadata": {
    "collapsed": true
   },
   "outputs": [
    {
     "data": {
      "text/html": [
       "<iframe id=\"igraph\" scrolling=\"no\" style=\"border:none;\" seamless=\"seamless\" src=\"https://plot.ly/~soli__/43.embed\" height=\"525px\" width=\"100%\"></iframe>"
      ],
      "text/plain": [
       "<plotly.tools.PlotlyDisplay object>"
      ]
     },
     "metadata": {},
     "output_type": "display_data"
    }
   ],
   "source": [
    "plot(percentages,'%_of_posts_required_for_%_of_votes_received','title','% of submissions required','% of votes received')"
   ]
  },
  {
   "cell_type": "code",
   "execution_count": 222,
   "metadata": {
    "collapsed": true
   },
   "outputs": [
    {
     "data": {
      "text/html": [
       "<iframe id=\"igraph\" scrolling=\"no\" style=\"border:none;\" seamless=\"seamless\" src=\"https://plot.ly/~soli__/43.embed\" height=\"525px\" width=\"100%\"></iframe>"
      ],
      "text/plain": [
       "<plotly.tools.PlotlyDisplay object>"
      ]
     },
     "metadata": {},
     "output_type": "display_data"
    }
   ],
   "source": [
    "plot(percentages,'%_of_users_required_for_%_of_comments_received','title','% of users required','% of comments received')"
   ]
  },
  {
   "cell_type": "code",
   "execution_count": 228,
   "metadata": {
    "collapsed": true
   },
   "outputs": [
    {
     "data": {
      "text/html": [
       "<iframe id=\"igraph\" scrolling=\"no\" style=\"border:none;\" seamless=\"seamless\" src=\"https://plot.ly/~soli__/43.embed\" height=\"525px\" width=\"100%\"></iframe>"
      ],
      "text/plain": [
       "<plotly.tools.PlotlyDisplay object>"
      ]
     },
     "metadata": {},
     "output_type": "display_data"
    }
   ],
   "source": [
    "plot(percentages,'%_of_posts_required_for_%_of_comments_received','title','% of submissions required','% of comments received')"
   ]
  },
  {
   "cell_type": "code",
   "execution_count": 284,
   "metadata": {
    "collapsed": true
   },
   "outputs": [
    {
     "name": "stdout",
     "output_type": "stream",
     "text": [
      "This is the format of your plot grid:\n",
      "[ (1,1) x1,y1 ]  [ (1,2) x2,y2 ]\n",
      "[ (2,1) x3,y3 ]  [ (2,2) x4,y4 ]\n",
      "\n"
     ]
    },
    {
     "data": {
      "text/html": [
       "<iframe id=\"igraph\" scrolling=\"no\" style=\"border:none;\" seamless=\"seamless\" src=\"https://plot.ly/~soli__/45.embed\" height=\"750px\" width=\"750px\"></iframe>"
      ],
      "text/plain": [
       "<plotly.tools.PlotlyDisplay object>"
      ]
     },
     "metadata": {},
     "output_type": "display_data"
    }
   ],
   "source": [
    "colors = {\n",
    "    'The_Donald': ('(139,0,0)','dashdot'),\n",
    "    'Conservative': ('(255,0,0)','dot'),\n",
    "    'politics': ('(0,191,255)',None),\n",
    "    'SandersForPresident': ('(0,0,255)','dash'),\n",
    "}\n",
    "    \n",
    "fig = plotly.tools.make_subplots(rows=2,cols=2)\n",
    "\n",
    "subplots = {\n",
    "    '%_of_posts_required_for_%_of_comments_received': {\n",
    "        'title': {\n",
    "            'x':'% of submissions required',\n",
    "            'y': '% of comments received'\n",
    "        },\n",
    "        'pos': (1,1)\n",
    "    },\n",
    "    '%_of_users_required_for_%_of_comments_received': {\n",
    "        'title': {\n",
    "            'x': '% of submission authors required',\n",
    "            'y': '% of comments received',    \n",
    "        },\n",
    "        'pos': (1,2)\n",
    "    },\n",
    "    '%_of_posts_required_for_%_of_votes_received': {\n",
    "        'title': {\n",
    "            'x': '% of submissions required',\n",
    "            'y': '% of votes received',\n",
    "        },\n",
    "        'pos': (2,1)\n",
    "    },\n",
    "    '%_of_users_required_for_%_of_votes_received': {\n",
    "        'title': {\n",
    "            'x': '% of sumbission authors required',\n",
    "            'y': '% of votes received',\n",
    "        },\n",
    "        'pos': (2,2)\n",
    "    },\n",
    "}\n",
    "\n",
    "fig['layout']['legend']['orientation'] = 'h'\n",
    "fig['layout']['legend']['x'] = 0\n",
    "fig['layout']['legend']['y'] = -0.1\n",
    "\n",
    "fig['layout']['width'] = 750\n",
    "fig['layout']['height'] = 750\n",
    "\n",
    "\n",
    "\n",
    "for key, subplot in enumerate(subplots):\n",
    "    if key == 2:\n",
    "        showlegend = True\n",
    "\n",
    "    else:\n",
    "        showlegend = False\n",
    "    \n",
    "        \n",
    "    for subreddit in ['politics','SandersForPresident','The_Donald','Conservative']:\n",
    "        X = []\n",
    "        Y = []\n",
    "\n",
    "        for y in percentages[subreddit][subplot]:\n",
    "            x = percentages[subreddit][subplot][y]\n",
    "            Y.append(y)\n",
    "            X.append(x)\n",
    "            if int(y) >= 80:\n",
    "                break\n",
    "\n",
    "        trace = go.Scatter(\n",
    "            x = X,\n",
    "            y = Y,\n",
    "            mode = 'lines',\n",
    "            name = subreddit,\n",
    "            line = {\n",
    "                'color' : ('rgb' + colors[subreddit][0]),\n",
    "                'dash': colors[subreddit][1]\n",
    "\n",
    "            },\n",
    "            showlegend = showlegend\n",
    "        )\n",
    "\n",
    "        fig.append_trace(trace,subplots[subplot]['pos'][0],subplots[subplot]['pos'][1])\n",
    "        \n",
    "        if key == 2 or key == 3:\n",
    "            fig['layout']['xaxis' + str(key+1)].update({\n",
    "                'title': subplots[subplot]['title']['x'],\n",
    "                'titlefont': {\n",
    "                    'family': 'Courier New, monospace',\n",
    "                    'size': 25,\n",
    "                    'color':'black'\n",
    "                }\n",
    "            })\n",
    "            \n",
    "        if key == 0 or  key == 2:\n",
    "            fig['layout']['yaxis' + str(key+1)].update({\n",
    "                'title': subplots[subplot]['title']['y'],\n",
    "                'titlefont': {\n",
    "                    'family': 'Courier New, monospace',\n",
    "                    'size': 25,\n",
    "                    'color':'black'\n",
    "                }\n",
    "            })\n",
    "            \n",
    "        \n",
    "\n",
    "\n",
    "\n",
    "display(py.iplot(fig, filename='customizing-subplot-axes'))"
   ]
  },
  {
   "cell_type": "code",
   "execution_count": null,
   "metadata": {},
   "outputs": [],
   "source": []
  }
 ],
 "metadata": {
  "kernelspec": {
   "display_name": "Python 3",
   "language": "python",
   "name": "python3"
  },
  "language_info": {
   "codemirror_mode": {
    "name": "ipython",
    "version": 3
   },
   "file_extension": ".py",
   "mimetype": "text/x-python",
   "name": "python",
   "nbconvert_exporter": "python",
   "pygments_lexer": "ipython3",
   "version": "3.7.1"
  }
 },
 "nbformat": 4,
 "nbformat_minor": 2
}
