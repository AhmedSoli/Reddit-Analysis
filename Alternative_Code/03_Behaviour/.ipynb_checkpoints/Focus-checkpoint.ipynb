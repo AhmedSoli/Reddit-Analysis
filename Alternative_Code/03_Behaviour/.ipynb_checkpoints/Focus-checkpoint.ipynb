{
 "cells": [
  {
   "cell_type": "code",
   "execution_count": 1,
   "metadata": {},
   "outputs": [],
   "source": [
    "import pickle\n",
    "import gzip\n",
    "import plotly.plotly as py\n",
    "import plotly.graph_objs as go\n",
    "import numpy as np"
   ]
  },
  {
   "cell_type": "code",
   "execution_count": 2,
   "metadata": {},
   "outputs": [],
   "source": [
    "focus = pickle.load(gzip.open(\"../Results/focus.pickle.gz\",\"rb\"))\n",
    "num_comments_before = pickle.load(gzip.open(\"../Results/num_comments_before.pickle.gz\",\"rb\"))\n",
    "exclusive_users = pickle.load(gzip.open(\"../Results/exclusive_users.pickle.gz\",\"rb\"))"
   ]
  },
  {
   "cell_type": "code",
   "execution_count": 3,
   "metadata": {},
   "outputs": [],
   "source": [
    "import plotly\n",
    "plotly.tools.set_credentials_file(username='asoliman96', api_key='hT7t70HBrGXMY66xhYJO')\n",
    "\n",
    "def plot_sample(vals,title,x_label,y_label,activity,sample_size=15000,log=False):\n",
    "    data = []\n",
    "    \n",
    "    subreddits = list(vals.keys())\n",
    "    for subreddit in vals:\n",
    "        if len(vals[subreddit][activity]) < sample_size:\n",
    "            subreddits.remove(subreddit)\n",
    "            \n",
    "    colors = {\n",
    "        'The_Donald': '(255,0,0)',\n",
    "        'SandersForPresident': '(0,0,255)',\n",
    "        'democrats': '(0,255,255)',\n",
    "        'Republican': '(128,0,0)',\n",
    "        'NeutralPolitics': '(192,192,192)',\n",
    "        'politics': '(0,0,0)',\n",
    "        'progressive': '(0,128,128)',\n",
    "        'Conservative': '(128,0,128)'\n",
    "    }\n",
    "    \n",
    "    for subreddit in subreddits:\n",
    "       \n",
    "        X = []\n",
    "        Y = []\n",
    "        \n",
    "        sample = np.random.choice(list(vals[subreddit][activity].values()), sample_size)\n",
    "        for key, val in enumerate(sorted(sample,reverse=True)):\n",
    "            if log:\n",
    "                X.append(np.log(key+1))\n",
    "                if val <= 0:\n",
    "                    Y.append(0)\n",
    "                else:\n",
    "                    Y.append(np.log(val))\n",
    "            else:\n",
    "                X.append((key+1))\n",
    "                if val <= 0:\n",
    "                    Y.append(0)\n",
    "                else:\n",
    "                    Y.append((val))\n",
    "\n",
    "        trace = go.Scatter(\n",
    "            x = X,\n",
    "            y = Y,\n",
    "            mode = 'lines',\n",
    "            name = subreddit,\n",
    "            line = {\n",
    "                'color' : ('rgb' + colors[subreddit]),\n",
    "            }\n",
    "        )\n",
    "\n",
    "        data.append(trace)\n",
    "        \n",
    "    layout = go.Layout(\n",
    "            title = title,\n",
    "            xaxis = dict(\n",
    "                title = x_label,\n",
    "                titlefont=dict(\n",
    "                    family='Courier New, monospace',\n",
    "                    size=18,\n",
    "                    color='#7f7f7f'\n",
    "                )\n",
    "            ),\n",
    "            yaxis = dict(\n",
    "                title = y_label,\n",
    "                titlefont = dict(\n",
    "                    family='Courier New, monospace',\n",
    "                    size=18,\n",
    "                    color='#7f7f7f'\n",
    "                )\n",
    "            )\n",
    "        )\n",
    "    \n",
    "    fig = go.Figure(data=data, layout=layout)\n",
    "    \n",
    "    display(py.iplot(fig, filename='line-mode'))"
   ]
  },
  {
   "cell_type": "code",
   "execution_count": 6,
   "metadata": {},
   "outputs": [
    {
     "name": "stdout",
     "output_type": "stream",
     "text": [
      "The draw time for this plot will be slow for all clients.\n"
     ]
    },
    {
     "data": {
      "text/html": [
       "<iframe id=\"igraph\" scrolling=\"no\" style=\"border:none;\" seamless=\"seamless\" src=\"https://plot.ly/~asoliman96/16.embed\" height=\"525px\" width=\"100%\"></iframe>"
      ],
      "text/plain": [
       "<plotly.tools.PlotlyDisplay object>"
      ]
     },
     "metadata": {},
     "output_type": "display_data"
    }
   ],
   "source": [
    "plot_sample(num_comments_before,'Users Age','log(rank)','log(# comments before joining)','all',log=True)"
   ]
  },
  {
   "cell_type": "code",
   "execution_count": 7,
   "metadata": {},
   "outputs": [
    {
     "name": "stdout",
     "output_type": "stream",
     "text": [
      "The draw time for this plot will be slow for clients without much RAM.\n"
     ]
    },
    {
     "data": {
      "text/html": [
       "<iframe id=\"igraph\" scrolling=\"no\" style=\"border:none;\" seamless=\"seamless\" src=\"https://plot.ly/~asoliman96/16.embed\" height=\"525px\" width=\"100%\"></iframe>"
      ],
      "text/plain": [
       "<plotly.tools.PlotlyDisplay object>"
      ]
     },
     "metadata": {},
     "output_type": "display_data"
    }
   ],
   "source": [
    "plot_sample(num_comments_before,'Active Users Age','log(rank)','log(# comments before joining)','active',log=True)"
   ]
  },
  {
   "cell_type": "code",
   "execution_count": 7,
   "metadata": {
    "collapsed": true
   },
   "outputs": [
    {
     "name": "stdout",
     "output_type": "stream",
     "text": [
      "High five! You successfully sent some data to your account on plotly. View your plot in your browser at https://plot.ly/~soli__/0 or inside your plot.ly account where it is named 'line-mode'\n"
     ]
    },
    {
     "data": {
      "text/html": [
       "<iframe id=\"igraph\" scrolling=\"no\" style=\"border:none;\" seamless=\"seamless\" src=\"https://plot.ly/~soli__/0.embed\" height=\"525px\" width=\"100%\"></iframe>"
      ],
      "text/plain": [
       "<plotly.tools.PlotlyDisplay object>"
      ]
     },
     "metadata": {},
     "output_type": "display_data"
    }
   ],
   "source": [
    "plot_sample(num_comments_before,'Extremely Active Users Age','log(rank)','log(user age)','extremely_active',log=True)"
   ]
  },
  {
   "cell_type": "code",
   "execution_count": 9,
   "metadata": {
    "collapsed": true
   },
   "outputs": [
    {
     "name": "stdout",
     "output_type": "stream",
     "text": [
      "High five! You successfully sent some data to your account on plotly. View your plot in your browser at https://plot.ly/~soli__/0 or inside your plot.ly account where it is named 'line-mode'\n"
     ]
    },
    {
     "data": {
      "text/html": [
       "<iframe id=\"igraph\" scrolling=\"no\" style=\"border:none;\" seamless=\"seamless\" src=\"https://plot.ly/~soli__/0.embed\" height=\"525px\" width=\"100%\"></iframe>"
      ],
      "text/plain": [
       "<plotly.tools.PlotlyDisplay object>"
      ]
     },
     "metadata": {},
     "output_type": "display_data"
    }
   ],
   "source": [
    "plot_sample(num_comments_before,'Mega Active Users Age','log(rank)','log(user age)','mega_active',log=True)"
   ]
  },
  {
   "cell_type": "code",
   "execution_count": 6,
   "metadata": {},
   "outputs": [
    {
     "name": "stdout",
     "output_type": "stream",
     "text": [
      "The draw time for this plot will be slow for all clients.\n"
     ]
    },
    {
     "name": "stderr",
     "output_type": "stream",
     "text": [
      "/home/asol/anaconda3/lib/python3.7/site-packages/plotly/api/v1/clientresp.py:40: UserWarning:\n",
      "\n",
      "Estimated Draw Time Too Long\n",
      "\n",
      "/home/asol/anaconda3/lib/python3.7/site-packages/IPython/core/display.py:689: UserWarning:\n",
      "\n",
      "Consider using IPython.display.IFrame instead\n",
      "\n"
     ]
    },
    {
     "data": {
      "text/html": [
       "<iframe id=\"igraph\" scrolling=\"no\" style=\"border:none;\" seamless=\"seamless\" src=\"https://plot.ly/~asoliman96/16.embed\" height=\"525px\" width=\"100%\"></iframe>"
      ],
      "text/plain": [
       "<plotly.tools.PlotlyDisplay object>"
      ]
     },
     "metadata": {},
     "output_type": "display_data"
    }
   ],
   "source": [
    "plot_sample(focus,'Users Focus','rank','# comments in board / # all comments','all')"
   ]
  },
  {
   "cell_type": "code",
   "execution_count": 7,
   "metadata": {},
   "outputs": [
    {
     "name": "stdout",
     "output_type": "stream",
     "text": [
      "The draw time for this plot will be slow for clients without much RAM.\n"
     ]
    },
    {
     "name": "stderr",
     "output_type": "stream",
     "text": [
      "/home/asol/anaconda3/lib/python3.7/site-packages/plotly/api/v1/clientresp.py:40: UserWarning:\n",
      "\n",
      "Estimated Draw Time Slow\n",
      "\n"
     ]
    },
    {
     "data": {
      "text/html": [
       "<iframe id=\"igraph\" scrolling=\"no\" style=\"border:none;\" seamless=\"seamless\" src=\"https://plot.ly/~asoliman96/16.embed\" height=\"525px\" width=\"100%\"></iframe>"
      ],
      "text/plain": [
       "<plotly.tools.PlotlyDisplay object>"
      ]
     },
     "metadata": {},
     "output_type": "display_data"
    }
   ],
   "source": [
    "plot_sample(focus,'Avtice Users Focus','rank','# comments in board / # all comments','active')"
   ]
  },
  {
   "cell_type": "code",
   "execution_count": 7,
   "metadata": {},
   "outputs": [
    {
     "name": "stdout",
     "output_type": "stream",
     "text": [
      "High five! You successfully sent some data to your account on plotly. View your plot in your browser at https://plot.ly/~soli__/0 or inside your plot.ly account where it is named 'line-mode'\n"
     ]
    },
    {
     "data": {
      "text/html": [
       "<iframe id=\"igraph\" scrolling=\"no\" style=\"border:none;\" seamless=\"seamless\" src=\"https://plot.ly/~soli__/0.embed\" height=\"525px\" width=\"100%\"></iframe>"
      ],
      "text/plain": [
       "<plotly.tools.PlotlyDisplay object>"
      ]
     },
     "metadata": {},
     "output_type": "display_data"
    }
   ],
   "source": [
    "plot_sample(focus,'Extremely Avtice Users Focus','rank','user focus','extremely_active')"
   ]
  },
  {
   "cell_type": "code",
   "execution_count": 13,
   "metadata": {},
   "outputs": [
    {
     "name": "stdout",
     "output_type": "stream",
     "text": [
      "High five! You successfully sent some data to your account on plotly. View your plot in your browser at https://plot.ly/~soli__/0 or inside your plot.ly account where it is named 'line-mode'\n"
     ]
    },
    {
     "data": {
      "text/html": [
       "<iframe id=\"igraph\" scrolling=\"no\" style=\"border:none;\" seamless=\"seamless\" src=\"https://plot.ly/~soli__/0.embed\" height=\"525px\" width=\"100%\"></iframe>"
      ],
      "text/plain": [
       "<plotly.tools.PlotlyDisplay object>"
      ]
     },
     "metadata": {},
     "output_type": "display_data"
    }
   ],
   "source": [
    "plot_sample(focus,'Mega Avtice Users Focus','rank','user focus','mega_active')"
   ]
  },
  {
   "cell_type": "code",
   "execution_count": 21,
   "metadata": {},
   "outputs": [],
   "source": [
    "def plot_sample_alt(vals,title,x_label,y_label,sample_size=3930,log=False):\n",
    "    data = []\n",
    "    \n",
    "    subreddits = list(vals.keys())\n",
    "    for subreddit in vals:\n",
    "        if len(vals[subreddit]) < sample_size:\n",
    "            subreddits.remove(subreddit)\n",
    "    colors = {\n",
    "        'The_Donald': '(255,0,0)',\n",
    "        'SandersForPresident': '(0,0,255)',\n",
    "        'democrats': '(0,255,255)',\n",
    "        'Republican': '(128,0,0)',\n",
    "        'NeutralPolitics': '(192,192,192)',\n",
    "        'politics': '(0,0,0)',\n",
    "        'progressive': '(0,128,128)',\n",
    "        'Conservative': '(128,0,128)'\n",
    "    }\n",
    "    \n",
    "    \n",
    "    for subreddit in subreddits:\n",
    "       \n",
    "        X = []\n",
    "        Y = []\n",
    "        \n",
    "        \n",
    "        \n",
    "        sample = np.random.choice(vals[subreddit], sample_size)\n",
    "        for key, val in enumerate(sorted(sample,reverse=True)):\n",
    "            if log:\n",
    "                X.append(np.log(key+1))\n",
    "                if val <= 0:\n",
    "                    Y.append(0)\n",
    "                else:\n",
    "                    Y.append(np.log(val))\n",
    "            else:\n",
    "                X.append((key+1))\n",
    "                if val <= 0:\n",
    "                    Y.append(0)\n",
    "                else:\n",
    "                    Y.append((val))\n",
    "\n",
    "        trace = go.Scatter(\n",
    "            x = X,\n",
    "            y = Y,\n",
    "            mode = 'lines',\n",
    "            name = subreddit,\n",
    "            line = {\n",
    "                'color' : ('rgb' + colors[subreddit]),\n",
    "            }\n",
    "        )\n",
    "\n",
    "        data.append(trace)\n",
    "        \n",
    "    layout = go.Layout(\n",
    "            title = title,\n",
    "            xaxis = dict(\n",
    "                title = x_label,\n",
    "                titlefont=dict(\n",
    "                    family='Courier New, monospace',\n",
    "                    size=18,\n",
    "                    color='#7f7f7f'\n",
    "                )\n",
    "            ),\n",
    "            yaxis = dict(\n",
    "                title = y_label,\n",
    "                titlefont = dict(\n",
    "                    family='Courier New, monospace',\n",
    "                    size=18,\n",
    "                    color='#7f7f7f'\n",
    "                )\n",
    "            )\n",
    "        )\n",
    "    \n",
    "    fig = go.Figure(data=data, layout=layout)\n",
    "    \n",
    "    display(py.iplot(fig, filename='line-mode'))"
   ]
  },
  {
   "cell_type": "code",
   "execution_count": 22,
   "metadata": {},
   "outputs": [
    {
     "data": {
      "text/html": [
       "<iframe id=\"igraph\" scrolling=\"no\" style=\"border:none;\" seamless=\"seamless\" src=\"https://plot.ly/~asoliman96/16.embed\" height=\"525px\" width=\"100%\"></iframe>"
      ],
      "text/plain": [
       "<plotly.tools.PlotlyDisplay object>"
      ]
     },
     "metadata": {},
     "output_type": "display_data"
    }
   ],
   "source": [
    "plot_sample_alt(exclusive_users,'#Comment For Exlusive Users','log(#comments)','log(rank)',log=True)"
   ]
  },
  {
   "cell_type": "code",
   "execution_count": 20,
   "metadata": {},
   "outputs": [
    {
     "data": {
      "text/plain": [
       "3930"
      ]
     },
     "execution_count": 20,
     "metadata": {},
     "output_type": "execute_result"
    }
   ],
   "source": [
    "len(exclusive_users['SandersForPresident'])"
   ]
  },
  {
   "cell_type": "code",
   "execution_count": 27,
   "metadata": {},
   "outputs": [],
   "source": [
    "perc_exclusive_users = {}\n",
    "\n",
    "for subreddit in focus:\n",
    "    perc_exclusive_users[subreddit] = len(exclusive_users[subreddit])/float(len(focus[subreddit]['all']))"
   ]
  },
  {
   "cell_type": "code",
   "execution_count": 28,
   "metadata": {},
   "outputs": [
    {
     "data": {
      "text/plain": [
       "{'politics': 0.04192873406333065,\n",
       " 'NeutralPolitics': 0.006447044793918164,\n",
       " 'The_Donald': 0.05608686382602869,\n",
       " 'SandersForPresident': 0.020206071076011845,\n",
       " 'democrats': 0.00304263804942231,\n",
       " 'Republican': 0.006434668417596849,\n",
       " 'Conservative': 0.010664232648958417,\n",
       " 'progressive': 0.0014538134645493178}"
      ]
     },
     "execution_count": 28,
     "metadata": {},
     "output_type": "execute_result"
    }
   ],
   "source": [
    "perc_exclusive_users"
   ]
  },
  {
   "cell_type": "code",
   "execution_count": 32,
   "metadata": {},
   "outputs": [
    {
     "data": {
      "text/html": [
       "<iframe id=\"igraph\" scrolling=\"no\" style=\"border:none;\" seamless=\"seamless\" src=\"https://plot.ly/~asoliman96/20.embed\" height=\"525px\" width=\"100%\"></iframe>"
      ],
      "text/plain": [
       "<plotly.tools.PlotlyDisplay object>"
      ]
     },
     "execution_count": 32,
     "metadata": {},
     "output_type": "execute_result"
    }
   ],
   "source": [
    "color = []\n",
    "colors = {\n",
    "    'The_Donald': 'rgb(255,0,0)',\n",
    "    'SandersForPresident': 'rgb(0,0,255)',\n",
    "    'democrats': 'rgb(0,255,255)',\n",
    "    'Republican': 'rgb(128,0,0)',\n",
    "    'NeutralPolitics': 'rgb(192,192,192)',\n",
    "    'politics': 'rgb(0,0,0)',\n",
    "    'progressive': 'rgb(0,128,128)',\n",
    "    'Conservative': 'rgb(128,0,128)'\n",
    "}\n",
    "    \n",
    "\n",
    "for subreddit in perc_exclusive_users.keys():\n",
    "    color.append(colors[subreddit])\n",
    "\n",
    "trace0 = go.Bar(\n",
    "    x=list(perc_exclusive_users.keys()),\n",
    "    y=list(perc_exclusive_users.values()),\n",
    "    marker= {\n",
    "        'color':color\n",
    "    }\n",
    ")\n",
    "\n",
    "data = [trace0]\n",
    "layout = go.Layout(\n",
    "    title='Percentages of Exclusive Users',\n",
    "    xaxis = dict(\n",
    "        title = 'Subreddit',\n",
    "        titlefont=dict(\n",
    "            family='Courier New, monospace',\n",
    "            size=18,\n",
    "            color='#7f7f7f'\n",
    "        )\n",
    "    ),\n",
    "    yaxis = dict(\n",
    "        title = 'Percentage of Exclusive users',\n",
    "        titlefont = dict(\n",
    "            family='Courier New, monospace',\n",
    "            size=18,\n",
    "            color='#7f7f7f'\n",
    "        )\n",
    "    )\n",
    ")\n",
    "\n",
    "fig = go.Figure(data=data, layout=layout)\n",
    "py.iplot(fig, filename='color-bar')"
   ]
  }
 ],
 "metadata": {
  "kernelspec": {
   "display_name": "Python 3",
   "language": "python",
   "name": "python3"
  },
  "language_info": {
   "codemirror_mode": {
    "name": "ipython",
    "version": 3
   },
   "file_extension": ".py",
   "mimetype": "text/x-python",
   "name": "python",
   "nbconvert_exporter": "python",
   "pygments_lexer": "ipython3",
   "version": "3.7.1"
  }
 },
 "nbformat": 4,
 "nbformat_minor": 2
}
