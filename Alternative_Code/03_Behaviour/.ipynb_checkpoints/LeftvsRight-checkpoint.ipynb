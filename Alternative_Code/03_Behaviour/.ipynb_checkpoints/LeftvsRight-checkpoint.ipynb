{
 "cells": [
  {
   "cell_type": "code",
   "execution_count": 1,
   "metadata": {},
   "outputs": [],
   "source": [
    "import pickle\n",
    "import gzip\n",
    "\n",
    "num_posts_before = pickle.load(gzip.open(\"../Results/left_right_num_post_before.pickle.gz\",\"rb\"))\n",
    "focus = pickle.load(gzip.open(\"../Results/left_right_post_focus.pickle.gz\",\"rb\"))\n",
    "exclusive = pickle.load(gzip.open(\"../Results/left_right_post_exclusive.pickle.gz\",\"rb\"))"
   ]
  },
  {
   "cell_type": "code",
   "execution_count": 2,
   "metadata": {},
   "outputs": [],
   "source": [
    "num_posts_before['Left Leaning'] = num_posts_before['left']\n",
    "num_posts_before['Right Leaning'] = num_posts_before['right']\n",
    "\n",
    "focus['Left Leaning'] = focus['left']\n",
    "focus['Right Leaning'] = focus['right']\n",
    "\n",
    "exclusive['Left Leaning'] = exclusive['left']\n",
    "exclusive['Right Leaning'] = exclusive['right']"
   ]
  },
  {
   "cell_type": "code",
   "execution_count": 3,
   "metadata": {},
   "outputs": [],
   "source": [
    "for pol in ['left','right']:\n",
    "    del num_posts_before[pol]\n",
    "    del focus[pol]\n",
    "    del exclusive[pol]"
   ]
  },
  {
   "cell_type": "code",
   "execution_count": 13,
   "metadata": {},
   "outputs": [],
   "source": [
    "import plotly\n",
    "import plotly.plotly as py\n",
    "import plotly.graph_objs as go\n",
    "import numpy as np\n",
    "\n",
    "plotly.tools.set_credentials_file(username='asoliman96', api_key='XGYOnVzeYju0QZZFfPeT')\n",
    "\n",
    "def plot_sample(vals,title,x_label,y_label,activity,sample_size=15000,log=False):\n",
    "    data = []\n",
    "    \n",
    "    subreddits = ['Left Leaning','Right Leaning']\n",
    "    for subreddit in subreddits:\n",
    "        if len(vals[subreddit][activity]) < sample_size:\n",
    "            subreddits.remove(subreddit)\n",
    "            \n",
    "    colors = {\n",
    "        'Right Leaning': ('(139,0,0)','dash'),\n",
    "        'Left Leaning': ('(0,191,255)',None),\n",
    "    }\n",
    "    \n",
    "    for subreddit in subreddits:\n",
    "       \n",
    "        X = []\n",
    "        Y = []\n",
    "        \n",
    "        sample = np.random.choice(vals[subreddit][activity], sample_size)\n",
    "        for key, val in enumerate(sorted(sample,reverse=True)):\n",
    "            if log:\n",
    "                X.append(np.log(key+1))\n",
    "                if val <= 0:\n",
    "                    Y.append(0)\n",
    "                else:\n",
    "                    Y.append(np.log(val))\n",
    "            else:\n",
    "                X.append((key+1))\n",
    "                if val <= 0:\n",
    "                    Y.append(0)\n",
    "                else:\n",
    "                    Y.append((val))\n",
    "\n",
    "        trace = go.Scatter(\n",
    "            x = X,\n",
    "            y = Y,\n",
    "            mode = 'lines',\n",
    "            name = subreddit,\n",
    "            line = {\n",
    "                'color' : ('rgb' + colors[subreddit][0]),\n",
    "                'dash': colors[subreddit][1]\n",
    "            }\n",
    "        )\n",
    "\n",
    "        data.append(trace)\n",
    "        \n",
    "    title =  {\n",
    "        'text':'<b>' + title + '</b>',\n",
    "        'font': {\n",
    "            'color': 'black',\n",
    "            'size': 30,\n",
    "            \n",
    "        }\n",
    "    }\n",
    "        \n",
    "        \n",
    "    layout = go.Layout(\n",
    "            xaxis = dict(\n",
    "                title = x_label,\n",
    "                titlefont=dict(\n",
    "                    family='Courier New, monospace',\n",
    "                    size=18,\n",
    "                    color='black'\n",
    "                )\n",
    "            ),\n",
    "            yaxis = dict(\n",
    "                title = y_label,\n",
    "                titlefont = dict(\n",
    "                    family='Courier New, monospace',\n",
    "                    size=18,\n",
    "                    color='black'\n",
    "                )\n",
    "            ),\n",
    "         legend = {\n",
    "                'font': {\n",
    "                    'size': 15\n",
    "                },\n",
    "                 'orientation':'h'\n",
    "            },\n",
    "        )\n",
    "    \n",
    "    fig = go.Figure(data=data, layout=layout)\n",
    "    \n",
    "    display(py.iplot(fig, filename='line-mode'))"
   ]
  },
  {
   "cell_type": "code",
   "execution_count": 35,
   "metadata": {},
   "outputs": [
    {
     "name": "stdout",
     "output_type": "stream",
     "text": [
      "This is the format of your plot grid:\n",
      "[ (1,1) x1,y1 ]  [ (1,2) x2,y2 ]\n",
      "\n",
      "The draw time for this plot will be slow for all clients.\n"
     ]
    },
    {
     "data": {
      "text/html": [
       "<iframe id=\"igraph\" scrolling=\"no\" style=\"border:none;\" seamless=\"seamless\" src=\"https://plot.ly/~asoliman96/22.embed\" height=\"500px\" width=\"1000px\"></iframe>"
      ],
      "text/plain": [
       "<plotly.tools.PlotlyDisplay object>"
      ]
     },
     "metadata": {},
     "output_type": "display_data"
    }
   ],
   "source": [
    "colors = {\n",
    "        'Right Leaning': ('(139,0,0)','dash'),\n",
    "        'Left Leaning': ('(0,191,255)',None),\n",
    "    }\n",
    "    \n",
    "fig = plotly.tools.make_subplots(rows=1,cols=2)\n",
    "\n",
    "\n",
    "fig['layout']['legend']['orientation'] = 'h'\n",
    "fig['layout']['legend']['x'] = 0\n",
    "fig['layout']['legend']['y'] = -0.2\n",
    "\n",
    "fig['layout']['width'] = 1000\n",
    "fig['layout']['height'] = 500\n",
    "   \n",
    "        \n",
    "for orient in colors:\n",
    "    sample = np.random.choice(focus[orient]['all'], 250000)\n",
    "    X,Y = [],[]\n",
    "    for key, val in enumerate(sorted(sample,reverse=True)):\n",
    "        X.append((key+1))\n",
    "        Y.append(val)\n",
    "    trace = go.Scatter(\n",
    "        x = X,\n",
    "        y = Y,\n",
    "        mode = 'lines',\n",
    "        name = orient,\n",
    "        line = {\n",
    "            'color' : ('rgb' + colors[orient][0]),\n",
    "            'dash': colors[orient][1]\n",
    "\n",
    "        },\n",
    "        showlegend = True\n",
    "    )\n",
    "\n",
    "    fig.append_trace(trace,1,1)\n",
    "    \n",
    "fig['layout']['xaxis1'].update({\n",
    "    'title': \"<b> users with #posts > 0</b>\",\n",
    "    'titlefont': {\n",
    "        'family': 'Courier New, monospace',\n",
    "        'size': 15,\n",
    "        'color':'black'\n",
    "    }\n",
    "})\n",
    "\n",
    "fig['layout']['yaxis1'].update({\n",
    "    'title': \"<b> # posts in source subreddits / # all posts </b>\",\n",
    "    'titlefont': {\n",
    "        'family': 'Courier New, monospace',\n",
    "        'size': 12,\n",
    "        'color':'black'\n",
    "    }\n",
    "})\n",
    "            \n",
    "for orient in colors:\n",
    "    sample = np.random.choice(focus[orient]['active'], 50000)\n",
    "    X,Y = [],[]\n",
    "    for key, val in enumerate(sorted(sample,reverse=True)):\n",
    "        X.append((key+1))\n",
    "        Y.append(val)\n",
    "    trace = go.Scatter(\n",
    "        x = X,\n",
    "        y = Y,\n",
    "        mode = 'lines',\n",
    "        name = orient,\n",
    "        line = {\n",
    "            'color' : ('rgb' + colors[orient][0]),\n",
    "            'dash': colors[orient][1]\n",
    "\n",
    "        },\n",
    "        showlegend = False\n",
    "    )\n",
    "\n",
    "    fig.append_trace(trace,1,2)\n",
    "    \n",
    "fig['layout']['xaxis2'].update({\n",
    "    'title': \"<b> users with #posts > 9</b>\",\n",
    "    'titlefont': {\n",
    "        'family': 'Courier New, monospace',\n",
    "        'size': 15,\n",
    "        'color':'black'\n",
    "    }\n",
    "})\n",
    "\n",
    "\n",
    "display(py.iplot(fig, filename='focus'))"
   ]
  },
  {
   "cell_type": "code",
   "execution_count": 14,
   "metadata": {},
   "outputs": [
    {
     "name": "stdout",
     "output_type": "stream",
     "text": [
      "The draw time for this plot will be slow for all clients.\n"
     ]
    },
    {
     "data": {
      "text/html": [
       "<iframe id=\"igraph\" scrolling=\"no\" style=\"border:none;\" seamless=\"seamless\" src=\"https://plot.ly/~asoliman96/16.embed\" height=\"525px\" width=\"100%\"></iframe>"
      ],
      "text/plain": [
       "<plotly.tools.PlotlyDisplay object>"
      ]
     },
     "metadata": {},
     "output_type": "display_data"
    }
   ],
   "source": [
    "plot_sample(focus,'Focus of users with #posts > 0','rank','# posts in board / # all posts','all',sample_size=250000)"
   ]
  },
  {
   "cell_type": "code",
   "execution_count": 17,
   "metadata": {},
   "outputs": [
    {
     "name": "stdout",
     "output_type": "stream",
     "text": [
      "The draw time for this plot will be slow for all clients.\n"
     ]
    },
    {
     "data": {
      "text/html": [
       "<iframe id=\"igraph\" scrolling=\"no\" style=\"border:none;\" seamless=\"seamless\" src=\"https://plot.ly/~asoliman96/16.embed\" height=\"525px\" width=\"100%\"></iframe>"
      ],
      "text/plain": [
       "<plotly.tools.PlotlyDisplay object>"
      ]
     },
     "metadata": {},
     "output_type": "display_data"
    }
   ],
   "source": [
    "plot_sample(focus,'Focus of users with #posts > 9','Users with #post > 0','# posts in board / # all posts','active',sample_size=50000)"
   ]
  },
  {
   "cell_type": "code",
   "execution_count": 23,
   "metadata": {},
   "outputs": [
    {
     "name": "stdout",
     "output_type": "stream",
     "text": [
      "High five! You successfully sent some data to your account on plotly. View your plot in your browser at https://plot.ly/~soli__/0 or inside your plot.ly account where it is named 'line-mode'\n"
     ]
    },
    {
     "data": {
      "text/html": [
       "<iframe id=\"igraph\" scrolling=\"no\" style=\"border:none;\" seamless=\"seamless\" src=\"https://plot.ly/~soli__/0.embed\" height=\"525px\" width=\"100%\"></iframe>"
      ],
      "text/plain": [
       "<plotly.tools.PlotlyDisplay object>"
      ]
     },
     "metadata": {},
     "output_type": "display_data"
    }
   ],
   "source": [
    "plot_sample(num_posts_before,'Users Age','log(rank)','log(# posts before joining)','all',log=True,sample_size=100000)"
   ]
  },
  {
   "cell_type": "code",
   "execution_count": 24,
   "metadata": {},
   "outputs": [
    {
     "name": "stdout",
     "output_type": "stream",
     "text": [
      "High five! You successfully sent some data to your account on plotly. View your plot in your browser at https://plot.ly/~soli__/0 or inside your plot.ly account where it is named 'line-mode'\n"
     ]
    },
    {
     "data": {
      "text/html": [
       "<iframe id=\"igraph\" scrolling=\"no\" style=\"border:none;\" seamless=\"seamless\" src=\"https://plot.ly/~soli__/0.embed\" height=\"525px\" width=\"100%\"></iframe>"
      ],
      "text/plain": [
       "<plotly.tools.PlotlyDisplay object>"
      ]
     },
     "metadata": {},
     "output_type": "display_data"
    }
   ],
   "source": [
    "exclusive_users_posts = {}\n",
    "for pol_orientation in exclusive:\n",
    "    exclusive_users_posts[pol_orientation] = {\n",
    "        'all': list(exclusive[pol_orientation].values())\n",
    "    } \n",
    "plot_sample(exclusive_users_posts,'Users Age','log(rank)','log(# posts)','all',log=True,sample_size=25000)"
   ]
  },
  {
   "cell_type": "code",
   "execution_count": 26,
   "metadata": {},
   "outputs": [
    {
     "data": {
      "text/html": [
       "<iframe id=\"igraph\" scrolling=\"no\" style=\"border:none;\" seamless=\"seamless\" src=\"https://plot.ly/~soli__/41.embed\" height=\"525px\" width=\"100%\"></iframe>"
      ],
      "text/plain": [
       "<plotly.tools.PlotlyDisplay object>"
      ]
     },
     "execution_count": 26,
     "metadata": {},
     "output_type": "execute_result"
    }
   ],
   "source": [
    "color = []\n",
    "colors = {\n",
    "        'Right Leaning': 'rgb(139,0,0)',\n",
    "        'Left Leaning': 'rgb(0,191,255)',\n",
    "    }\n",
    "\n",
    "subreddits = ['Left Leaning','Right Leaning']\n",
    "\n",
    "values = []\n",
    "annotations = []\n",
    "\n",
    "for subreddit in subreddits:\n",
    "    color.append(colors[subreddit])\n",
    "    percentage = len(exclusive[subreddit])  / float(len(focus[subreddit]['all']))\n",
    "    values.append(percentage)\n",
    "    annotations.append({\n",
    "        'x': subreddit,\n",
    "        'y': percentage,\n",
    "        'xref': 'x',\n",
    "        'yref': 'y',\n",
    "        'text': str(len(exclusive[subreddit])) +  '<br>' + 'members',\n",
    "        'showarrow': True,\n",
    "        'arrowhead': 5,\n",
    "        'ax': 0,\n",
    "        'ay':-40,\n",
    "    })\n",
    "\n",
    "trace0 = go.Bar(\n",
    "    x=subreddits,\n",
    "    y=values,\n",
    "    marker= {\n",
    "        'color':color\n",
    "    }\n",
    ")\n",
    "\n",
    "data = [trace0]\n",
    "\n",
    "layout = go.Layout(\n",
    "    xaxis = dict(\n",
    "     tickfont=dict(\n",
    "                size=20,\n",
    "                color='black'\n",
    "            )\n",
    "    ),\n",
    "    yaxis = dict(\n",
    "        title = '# exclusive users / # all users',\n",
    "        titlefont = dict(\n",
    "            family='Courier New, monospace',\n",
    "            size=18,\n",
    "            color='black'\n",
    "        ),\n",
    "        tickfont=dict(\n",
    "                size=18,\n",
    "                color='black'\n",
    "            ),\n",
    "    ),\n",
    "    annotations=annotations\n",
    ")\n",
    "\n",
    "fig = go.Figure(data=data, layout=layout)\n",
    "py.iplot(fig, filename='color-bar')"
   ]
  },
  {
   "cell_type": "code",
   "execution_count": null,
   "metadata": {},
   "outputs": [],
   "source": []
  }
 ],
 "metadata": {
  "kernelspec": {
   "display_name": "Python 3",
   "language": "python",
   "name": "python3"
  },
  "language_info": {
   "codemirror_mode": {
    "name": "ipython",
    "version": 3
   },
   "file_extension": ".py",
   "mimetype": "text/x-python",
   "name": "python",
   "nbconvert_exporter": "python",
   "pygments_lexer": "ipython3",
   "version": "3.7.1"
  }
 },
 "nbformat": 4,
 "nbformat_minor": 2
}
