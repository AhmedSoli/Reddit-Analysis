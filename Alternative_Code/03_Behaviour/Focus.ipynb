{
 "cells": [
  {
   "cell_type": "code",
   "execution_count": 1,
   "metadata": {},
   "outputs": [],
   "source": [
    "import pickle\n",
    "import gzip\n",
    "import plotly.plotly as py\n",
    "import plotly.graph_objs as go\n",
    "import numpy as np"
   ]
  },
  {
   "cell_type": "code",
   "execution_count": 2,
   "metadata": {},
   "outputs": [],
   "source": [
    "focus = pickle.load(gzip.open(\"../Results/focus.pickle.gz\",\"rb\"))\n",
    "num_comments_before = pickle.load(gzip.open(\"../Results/num_comments_before.pickle.gz\",\"rb\"))\n",
    "exclusive_users = pickle.load(gzip.open(\"../Results/exclusive_users.pickle.gz\",\"rb\"))"
   ]
  },
  {
   "cell_type": "code",
   "execution_count": 54,
   "metadata": {},
   "outputs": [
    {
     "name": "stdout",
     "output_type": "stream",
     "text": [
      "politics & 37.0 & 212.86 & 34.0 & 211.62 & 30.0 & 209.8 \\\\\n",
      "The\\_Donald & 33.0 & 216.29 & 22.0 & 185.38 & 18.0 & 188.99 \\\\\n",
      "SandersForPresident & 30.0 & 202.85 & 18.0 & 115.04 & 13.0 & 102.17 \\\\\n",
      "Conservative & 195.0 & 716.06 & 117.0 & 608.51 & 85.0 & 565.14 \\\\\n"
     ]
    }
   ],
   "source": [
    "for subreddit in ['politics','The_Donald','SandersForPresident','Conservative']:\n",
    "    print(subreddit.replace('_','\\_'),\"&\",\n",
    "         np.median(list(num_comments_before[subreddit]['all'].values())),\"&\",\n",
    "         round(np.mean(list(num_comments_before[subreddit]['all'].values())),2),\"&\",\n",
    "         np.median(list(num_comments_before[subreddit]['extremely_active'].values())),\"&\",\n",
    "         round(np.mean(list(num_comments_before[subreddit]['extremely_active'].values())),2),\"&\",\n",
    "         np.median(list(num_comments_before[subreddit]['mega_active'].values())),\"&\",\n",
    "         round(np.mean(list(num_comments_before[subreddit]['mega_active'].values())),2),\n",
    "          \"\\\\\\\\\")"
   ]
  },
  {
   "cell_type": "code",
   "execution_count": 41,
   "metadata": {},
   "outputs": [
    {
     "data": {
      "text/plain": [
       "30.0"
      ]
     },
     "execution_count": 41,
     "metadata": {},
     "output_type": "execute_result"
    }
   ],
   "source": [
    "np.median(list(num_comments_before['politics']['mega_active'].values()))"
   ]
  },
  {
   "cell_type": "code",
   "execution_count": 8,
   "metadata": {},
   "outputs": [],
   "source": [
    "import plotly\n",
    "plotly.tools.set_credentials_file(username='soli__', api_key='azOUWrgxv12Fmya1i5W7')\n",
    "\n",
    "def plot_sample(vals,title,x_label,y_label,activity,sample_size=15000,log=False):\n",
    "    data = []\n",
    "    \n",
    "    subreddits = ['SandersForPresident','politics','Conservative','The_Donald']\n",
    "    for subreddit in subreddits:\n",
    "        if len(vals[subreddit][activity]) < sample_size:\n",
    "            subreddits.remove(subreddit)\n",
    "            \n",
    "    colors = {\n",
    "        'The_Donald': ('(139,0,0)','dashdot'),\n",
    "        'Conservative': ('(255,0,0)','dot'),\n",
    "        'politics': ('(0,191,255)',None),\n",
    "        'SandersForPresident': ('(0,0,255)','dash'),\n",
    "    }\n",
    "    \n",
    "    for subreddit in subreddits:\n",
    "       \n",
    "        X = []\n",
    "        Y = []\n",
    "        \n",
    "        sample = np.random.choice(list(vals[subreddit][activity].values()), sample_size)\n",
    "        for key, val in enumerate(sorted(sample,reverse=True)):\n",
    "            if key >= 8000:\n",
    "                break\n",
    "            if log:\n",
    "                X.append(np.log(key+1))\n",
    "                if val <= 0:\n",
    "                    Y.append(0)\n",
    "                else:\n",
    "                    Y.append(np.log(val))\n",
    "            else:\n",
    "                X.append((key+1))\n",
    "                if val <= 0:\n",
    "                    Y.append(0)\n",
    "                else:\n",
    "                    Y.append((val))\n",
    "\n",
    "        trace = go.Scatter(\n",
    "            x = X,\n",
    "            y = Y,\n",
    "            mode = 'lines',\n",
    "            name = subreddit,\n",
    "            line = {\n",
    "                'color' : ('rgb' + colors[subreddit][0]),\n",
    "                'dash': colors[subreddit][1]\n",
    "            }\n",
    "        )\n",
    "\n",
    "        data.append(trace)\n",
    "        \n",
    "    title =  {\n",
    "        'text':'<b>' + title + '</b>',\n",
    "        'font': {\n",
    "            'color': 'black',\n",
    "            'size': 30,\n",
    "            \n",
    "        }\n",
    "    }\n",
    "        \n",
    "        \n",
    "    layout = go.Layout(\n",
    "            title = title,\n",
    "            xaxis = dict(\n",
    "                title = x_label,\n",
    "                titlefont=dict(\n",
    "                    family='Courier New, monospace',\n",
    "                    size=18,\n",
    "                    color='black'\n",
    "                )\n",
    "            ),\n",
    "            yaxis = dict(\n",
    "                title = y_label,\n",
    "                titlefont = dict(\n",
    "                    family='Courier New, monospace',\n",
    "                    size=18,\n",
    "                    color='black'\n",
    "                )\n",
    "            ),\n",
    "         legend = {\n",
    "                'font': {\n",
    "                    'size': 15\n",
    "                }\n",
    "            },\n",
    "        )\n",
    "    \n",
    "    fig = go.Figure(data=data, layout=layout)\n",
    "    \n",
    "    display(py.iplot(fig, filename='line-mode'))"
   ]
  },
  {
   "cell_type": "code",
   "execution_count": 6,
   "metadata": {
    "collapsed": true
   },
   "outputs": [
    {
     "name": "stdout",
     "output_type": "stream",
     "text": [
      "The draw time for this plot will be slow for all clients.\n"
     ]
    },
    {
     "name": "stderr",
     "output_type": "stream",
     "text": [
      "/home/asol/anaconda3/lib/python3.7/site-packages/plotly/api/v1/clientresp.py:40: UserWarning:\n",
      "\n",
      "Estimated Draw Time Too Long\n",
      "\n",
      "/home/asol/anaconda3/lib/python3.7/site-packages/IPython/core/display.py:689: UserWarning:\n",
      "\n",
      "Consider using IPython.display.IFrame instead\n",
      "\n"
     ]
    },
    {
     "data": {
      "text/html": [
       "<iframe id=\"igraph\" scrolling=\"no\" style=\"border:none;\" seamless=\"seamless\" src=\"https://plot.ly/~asoliman96/16.embed\" height=\"525px\" width=\"100%\"></iframe>"
      ],
      "text/plain": [
       "<plotly.tools.PlotlyDisplay object>"
      ]
     },
     "metadata": {},
     "output_type": "display_data"
    }
   ],
   "source": [
    "plot_sample(num_comments_before,'Users Age','log(rank)','log(# comments before joining)','all',log=True)"
   ]
  },
  {
   "cell_type": "code",
   "execution_count": 7,
   "metadata": {
    "collapsed": true
   },
   "outputs": [
    {
     "name": "stdout",
     "output_type": "stream",
     "text": [
      "The draw time for this plot will be slow for clients without much RAM.\n"
     ]
    },
    {
     "name": "stderr",
     "output_type": "stream",
     "text": [
      "/home/asol/anaconda3/lib/python3.7/site-packages/plotly/api/v1/clientresp.py:40: UserWarning:\n",
      "\n",
      "Estimated Draw Time Slow\n",
      "\n"
     ]
    },
    {
     "data": {
      "text/html": [
       "<iframe id=\"igraph\" scrolling=\"no\" style=\"border:none;\" seamless=\"seamless\" src=\"https://plot.ly/~asoliman96/16.embed\" height=\"525px\" width=\"100%\"></iframe>"
      ],
      "text/plain": [
       "<plotly.tools.PlotlyDisplay object>"
      ]
     },
     "metadata": {},
     "output_type": "display_data"
    }
   ],
   "source": [
    "plot_sample(num_comments_before,'Active Users Age','log(rank)','log(# comments before joining)','active',log=True)"
   ]
  },
  {
   "cell_type": "code",
   "execution_count": 8,
   "metadata": {
    "collapsed": true
   },
   "outputs": [
    {
     "name": "stdout",
     "output_type": "stream",
     "text": [
      "The draw time for this plot will be slow for clients without much RAM.\n"
     ]
    },
    {
     "data": {
      "text/html": [
       "<iframe id=\"igraph\" scrolling=\"no\" style=\"border:none;\" seamless=\"seamless\" src=\"https://plot.ly/~asoliman96/16.embed\" height=\"525px\" width=\"100%\"></iframe>"
      ],
      "text/plain": [
       "<plotly.tools.PlotlyDisplay object>"
      ]
     },
     "metadata": {},
     "output_type": "display_data"
    }
   ],
   "source": [
    "plot_sample(num_comments_before,'Extremely Active Users Age','log(rank)','log(user age)','extremely_active',log=True)"
   ]
  },
  {
   "cell_type": "code",
   "execution_count": 9,
   "metadata": {
    "collapsed": true
   },
   "outputs": [
    {
     "data": {
      "text/html": [
       "<iframe id=\"igraph\" scrolling=\"no\" style=\"border:none;\" seamless=\"seamless\" src=\"https://plot.ly/~asoliman96/16.embed\" height=\"525px\" width=\"100%\"></iframe>"
      ],
      "text/plain": [
       "<plotly.tools.PlotlyDisplay object>"
      ]
     },
     "metadata": {},
     "output_type": "display_data"
    }
   ],
   "source": [
    "plot_sample(num_comments_before,'Mega Active Users Age','log(rank)','log(user age)','mega_active',log=True)"
   ]
  },
  {
   "cell_type": "code",
   "execution_count": 9,
   "metadata": {},
   "outputs": [
    {
     "name": "stdout",
     "output_type": "stream",
     "text": [
      "High five! You successfully sent some data to your account on plotly. View your plot in your browser at https://plot.ly/~soli__/0 or inside your plot.ly account where it is named 'line-mode'\n"
     ]
    },
    {
     "data": {
      "text/html": [
       "<iframe id=\"igraph\" scrolling=\"no\" style=\"border:none;\" seamless=\"seamless\" src=\"https://plot.ly/~soli__/0.embed\" height=\"525px\" width=\"100%\"></iframe>"
      ],
      "text/plain": [
       "<plotly.tools.PlotlyDisplay object>"
      ]
     },
     "metadata": {},
     "output_type": "display_data"
    }
   ],
   "source": [
    "plot_sample(focus,'Focus of users with #posts > 0','rank','# posts in board / # all comments','all')"
   ]
  },
  {
   "cell_type": "code",
   "execution_count": 5,
   "metadata": {},
   "outputs": [
    {
     "name": "stdout",
     "output_type": "stream",
     "text": [
      "High five! You successfully sent some data to your account on plotly. View your plot in your browser at https://plot.ly/~soli__/0 or inside your plot.ly account where it is named 'line-mode'\n"
     ]
    },
    {
     "data": {
      "text/html": [
       "<iframe id=\"igraph\" scrolling=\"no\" style=\"border:none;\" seamless=\"seamless\" src=\"https://plot.ly/~soli__/0.embed\" height=\"525px\" width=\"100%\"></iframe>"
      ],
      "text/plain": [
       "<plotly.tools.PlotlyDisplay object>"
      ]
     },
     "metadata": {},
     "output_type": "display_data"
    }
   ],
   "source": [
    "plot_sample(focus,'Focus of users with #posts > 9','rank','# comments in board / # all comments','active')"
   ]
  },
  {
   "cell_type": "code",
   "execution_count": 6,
   "metadata": {},
   "outputs": [
    {
     "name": "stdout",
     "output_type": "stream",
     "text": [
      "High five! You successfully sent some data to your account on plotly. View your plot in your browser at https://plot.ly/~soli__/0 or inside your plot.ly account where it is named 'line-mode'\n"
     ]
    },
    {
     "data": {
      "text/html": [
       "<iframe id=\"igraph\" scrolling=\"no\" style=\"border:none;\" seamless=\"seamless\" src=\"https://plot.ly/~soli__/0.embed\" height=\"525px\" width=\"100%\"></iframe>"
      ],
      "text/plain": [
       "<plotly.tools.PlotlyDisplay object>"
      ]
     },
     "metadata": {},
     "output_type": "display_data"
    }
   ],
   "source": [
    "plot_sample(focus,'Extremely Avtice Users Focus','rank','# comments in board / # all comments','extremely_active')"
   ]
  },
  {
   "cell_type": "code",
   "execution_count": 13,
   "metadata": {},
   "outputs": [
    {
     "data": {
      "text/html": [
       "<iframe id=\"igraph\" scrolling=\"no\" style=\"border:none;\" seamless=\"seamless\" src=\"https://plot.ly/~asoliman96/16.embed\" height=\"525px\" width=\"100%\"></iframe>"
      ],
      "text/plain": [
       "<plotly.tools.PlotlyDisplay object>"
      ]
     },
     "metadata": {},
     "output_type": "display_data"
    }
   ],
   "source": [
    "plot_sample(focus,'Mega Avtice Users Focus','rank','user focus','mega_active')"
   ]
  },
  {
   "cell_type": "code",
   "execution_count": 25,
   "metadata": {},
   "outputs": [],
   "source": [
    "def plot_sample_alt(vals,title,x_label,y_label,sample_size=29464,log=False):\n",
    "    data = []\n",
    "    \n",
    "    subreddits = list(vals.keys())\n",
    "    for subreddit in vals:\n",
    "        if len(vals[subreddit]) < sample_size:\n",
    "            subreddits.remove(subreddit)\n",
    "    colors = {\n",
    "        'The_Donald': '(139,0,0)',\n",
    "        'Conservative': '(255,0,0)',\n",
    "        'Republican': '(205,92,92)',\n",
    "        'NeutralPolitics': '(112,128,144)',\n",
    "        'politics': '(0,191,255)',\n",
    "        'democrats': '(135,206,250)',\n",
    "        'progressive': '(0,0,139)',\n",
    "        'SandersForPresident': '(0,0,255)'\n",
    "    }\n",
    "    \n",
    "    \n",
    "    for subreddit in subreddits:\n",
    "       \n",
    "        X = []\n",
    "        Y = []\n",
    "        \n",
    "        \n",
    "        \n",
    "        sample = np.random.choice(vals[subreddit], sample_size)\n",
    "        for key, val in enumerate(sorted(sample,reverse=True)):\n",
    "            if log:\n",
    "                X.append(np.log(key+1))\n",
    "                if val <= 0:\n",
    "                    Y.append(0)\n",
    "                else:\n",
    "                    Y.append(np.log(val))\n",
    "            else:\n",
    "                X.append((key+1))\n",
    "                if val <= 0:\n",
    "                    Y.append(0)\n",
    "                else:\n",
    "                    Y.append((val))\n",
    "\n",
    "        trace = go.Scatter(\n",
    "            x = X,\n",
    "            y = Y,\n",
    "            mode = 'lines',\n",
    "            name = subreddit,\n",
    "            line = {\n",
    "                'color' : ('rgb' + colors[subreddit]),\n",
    "            }\n",
    "        )\n",
    "\n",
    "        data.append(trace)\n",
    "    \n",
    "    title =  {\n",
    "        'text':'<b>' + title + '</b>',\n",
    "        'font': {\n",
    "            'color': 'black',\n",
    "            'size': 30,\n",
    "            \n",
    "        }\n",
    "    }\n",
    "        \n",
    "    layout = go.Layout(\n",
    "            xaxis = dict(\n",
    "                title = '<b>' + x_label + '</b>',\n",
    "                titlefont=dict(\n",
    "                    family='Courier New, monospace',\n",
    "                    size=18,\n",
    "                    color='black'\n",
    "                )\n",
    "            ),\n",
    "            yaxis = dict(\n",
    "                title = '<b>' + y_label + '</b>',\n",
    "                titlefont = dict(\n",
    "                    family='Courier New, monospace',\n",
    "                    size=18,\n",
    "                    color='black'\n",
    "                )\n",
    "            ),\n",
    "            legend = {\n",
    "                'font': {\n",
    "                    'size': 15\n",
    "                }\n",
    "            },\n",
    "        )\n",
    "    \n",
    "    fig = go.Figure(data=data, layout=layout)\n",
    "    \n",
    "    display(py.iplot(fig, filename='line-mode'))"
   ]
  },
  {
   "cell_type": "code",
   "execution_count": 29,
   "metadata": {},
   "outputs": [
    {
     "name": "stdout",
     "output_type": "stream",
     "text": [
      "High five! You successfully sent some data to your account on plotly. View your plot in your browser at https://plot.ly/~soli__/0 or inside your plot.ly account where it is named 'line-mode'\n"
     ]
    },
    {
     "data": {
      "text/html": [
       "<iframe id=\"igraph\" scrolling=\"no\" style=\"border:none;\" seamless=\"seamless\" src=\"https://plot.ly/~soli__/0.embed\" height=\"525px\" width=\"100%\"></iframe>"
      ],
      "text/plain": [
       "<plotly.tools.PlotlyDisplay object>"
      ]
     },
     "metadata": {},
     "output_type": "display_data"
    }
   ],
   "source": [
    "plot_sample_alt(exclusive_users,'# Comments For Exlusive Users','log(#comments)','log(rank)',log=True)"
   ]
  },
  {
   "cell_type": "code",
   "execution_count": 28,
   "metadata": {},
   "outputs": [
    {
     "data": {
      "text/plain": [
       "29464"
      ]
     },
     "execution_count": 28,
     "metadata": {},
     "output_type": "execute_result"
    }
   ],
   "source": [
    "len(exclusive_users['The_Donald'])"
   ]
  },
  {
   "cell_type": "code",
   "execution_count": 20,
   "metadata": {},
   "outputs": [
    {
     "data": {
      "text/plain": [
       "3930"
      ]
     },
     "execution_count": 20,
     "metadata": {},
     "output_type": "execute_result"
    }
   ],
   "source": [
    "len(exclusive_users['SandersForPresident'])"
   ]
  },
  {
   "cell_type": "code",
   "execution_count": 7,
   "metadata": {},
   "outputs": [],
   "source": [
    "perc_exclusive_users = {}\n",
    "\n",
    "for subreddit in focus:\n",
    "    perc_exclusive_users[subreddit] = len(exclusive_users[subreddit])/float(len(focus[subreddit]['all']))"
   ]
  },
  {
   "cell_type": "code",
   "execution_count": 8,
   "metadata": {},
   "outputs": [
    {
     "data": {
      "text/plain": [
       "{'politics': 0.04192873406333065,\n",
       " 'NeutralPolitics': 0.006447044793918164,\n",
       " 'The_Donald': 0.05608686382602869,\n",
       " 'SandersForPresident': 0.020206071076011845,\n",
       " 'democrats': 0.00304263804942231,\n",
       " 'Republican': 0.006434668417596849,\n",
       " 'Conservative': 0.010664232648958417,\n",
       " 'progressive': 0.0014538134645493178}"
      ]
     },
     "execution_count": 8,
     "metadata": {},
     "output_type": "execute_result"
    }
   ],
   "source": [
    "perc_exclusive_users"
   ]
  },
  {
   "cell_type": "code",
   "execution_count": 61,
   "metadata": {},
   "outputs": [
    {
     "name": "stderr",
     "output_type": "stream",
     "text": [
      "/home/asol/anaconda3/lib/python3.7/site-packages/plotly/tools.py:1457: UserWarning:\n",
      "\n",
      "Looks like you used a newline character: '\\n'.\n",
      "\n",
      "Plotly uses a subset of HTML escape characters\n",
      "to do things like newline (<br>), bold (<b></b>),\n",
      "italics (<i></i>), etc. Your newline characters \n",
      "have been converted to '<br>' so they will show \n",
      "up right on your Plotly figure!\n",
      "\n"
     ]
    },
    {
     "data": {
      "text/html": [
       "<iframe id=\"igraph\" scrolling=\"no\" style=\"border:none;\" seamless=\"seamless\" src=\"https://plot.ly/~soli__/41.embed\" height=\"525px\" width=\"100%\"></iframe>"
      ],
      "text/plain": [
       "<plotly.tools.PlotlyDisplay object>"
      ]
     },
     "execution_count": 61,
     "metadata": {},
     "output_type": "execute_result"
    }
   ],
   "source": [
    "color = []\n",
    "colors = {\n",
    "        'The_Donald': 'rgb(139,0,0)',\n",
    "        'Conservative': 'rgb(255,0,0)',\n",
    "        'Republican': 'rgb(205,92,92)',\n",
    "        'NeutralPolitics': 'rgb(112,128,144)',\n",
    "        'politics': 'rgb(0,191,255)',\n",
    "        'democrats': 'rgb(135,206,250)',\n",
    "        'progressive': 'rgb(0,0,139)',\n",
    "        'SandersForPresident': 'rgb(0,0,255)',\n",
    "    }\n",
    "\n",
    "subreddits = ['SandersForPresident','politics','Conservative','The_Donald']\n",
    "values = []\n",
    "for subreddit in subreddits:\n",
    "    color.append(colors[subreddit])\n",
    "    values.append(perc_exclusive_users[subreddit])\n",
    "\n",
    "trace0 = go.Bar(\n",
    "    x=subreddits,\n",
    "    y=values,\n",
    "    marker= {\n",
    "        'color':color\n",
    "    }\n",
    ")\n",
    "\n",
    "data = [trace0]\n",
    "title =  {\n",
    "        'text':'<b>' + 'Percentage of Exclusive users' + '</b>',\n",
    "        'font': {\n",
    "            'color': 'black',\n",
    "            'size': 30,\n",
    "            \n",
    "        }\n",
    "    }\n",
    "layout = go.Layout(\n",
    "    xaxis = dict(\n",
    "     tickfont=dict(\n",
    "                size=20,\n",
    "                color='black'\n",
    "            )\n",
    "    ),\n",
    "    yaxis = dict(\n",
    "        title = title,\n",
    "        titlefont = dict(\n",
    "            family='Courier New, monospace',\n",
    "            size=18,\n",
    "            color='black'\n",
    "        ),\n",
    "        tickfont=dict(\n",
    "                size=18,\n",
    "                color='black'\n",
    "            ),\n",
    "    ),\n",
    "    \n",
    ")\n",
    "\n",
    "fig = go.Figure(data=data, layout=layout)\n",
    "py.iplot(fig, filename='color-bar')"
   ]
  },
  {
   "cell_type": "code",
   "execution_count": 10,
   "metadata": {},
   "outputs": [
    {
     "data": {
      "text/plain": [
       "dict_keys(['politics', 'NeutralPolitics', 'The_Donald', 'SandersForPresident', 'democrats', 'Republican', 'Conservative', 'progressive'])"
      ]
     },
     "execution_count": 10,
     "metadata": {},
     "output_type": "execute_result"
    }
   ],
   "source": [
    "focus.keys()"
   ]
  },
  {
   "cell_type": "code",
   "execution_count": 54,
   "metadata": {},
   "outputs": [
    {
     "data": {
      "text/plain": [
       "dict_keys(['all', 'active', 'extremely_active', 'mega_active'])"
      ]
     },
     "execution_count": 54,
     "metadata": {},
     "output_type": "execute_result"
    }
   ],
   "source": [
    "focus['politics'].keys()"
   ]
  },
  {
   "cell_type": "code",
   "execution_count": 25,
   "metadata": {},
   "outputs": [
    {
     "data": {
      "text/plain": [
       "975894"
      ]
     },
     "execution_count": 25,
     "metadata": {},
     "output_type": "execute_result"
    }
   ],
   "source": [
    "len(focus['politics']['all'])"
   ]
  },
  {
   "cell_type": "code",
   "execution_count": 32,
   "metadata": {},
   "outputs": [
    {
     "data": {
      "text/plain": [
       "0.12542345787554796"
      ]
     },
     "execution_count": 32,
     "metadata": {},
     "output_type": "execute_result"
    }
   ],
   "source": [
    "len(focus['politics']['mega_active'])/len(focus['politics']['all'])"
   ]
  },
  {
   "cell_type": "code",
   "execution_count": 31,
   "metadata": {},
   "outputs": [
    {
     "data": {
      "text/plain": [
       "0.11090785185636402"
      ]
     },
     "execution_count": 31,
     "metadata": {},
     "output_type": "execute_result"
    }
   ],
   "source": [
    "len(focus['The_Donald']['mega_active'])/len(focus['The_Donald']['all'])"
   ]
  },
  {
   "cell_type": "code",
   "execution_count": null,
   "metadata": {},
   "outputs": [],
   "source": []
  }
 ],
 "metadata": {
  "kernelspec": {
   "display_name": "Python 3",
   "language": "python",
   "name": "python3"
  },
  "language_info": {
   "codemirror_mode": {
    "name": "ipython",
    "version": 3
   },
   "file_extension": ".py",
   "mimetype": "text/x-python",
   "name": "python",
   "nbconvert_exporter": "python",
   "pygments_lexer": "ipython3",
   "version": "3.7.1"
  }
 },
 "nbformat": 4,
 "nbformat_minor": 2
}
