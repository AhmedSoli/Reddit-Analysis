{
 "cells": [
  {
   "cell_type": "code",
   "execution_count": 1,
   "metadata": {},
   "outputs": [],
   "source": [
    "import pickle \n",
    "import gzip\n",
    "import plotly.plotly as py\n",
    "import plotly.graph_objs as go\n",
    "import plotly.io as pio\n",
    "\n",
    "\n",
    "comm_percentages_required = pickle.load(gzip.open(\"../Results/com_perc_req.pickle.gz\",\"rb\"))\n",
    "sub_percentages_required = pickle.load(gzip.open(\"../Results/sub_perc_req.pickle.gz\",\"rb\"))"
   ]
  },
  {
   "cell_type": "code",
   "execution_count": 11,
   "metadata": {},
   "outputs": [
    {
     "name": "stdout",
     "output_type": "stream",
     "text": [
      "['%_of_users_required_for_%_of_votes_received', '%_of_posts_required_for_%_of_votes_received', '%_of_users_required_for_%_of_comments_received', '%_of_posts_required_for_%_of_comments_received']\n"
     ]
    }
   ],
   "source": [
    "for subreddit in ['SandersForPresident','politics','Conservative','The_Donald']:\n",
    "    print(list(sub_percentages_required[subreddit].keys()))\n",
    "    break"
   ]
  },
  {
   "cell_type": "code",
   "execution_count": 13,
   "metadata": {},
   "outputs": [
    {
     "name": "stdout",
     "output_type": "stream",
     "text": [
      "SandersForPresident & 3.6 & 3.87 & 4.32 & 7.11 \\\\\n",
      "politics & 1.38 & 2.31 & 4.68 & 6.93 \\\\\n",
      "Conservative & 0.91 & 1.89 & 13.54 & 11.22 \\\\\n",
      "The_Donald & 2.69 & 3.31 & 5.07 & 7.71 \\\\\n"
     ]
    }
   ],
   "source": [
    "for subreddit in ['SandersForPresident','politics','Conservative','The_Donald']:\n",
    "    print(subreddit,\"&\",\n",
    "          sub_percentages_required[subreddit]['%_of_users_required_for_%_of_votes_received'][80],\n",
    "          \"&\",\n",
    "          sub_percentages_required[subreddit]['%_of_users_required_for_%_of_comments_received'][80],\n",
    "          \"&\",\n",
    "          sub_percentages_required[subreddit]['%_of_posts_required_for_%_of_votes_received'][80],\n",
    "          \"&\",\n",
    "          sub_percentages_required[subreddit]['%_of_posts_required_for_%_of_comments_received'][80],\n",
    "          \"\\\\\\\\\"\n",
    "         )"
   ]
  },
  {
   "cell_type": "code",
   "execution_count": 7,
   "metadata": {},
   "outputs": [],
   "source": [
    "def plot(vals,dict_key,title,x_label,y_label):\n",
    "    subreddits = [\n",
    "        'SandersForPresident','politics',\n",
    "        'Conservative','The_Donald'\n",
    "    ]\n",
    "    labels = ['Sanders','politics','Conservative','Donald']\n",
    "    latest= {}\n",
    "    for subreddit in subreddits:\n",
    "        latest[subreddit] = 0\n",
    "    data = []\n",
    "    for percentage in vals[subreddit][dict_key]:\n",
    "    \n",
    "        Y = []\n",
    "\n",
    "        for subreddit in subreddits:\n",
    "            Y.append(vals[subreddit][dict_key][percentage] - latest[subreddit])\n",
    "            latest[subreddit] = vals[subreddit][dict_key][percentage]\n",
    "\n",
    "        trace = go.Bar(\n",
    "            x=labels,\n",
    "            y=Y,\n",
    "            name=\"{}%\".format(percentage),\n",
    "        )\n",
    "\n",
    "        data.append(trace)\n",
    "    \n",
    "    title =  {\n",
    "        'text':'<b>' + title + '</b>',\n",
    "        'font': {\n",
    "            'color': 'black',\n",
    "            'size': 30,\n",
    "            \n",
    "        }\n",
    "    }\n",
    "        \n",
    "    layout = go.Layout(\n",
    "        barmode='stack',\n",
    "        xaxis = dict(\n",
    "                tickwidth=4,\n",
    "                tickcolor='#000',\n",
    "                tickfont=dict(\n",
    "                    size=28,\n",
    "                    color='black'\n",
    "                ),\n",
    "            ),\n",
    "        yaxis = dict(\n",
    "            title = '<b>' + y_label + '</b>' ,\n",
    "            titlefont = dict(\n",
    "                family='Courier New, monospace',\n",
    "                size=25,\n",
    "                color='#000000',\n",
    "            ),\n",
    "            tickfont=dict(\n",
    "                size=28,\n",
    "                color='black'\n",
    "            ),\n",
    "        ),\n",
    "        legend = {\n",
    "            'font': {\n",
    "                'size': 25\n",
    "            }\n",
    "        },\n",
    "    )\n",
    "\n",
    "    fig = go.Figure(data=data, layout=layout)\n",
    "    display(py.iplot(fig, filename='stacked-bar'))"
   ]
  },
  {
   "cell_type": "code",
   "execution_count": 8,
   "metadata": {},
   "outputs": [
    {
     "name": "stderr",
     "output_type": "stream",
     "text": [
      "/home/asol/anaconda3/lib/python3.7/site-packages/IPython/core/display.py:689: UserWarning:\n",
      "\n",
      "Consider using IPython.display.IFrame instead\n",
      "\n"
     ]
    },
    {
     "data": {
      "text/html": [
       "<iframe id=\"igraph\" scrolling=\"no\" style=\"border:none;\" seamless=\"seamless\" src=\"https://plot.ly/~soli__/38.embed\" height=\"525px\" width=\"100%\"></iframe>"
      ],
      "text/plain": [
       "<plotly.tools.PlotlyDisplay object>"
      ]
     },
     "metadata": {},
     "output_type": "display_data"
    }
   ],
   "source": [
    "plot(sub_percentages_required,'%_of_users_required_for_%_of_votes_received',\\\n",
    "    '% of Users required for % of votes received','Subreddit','% of users required')"
   ]
  },
  {
   "cell_type": "code",
   "execution_count": 12,
   "metadata": {},
   "outputs": [
    {
     "data": {
      "text/html": [
       "<iframe id=\"igraph\" scrolling=\"no\" style=\"border:none;\" seamless=\"seamless\" src=\"https://plot.ly/~soli__/38.embed\" height=\"525px\" width=\"100%\"></iframe>"
      ],
      "text/plain": [
       "<plotly.tools.PlotlyDisplay object>"
      ]
     },
     "metadata": {},
     "output_type": "display_data"
    }
   ],
   "source": [
    "plot(sub_percentages_required,'%_of_posts_required_for_%_of_votes_received',\\\n",
    "    '% of Submissions required for % of votes received','Subreddit','% of submissions required')"
   ]
  },
  {
   "cell_type": "code",
   "execution_count": 13,
   "metadata": {},
   "outputs": [
    {
     "data": {
      "text/html": [
       "<iframe id=\"igraph\" scrolling=\"no\" style=\"border:none;\" seamless=\"seamless\" src=\"https://plot.ly/~soli__/38.embed\" height=\"525px\" width=\"100%\"></iframe>"
      ],
      "text/plain": [
       "<plotly.tools.PlotlyDisplay object>"
      ]
     },
     "metadata": {},
     "output_type": "display_data"
    }
   ],
   "source": [
    "plot(sub_percentages_required,'%_of_posts_required_for_%_of_comments_received',\\\n",
    "    '% of Submissions required for % of comments received','Subreddit','% of submission required')"
   ]
  },
  {
   "cell_type": "code",
   "execution_count": 11,
   "metadata": {},
   "outputs": [
    {
     "data": {
      "text/html": [
       "<iframe id=\"igraph\" scrolling=\"no\" style=\"border:none;\" seamless=\"seamless\" src=\"https://plot.ly/~soli__/38.embed\" height=\"525px\" width=\"100%\"></iframe>"
      ],
      "text/plain": [
       "<plotly.tools.PlotlyDisplay object>"
      ]
     },
     "metadata": {},
     "output_type": "display_data"
    }
   ],
   "source": [
    "plot(sub_percentages_required,'%_of_users_required_for_%_of_comments_received',\\\n",
    "    '% of Users required for % of comments received','Subreddit','% of posts required')"
   ]
  }
 ],
 "metadata": {
  "kernelspec": {
   "display_name": "Python 3",
   "language": "python",
   "name": "python3"
  },
  "language_info": {
   "codemirror_mode": {
    "name": "ipython",
    "version": 3
   },
   "file_extension": ".py",
   "mimetype": "text/x-python",
   "name": "python",
   "nbconvert_exporter": "python",
   "pygments_lexer": "ipython3",
   "version": "3.7.1"
  }
 },
 "nbformat": 4,
 "nbformat_minor": 2
}
