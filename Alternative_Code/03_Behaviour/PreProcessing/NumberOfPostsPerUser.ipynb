{
 "cells": [
  {
   "cell_type": "code",
   "execution_count": 1,
   "metadata": {},
   "outputs": [],
   "source": [
    "import pickle \n",
    "import gzip\n",
    "\n",
    "submissions = pickle.load(gzip.open(\"../../Results/submissions.pickle.gz\",\"rb\"))\n",
    "comments = pickle.load(gzip.open(\"../../Results/comments.pickle.gz\",\"rb\"))\n",
    "# load dict storing list of moderators and bots\n",
    "ignore = pickle.load(gzip.open(\"../../Results/ignore.pickle.gz\",\"rb\"))"
   ]
  },
  {
   "cell_type": "code",
   "execution_count": 17,
   "metadata": {},
   "outputs": [],
   "source": [
    "num_posts = {}\n",
    "\n",
    "for subreddit in ['politics','The_Donald','SandersForPresident','Conservative']:\n",
    "    num_comments = []\n",
    "    num_submissions = []\n",
    "    \n",
    "    for commentator in comments[subreddit]['commentators']:\n",
    "        if commentator not in ignore:\n",
    "            num_comments.append(len(comments[subreddit]['comments'][commentator]['votes']))\n",
    "    for submissioner in submissions[subreddit]['submissioners']:\n",
    "        if submissioner not in ignore:\n",
    "            num_submissions.append(len(submissions[subreddit]['submissions'][submissioner]['votes']))\n",
    "    \n",
    "    num_posts[subreddit] = {\n",
    "        'comments': num_comments,\n",
    "        'submissions': num_submissions,\n",
    "    }\n",
    "\n",
    "pickle_out = open(\"../../Results/num_posts.pickle\",\"wb\")\n",
    "pickle.dump(num_posts, pickle_out)\n",
    "pickle_out.close()"
   ]
  },
  {
   "cell_type": "code",
   "execution_count": 18,
   "metadata": {},
   "outputs": [
    {
     "data": {
      "text/plain": [
       "(221408, 2787259)"
      ]
     },
     "execution_count": 18,
     "metadata": {},
     "output_type": "execute_result"
    }
   ],
   "source": [
    "len(num_posts['The_Donald']['submissions']),sum(num_posts['The_Donald']['submissions'])"
   ]
  },
  {
   "cell_type": "code",
   "execution_count": 19,
   "metadata": {},
   "outputs": [
    {
     "data": {
      "text/plain": [
       "(125735, 830291)"
      ]
     },
     "execution_count": 19,
     "metadata": {},
     "output_type": "execute_result"
    }
   ],
   "source": [
    "len(num_posts['politics']['submissions']),sum(num_posts['politics']['submissions'])"
   ]
  },
  {
   "cell_type": "code",
   "execution_count": 24,
   "metadata": {},
   "outputs": [],
   "source": [
    "import plotly\n",
    "import plotly.plotly as py\n",
    "import plotly.graph_objs as go\n",
    "import numpy as np\n",
    "plotly.tools.set_credentials_file(username='soli__', api_key='azOUWrgxv12Fmya1i5W7')\n",
    "\n",
    "def plot_sample(vals,title,x_label,y_label,activity,sample_size=50000,log=True):\n",
    "    data = []\n",
    "    \n",
    "    subreddits = ['SandersForPresident','politics','Conservative','The_Donald']\n",
    "    for subreddit in subreddits:\n",
    "        if len(vals[subreddit][activity]) < sample_size:\n",
    "            subreddits.remove(subreddit)\n",
    "            \n",
    "    colors = {\n",
    "        'The_Donald': '(139,0,0)',\n",
    "        'Conservative': '(255,0,0)',\n",
    "        'Republican': '(205,92,92)',\n",
    "        'NeutralPolitics': '(112,128,144)',\n",
    "        'politics': '(0,191,255)',\n",
    "        'democrats': '(135,206,250)',\n",
    "        'progressive': '(0,0,139)',\n",
    "        'SandersForPresident': '(0,0,255)',\n",
    "    }\n",
    "    \n",
    "    for subreddit in subreddits:\n",
    "       \n",
    "        X = []\n",
    "        Y = []\n",
    "        \n",
    "        sample = np.random.choice(vals[subreddit][activity], sample_size)\n",
    "        for key, val in enumerate(sorted(sample,reverse=True)):\n",
    "            if log:\n",
    "                X.append(np.log(key+1))\n",
    "                if val <= 0:\n",
    "                    Y.append(0)\n",
    "                else:\n",
    "                    Y.append(np.log(val))\n",
    "            else:\n",
    "                X.append((key+1))\n",
    "                if val <= 0:\n",
    "                    Y.append(0)\n",
    "                else:\n",
    "                    Y.append((val))\n",
    "\n",
    "        trace = go.Scatter(\n",
    "            x = X,\n",
    "            y = Y,\n",
    "            mode = 'lines',\n",
    "            name = subreddit,\n",
    "            line = {\n",
    "                'color' : ('rgb' + colors[subreddit]),\n",
    "            }\n",
    "        )\n",
    "\n",
    "        data.append(trace)\n",
    "        \n",
    "    title =  {\n",
    "        'text':'<b>' + title + '</b>',\n",
    "        'font': {\n",
    "            'color': 'black',\n",
    "            'size': 30,\n",
    "            \n",
    "        }\n",
    "    }\n",
    "        \n",
    "        \n",
    "    layout = go.Layout(\n",
    "            title = title,\n",
    "            xaxis = dict(\n",
    "                title = x_label,\n",
    "                titlefont=dict(\n",
    "                    family='Courier New, monospace',\n",
    "                    size=18,\n",
    "                    color='black'\n",
    "                )\n",
    "            ),\n",
    "            yaxis = dict(\n",
    "                title = y_label,\n",
    "                titlefont = dict(\n",
    "                    family='Courier New, monospace',\n",
    "                    size=18,\n",
    "                    color='black'\n",
    "                )\n",
    "            ),\n",
    "         legend = {\n",
    "                'font': {\n",
    "                    'size': 15\n",
    "                }\n",
    "            },\n",
    "        )\n",
    "    \n",
    "    fig = go.Figure(data=data, layout=layout)\n",
    "    \n",
    "    display(py.iplot(fig, filename='line-mode'))"
   ]
  },
  {
   "cell_type": "code",
   "execution_count": 28,
   "metadata": {},
   "outputs": [
    {
     "name": "stdout",
     "output_type": "stream",
     "text": [
      "High five! You successfully sent some data to your account on plotly. View your plot in your browser at https://plot.ly/~soli__/0 or inside your plot.ly account where it is named 'line-mode'\n"
     ]
    },
    {
     "data": {
      "text/html": [
       "<iframe id=\"igraph\" scrolling=\"no\" style=\"border:none;\" seamless=\"seamless\" src=\"https://plot.ly/~soli__/0.embed\" height=\"525px\" width=\"100%\"></iframe>"
      ],
      "text/plain": [
       "<plotly.tools.PlotlyDisplay object>"
      ]
     },
     "metadata": {},
     "output_type": "display_data"
    }
   ],
   "source": [
    "plot_sample(num_posts,'title','x_label','y_label','submissions',sample_size=200000,log=True)"
   ]
  },
  {
   "cell_type": "code",
   "execution_count": null,
   "metadata": {},
   "outputs": [],
   "source": []
  }
 ],
 "metadata": {
  "kernelspec": {
   "display_name": "Python 3",
   "language": "python",
   "name": "python3"
  },
  "language_info": {
   "codemirror_mode": {
    "name": "ipython",
    "version": 3
   },
   "file_extension": ".py",
   "mimetype": "text/x-python",
   "name": "python",
   "nbconvert_exporter": "python",
   "pygments_lexer": "ipython3",
   "version": "3.7.1"
  }
 },
 "nbformat": 4,
 "nbformat_minor": 2
}
