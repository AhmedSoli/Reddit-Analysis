{
 "cells": [
  {
   "cell_type": "code",
   "execution_count": 6,
   "metadata": {},
   "outputs": [],
   "source": [
    "import pickle\n",
    "import gzip\n",
    "\n",
    "counts = pickle.load(gzip.open(\"../Results/counts.pickle.gz\",\"rb\"))\n",
    "members = pickle.load(gzip.open(\"../Results/members.pickle.gz\",\"rb\"))"
   ]
  },
  {
   "cell_type": "code",
   "execution_count": 2,
   "metadata": {},
   "outputs": [],
   "source": [
    "# comments = {board:i+1 for i,board in enumerate(sorted(counts,key=lambda x:counts[x]['comments'],reverse=True))}\n",
    "# submissions = {board:i+1 for i,board in enumerate(sorted(counts,key=lambda x:counts[x]['submissions'],reverse=True))}\n",
    "# commentators = {board:i+1 for i,board in enumerate(sorted(counts,key=lambda x:counts[x]['commentators'],reverse=True))}\n",
    "# submissioners = {board:i+1 for i,board in enumerate(sorted(counts,key=lambda x:counts[x]['submissioners'],reverse=True))}"
   ]
  },
  {
   "cell_type": "code",
   "execution_count": 12,
   "metadata": {},
   "outputs": [],
   "source": [
    "ranks = {}\n",
    "for board in counts:\n",
    "    if counts[board]['commentators'] > 50:\n",
    "        ranks[board] = {\n",
    "            'comments': counts[board]['comments'],\n",
    "            'submissions': counts[board]['submissions'],\n",
    "            'posts': counts[board]['comments'] + counts[board]['submissions'],\n",
    "            'users': len(members[board]['users'])\n",
    "        }"
   ]
  },
  {
   "cell_type": "code",
   "execution_count": 24,
   "metadata": {},
   "outputs": [
    {
     "name": "stdout",
     "output_type": "stream",
     "text": [
      "The_Donald\n",
      "{'comments': 33620546, 'submissions': 3631114, 'posts': 37251660, 'users': 599849}\n",
      "users 31 posts 3\n",
      "\n",
      "\n",
      "politics\n",
      "{'comments': 58030232, 'submissions': 1152109, 'posts': 59182341, 'users': 1022625}\n",
      "users 14 posts 2\n",
      "\n",
      "\n",
      "SandersForPresident\n",
      "{'comments': 3921373, 'submissions': 205528, 'posts': 4126901, 'users': 208435}\n",
      "users 141 posts 91\n",
      "\n",
      "\n"
     ]
    }
   ],
   "source": [
    "rank = {\n",
    "    'posts': {board:i+1 for i,board in enumerate(sorted(ranks,key=lambda x:ranks[x]['posts'],reverse=True))},\n",
    "    'users': {board:i+1 for i,board in enumerate(sorted(ranks,key=lambda x:ranks[x]['users'],reverse=True))},\n",
    "} \n",
    "\n",
    "for board in ['The_Donald','politics','SandersForPresident']:\n",
    "    print(board)\n",
    "    print(ranks[board])\n",
    "    print('users',rank['users'][board],'posts',rank['posts'][board])\n",
    "    print(\"\\n\")"
   ]
  },
  {
   "cell_type": "code",
   "execution_count": 35,
   "metadata": {
    "collapsed": true
   },
   "outputs": [
    {
     "name": "stdout",
     "output_type": "stream",
     "text": [
      "% politics: {'comments': 2, 'submissions': 18, 'commentators': 14, 'submissioners': 43}\n",
      "% The_Donald: {'comments': 3, 'submissions': 4, 'commentators': 33, 'submissioners': 20}\n",
      "% SandersForPresident: {'comments': 88, 'submissions': 165, 'commentators': 134, 'submissioners': 175}\n",
      "% hillaryclinton: {'comments': 298, 'submissions': 466, 'commentators': 768, 'submissioners': 777}\n",
      "% NeutralPolitics: {'comments': 1411, 'submissions': 3841, 'commentators': 1196, 'submissioners': 2191}\n",
      "% neutralnews: {'comments': 2722, 'submissions': 3805, 'commentators': 3260, 'submissioners': 9089}\n",
      "% Republican: {'comments': 1807, 'submissions': 1964, 'commentators': 1970, 'submissioners': 2546}\n",
      "% democrats: {'comments': 1673, 'submissions': 885, 'commentators': 1313, 'submissioners': 1754}\n",
      "% progressive: {'comments': 3010, 'submissions': 1814, 'commentators': 3104, 'submissioners': 3515}\n",
      "% Conservative: {'comments': 245, 'submissions': 253, 'commentators': 362, 'submissioners': 714}\n",
      "% ukpolitics: {'comments': 52, 'submissions': 222, 'commentators': 448, 'submissioners': 772}\n",
      "% The_Farage: {'comments': 6118, 'submissions': 3561, 'commentators': 5597, 'submissioners': 6911}\n",
      "% Le_Pen: {'comments': 5375, 'submissions': 5086, 'commentators': 4201, 'submissioners': 5814}\n",
      "% altright: {'comments': 2013, 'submissions': 2671, 'commentators': 3254, 'submissioners': 4666}\n"
     ]
    }
   ],
   "source": [
    "for board in ['politics','The_Donald','SandersForPresident','hillaryclinton','NeutralPolitics','neutralnews', \\\n",
    "              'Republican','democrats','progressive','Conservative','ukpolitics','The_Farage','Le_Pen', \\\n",
    "              'altright']:\n",
    "    print(board,rank[board],counts[board])"
   ]
  }
 ],
 "metadata": {
  "kernelspec": {
   "display_name": "Python 3",
   "language": "python",
   "name": "python3"
  },
  "language_info": {
   "codemirror_mode": {
    "name": "ipython",
    "version": 3
   },
   "file_extension": ".py",
   "mimetype": "text/x-python",
   "name": "python",
   "nbconvert_exporter": "python",
   "pygments_lexer": "ipython3",
   "version": "3.7.1"
  }
 },
 "nbformat": 4,
 "nbformat_minor": 2
}
