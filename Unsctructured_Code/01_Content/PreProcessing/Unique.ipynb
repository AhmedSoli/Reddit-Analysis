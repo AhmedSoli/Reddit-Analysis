{
 "cells": [
  {
   "cell_type": "code",
   "execution_count": 1,
   "metadata": {},
   "outputs": [],
   "source": [
    "import gzip\n",
    "import pickle\n",
    "from collections import Counter"
   ]
  },
  {
   "cell_type": "code",
   "execution_count": 2,
   "metadata": {},
   "outputs": [],
   "source": [
    "word_freq = pickle.load(gzip.open(\"../../Results/word_freq.pickle.gz\",\"rb\"))"
   ]
  },
  {
   "cell_type": "code",
   "execution_count": 3,
   "metadata": {},
   "outputs": [
    {
     "data": {
      "text/plain": [
       "dict_keys(['politics', 'NeutralPolitics', 'SandersForPresident', 'The_Donald', 'hillaryclinton', 'Republican', 'democrats', 'The_Farage', 'Le_Pen', 'altright', 'progressive', 'Conservative', 'ukpolitics', 'LateStageCapitalism', 'Libertarian'])"
      ]
     },
     "execution_count": 3,
     "metadata": {},
     "output_type": "execute_result"
    }
   ],
   "source": [
    "word_freq.keys()"
   ]
  },
  {
   "cell_type": "code",
   "execution_count": 4,
   "metadata": {},
   "outputs": [],
   "source": [
    "word_freq_unique = {}"
   ]
  },
  {
   "cell_type": "code",
   "execution_count": 5,
   "metadata": {},
   "outputs": [],
   "source": [
    "for subreddit in word_freq:\n",
    "    if subreddit != '-The_Donald':\n",
    "        key = subreddit + \"-The_Donald\"\n",
    "        word_freq_unique[key] = Counter()\n",
    "        for word in word_freq[subreddit]:\n",
    "            word_freq_unique[key][word] = word_freq[subreddit][word] - word_freq['The_Donald'][word]"
   ]
  },
  {
   "cell_type": "code",
   "execution_count": 6,
   "metadata": {},
   "outputs": [],
   "source": [
    "for subreddit in word_freq:\n",
    "    if subreddit != 'politics':\n",
    "        key = subreddit + \"-politics\"\n",
    "        word_freq_unique[key] = Counter()\n",
    "        for word in word_freq[subreddit]:\n",
    "            word_freq_unique[key][word] = word_freq[subreddit][word] - word_freq['politics'][word]"
   ]
  },
  {
   "cell_type": "code",
   "execution_count": 7,
   "metadata": {},
   "outputs": [],
   "source": [
    "opposites = [('The_Donald','SandersForPresident'),('Republican','democrats'),('progressive','Conservative'),\n",
    "             ('SandersForPresident','The_Donald'),('democrats','Republican'),('Conservative','progressive'),\n",
    "             ('politics','The_Donald'),('politics','SandersForPresident'),\n",
    "             ('NeutralPolitics','The_Donald'),('NeutralPolitics','SandersForPresident'),\n",
    "            ]\n",
    "\n",
    "for subreddit,other_subreddit in opposites:\n",
    "    key = subreddit + \"-\" + other_subreddit\n",
    "    word_freq_unique[key] = Counter()\n",
    "    for word in word_freq[subreddit]:\n",
    "        word_freq_unique[key][word] = word_freq[subreddit][word] - word_freq[other_subreddit][word]"
   ]
  },
  {
   "cell_type": "code",
   "execution_count": 10,
   "metadata": {},
   "outputs": [],
   "source": [
    "remove = ['','permittedhttpswwwredditcomrpoliticswikirulesandregswikinopersonalattacks',\\\n",
    "        'discussionhttpswwwredditcomrpoliticswikirulesandregswikipleasebecivil' \\\n",
    "        'httpimgurcom0cf3yty', 'subredditmessagecomposetorpolitics', \\\n",
    "        'discussionhttpswwwredditcomrpoliticswikirulesandregswikipleasebecivil', 'delete',\\\n",
    "        \"httpimgurcom0cf3yty\", \"╚═███═╝\",\"つ\",\"◕◕\",\"ubotsbyliam\", \\\n",
    "        \"rbotsbyliam\",\"༽つ\",\"subredditmessagecomposetorthedonald\", \\\n",
    "        \"༼\",\"formhttpbotsbyliamcom\", \"utonysesek556\",'͡°',\"energyhttpswwwyoutubecomwatchvqligom24qqc\"\\\n",
    "        \"formhttpsdocsgooglecomformsd1hdofbq85c6qhks8ydg0le6uiffbfj5sabm6qtp3zavqviewformresponses\", \\\n",
    "        \"lightyears\\r\",\"httpiimgurcomy2t4j8ajpg\",\"pagehttpsawswariomissedcomthewallgrows\", \\\n",
    "        \"suggestionshttpsdocsgooglecomformsd1nbt77un01wxb3opvwc8llesd1e8jqj5mnkhitd4qqqkviewform\", \\\n",
    "        \"httpwwwarchiveis\",\"pepehttpsslimgufbmzs\", \"brigadinghttparchiveisi4col\", \\\n",
    "         \"moderatorshttpswwwredditcommessagecomposetorpoliticsampsubjectquestion\", \"im\",\"gt\",\\\n",
    "          \"etc\", \"1\", \"2\", \"3\", \"4\",\"5\",\"6\",\"7\",\"8\",\"9\",\"10\",\n",
    "          \"subredditmessagecomposetorneutralpolitics\",\"ruleshttpwwwredditcomrneutralpoliticswikiguidelineswikis\", \\\n",
    "          \"guidelineshttpswwwredditcomrsandersforpresidentwikirules\",\"rsandersforpresident\", \\\n",
    "          \"alonehttpswwwredditcomrmetarepublicancomments5t017athissubisforrepublicansifyoudonot\", \\\n",
    "          \"subredditmessagecomposetordemocrats\",\"submission\",\"moderators\",\"remove\",\"page\",\"message\",\"comment\",\\\n",
    "          \"post\",\"0d0dmy\",\"subreddit\",\"subreddits\",\"modmail\",\"modmails\",\"td\",\"sub\",\"admins\"\n",
    "         ]\n",
    "\n",
    "for subreddit in word_freq_unique:\n",
    "    for word,val in (word_freq_unique[subreddit].most_common(5000)):\n",
    "        if len(word) > 20:\n",
    "            remove.append(word)\n",
    "\n",
    "for r in remove:\n",
    "    for subreddit in word_freq_unique:\n",
    "        del word_freq_unique[subreddit][r]"
   ]
  },
  {
   "cell_type": "code",
   "execution_count": 11,
   "metadata": {},
   "outputs": [],
   "source": [
    "pickle_out = open('../../Results/word_freq_unique.pickle','wb')\n",
    "pickle.dump(word_freq_unique,pickle_out)\n",
    "pickle_out.close()"
   ]
  },
  {
   "cell_type": "code",
   "execution_count": null,
   "metadata": {},
   "outputs": [],
   "source": []
  }
 ],
 "metadata": {
  "kernelspec": {
   "display_name": "Python 3",
   "language": "python",
   "name": "python3"
  },
  "language_info": {
   "codemirror_mode": {
    "name": "ipython",
    "version": 3
   },
   "file_extension": ".py",
   "mimetype": "text/x-python",
   "name": "python",
   "nbconvert_exporter": "python",
   "pygments_lexer": "ipython3",
   "version": "3.7.1"
  }
 },
 "nbformat": 4,
 "nbformat_minor": 2
}
