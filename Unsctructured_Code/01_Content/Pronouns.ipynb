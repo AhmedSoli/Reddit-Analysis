{
 "cells": [
  {
   "cell_type": "code",
   "execution_count": 46,
   "metadata": {},
   "outputs": [],
   "source": [
    "import gzip\n",
    "import pickle\n",
    "import wordcloud \n",
    "import matplotlib.pyplot as plt\n",
    "from collections import Counter\n",
    "from pprint import pprint"
   ]
  },
  {
   "cell_type": "code",
   "execution_count": 24,
   "metadata": {},
   "outputs": [],
   "source": [
    "word_freq = pickle.load(gzip.open('../Results/words_frequency.pickle.gz','rb'))\n",
    "word_freq.update(pickle.load(gzip.open('../Results/words_frequency_alt.pickle.gz','rb')))"
   ]
  },
  {
   "cell_type": "code",
   "execution_count": 32,
   "metadata": {},
   "outputs": [],
   "source": [
    "word_rel_freq = {}\n",
    "\n",
    "for subreddit in word_freq:\n",
    "    word_rel_freq[subreddit] = Counter()\n",
    "    sum_freq = sum(word_freq[subreddit].values())\n",
    "    for word in word_freq[subreddit]:\n",
    "        word_rel_freq[subreddit][word] = (word_freq[subreddit][word]*100) / float(sum_freq)"
   ]
  },
  {
   "cell_type": "code",
   "execution_count": 58,
   "metadata": {},
   "outputs": [
    {
     "name": "stdout",
     "output_type": "stream",
     "text": [
      "< 1 ==> characteristic of right-leaning users\n",
      "[('Ours', 0.5439790113570517),\n",
      " ('Mine', 0.7169191853264845),\n",
      " ('Me', 0.7351138727672281),\n",
      " ('We', 0.7718314655442423),\n",
      " ('Her', 0.8192345963924251),\n",
      " ('Ourselves', 0.8312346862536595),\n",
      " ('They', 0.8328215875156496),\n",
      " ('I', 0.8383494022486966),\n",
      " ('She', 0.8878569260086955),\n",
      " ('Their', 0.9047182984748385),\n",
      " ('Our', 0.9530943099033627),\n",
      " ('It', 0.987044288605026),\n",
      " ('Them', 1.0224431053270846),\n",
      " ('Us', 1.053986924924212),\n",
      " ('He', 1.0969899604605367),\n",
      " ('His', 1.1473070210225087),\n",
      " ('Yours', 1.1700231291286034),\n",
      " ('You', 1.3162144802003426)]\n",
      "> 1 ==> characteristic of left-leaning users\n"
     ]
    }
   ],
   "source": [
    "results = []\n",
    "for word in ['i','me','we','you','us','our','them',\n",
    "             'they','their','she','he','mine','ours',\n",
    "             'yours','it','ourselves','his','her']:\n",
    "    results.append((word[0].upper() + word[1:],\n",
    "                    word_rel_freq['politics'][word]/word_rel_freq['The_Donald'][word]))\n",
    "print(\"< 1 ==> characteristic of right-leaning users\")\n",
    "pprint(sorted(results,key=lambda x:x[1]))\n",
    "print(\"> 1 ==> characteristic of left-leaning users\")"
   ]
  },
  {
   "cell_type": "code",
   "execution_count": 43,
   "metadata": {},
   "outputs": [
    {
     "name": "stdout",
     "output_type": "stream",
     "text": [
      "Clinton 0.9653293987399287\n",
      "Trump 1.0580778911249447\n"
     ]
    }
   ],
   "source": [
    "for word in sorted(['trump','clinton']):\n",
    "    print(word[0].upper() + word[1:],\n",
    "          word_rel_freq['politics'][word]/word_rel_freq['The_Donald'][word])"
   ]
  }
 ],
 "metadata": {
  "kernelspec": {
   "display_name": "Python 3",
   "language": "python",
   "name": "python3"
  },
  "language_info": {
   "codemirror_mode": {
    "name": "ipython",
    "version": 3
   },
   "file_extension": ".py",
   "mimetype": "text/x-python",
   "name": "python",
   "nbconvert_exporter": "python",
   "pygments_lexer": "ipython3",
   "version": "3.7.1"
  }
 },
 "nbformat": 4,
 "nbformat_minor": 2
}
