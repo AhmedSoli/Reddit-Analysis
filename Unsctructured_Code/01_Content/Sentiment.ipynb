{
 "cells": [
  {
   "cell_type": "code",
   "execution_count": 3,
   "metadata": {},
   "outputs": [],
   "source": [
    "import pickle \n",
    "import gzip\n",
    "import plotly\n",
    "import plotly.plotly as py\n",
    "import plotly.graph_objs as go\n",
    "import numpy as np"
   ]
  },
  {
   "cell_type": "code",
   "execution_count": 4,
   "metadata": {},
   "outputs": [],
   "source": [
    "subreddits = ['politics', 'Conservative', 'The_Donald','SandersForPresident']"
   ]
  },
  {
   "cell_type": "code",
   "execution_count": 7,
   "metadata": {},
   "outputs": [],
   "source": [
    "sentiment = {}\n",
    "for subreddit in subreddits:\n",
    "    sentiment[subreddit] = pickle.load(gzip.open(\"../Results/sentiment_\" + subreddit + \".pickle.gz\",\"rb\"))"
   ]
  },
  {
   "cell_type": "code",
   "execution_count": 10,
   "metadata": {},
   "outputs": [
    {
     "data": {
      "text/plain": [
       "{'neg': 0.23, 'neu': 0.697, 'pos': 0.073, 'compound': -0.9744}"
      ]
     },
     "execution_count": 10,
     "metadata": {},
     "output_type": "execute_result"
    }
   ],
   "source": [
    "sentiment['politics'][1]"
   ]
  },
  {
   "cell_type": "code",
   "execution_count": 16,
   "metadata": {},
   "outputs": [],
   "source": [
    "compound = {}\n",
    "for subreddit in subreddits:\n",
    "    compound[subreddit] = [score['compound'] for score in sentiment[subreddit]]"
   ]
  },
  {
   "cell_type": "code",
   "execution_count": 33,
   "metadata": {},
   "outputs": [],
   "source": [
    "plotly.tools.set_credentials_file(username='asoliman96', api_key='hT7t70HBrGXMY66xhYJO')\n",
    "\n",
    "def plot_sample(vals,title,x_label,y_label,sample_size=100000,log=True):\n",
    "    data = []\n",
    "    \n",
    "    for subreddit in subreddits:\n",
    "        if len(vals[subreddit]) < sample_size:\n",
    "            subreddits.remove(subreddit)\n",
    "            \n",
    "    colors = {\n",
    "        'The_Donald': '(139,0,0)',\n",
    "        'Conservative': '(255,0,0)',\n",
    "        'politics': '(0,191,255)',\n",
    "        'SandersForPresident': '(0,0,255)',\n",
    "    }\n",
    "    \n",
    "    for subreddit in colors:\n",
    "       \n",
    "        X = []\n",
    "        Y = []\n",
    "        \n",
    "        sample = np.random.choice(vals[subreddit], sample_size)\n",
    "        for key, val in enumerate(sorted(sample,reverse=True)):\n",
    "            if log:\n",
    "                X.append(np.log(key+1))\n",
    "                if val <= 0:\n",
    "                    Y.append(0)\n",
    "                else:\n",
    "                    Y.append(np.log(val))\n",
    "            else:\n",
    "                X.append((key+1))\n",
    "                Y.append((val))\n",
    "\n",
    "        trace = go.Scatter(\n",
    "            x = X,\n",
    "            y = Y,\n",
    "            mode = 'lines',\n",
    "            name = subreddit,\n",
    "            line = {\n",
    "                'color' : ('rgb' + colors[subreddit]),\n",
    "            }\n",
    "        )\n",
    "\n",
    "        data.append(trace)\n",
    "        \n",
    "    layout = go.Layout(\n",
    "            xaxis = dict(\n",
    "                title = x_label,\n",
    "                titlefont=dict(\n",
    "                    family='Courier New, monospace',\n",
    "                    size=18,\n",
    "                    color='#7f7f7f'\n",
    "                )\n",
    "            ),\n",
    "            yaxis = dict(\n",
    "                title = y_label,\n",
    "                titlefont = dict(\n",
    "                    family='Courier New, monospace',\n",
    "                    size=18,\n",
    "                    color='#7f7f7f'\n",
    "                )\n",
    "            )\n",
    "        )\n",
    "    \n",
    "    fig = go.Figure(data=data, layout=layout)\n",
    "    \n",
    "    display(py.iplot(fig, filename='line-mode'))"
   ]
  },
  {
   "cell_type": "code",
   "execution_count": 34,
   "metadata": {},
   "outputs": [
    {
     "name": "stdout",
     "output_type": "stream",
     "text": [
      "The draw time for this plot will be slow for all clients.\n"
     ]
    },
    {
     "data": {
      "text/html": [
       "<iframe id=\"igraph\" scrolling=\"no\" style=\"border:none;\" seamless=\"seamless\" src=\"https://plot.ly/~asoliman96/16.embed\" height=\"525px\" width=\"100%\"></iframe>"
      ],
      "text/plain": [
       "<plotly.tools.PlotlyDisplay object>"
      ]
     },
     "metadata": {},
     "output_type": "display_data"
    }
   ],
   "source": [
    "plot_sample(compound,'title','rank','sentiment',sample_size=100000,log=False)"
   ]
  },
  {
   "cell_type": "code",
   "execution_count": 37,
   "metadata": {},
   "outputs": [
    {
     "name": "stdout",
     "output_type": "stream",
     "text": [
      "subreddit mean std\n",
      "politics -0.003779426223814831 0.5194132305891618\n",
      "Conservative 0.005841518119445377 0.5307406766979635\n",
      "The_Donald 0.01618808176311034 0.47699373928918176\n",
      "SandersForPresident 0.13236725766082938 0.4971850009772108\n"
     ]
    }
   ],
   "source": [
    "print(\"subreddit\",\"mean\",\"std\")\n",
    "for subreddit in subreddits:\n",
    "    print(subreddit,\n",
    "          np.mean(compound[subreddit]),\n",
    "          np.std(compound[subreddit]),\n",
    "         )"
   ]
  },
  {
   "cell_type": "code",
   "execution_count": null,
   "metadata": {},
   "outputs": [],
   "source": []
  }
 ],
 "metadata": {
  "kernelspec": {
   "display_name": "Python 3",
   "language": "python",
   "name": "python3"
  },
  "language_info": {
   "codemirror_mode": {
    "name": "ipython",
    "version": 3
   },
   "file_extension": ".py",
   "mimetype": "text/x-python",
   "name": "python",
   "nbconvert_exporter": "python",
   "pygments_lexer": "ipython3",
   "version": "3.7.1"
  }
 },
 "nbformat": 4,
 "nbformat_minor": 2
}
