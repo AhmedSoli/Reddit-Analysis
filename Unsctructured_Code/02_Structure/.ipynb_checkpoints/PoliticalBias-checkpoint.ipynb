{
 "cells": [
  {
   "cell_type": "code",
   "execution_count": 1,
   "metadata": {},
   "outputs": [],
   "source": [
    "import pickle\n",
    "import gzip\n",
    "import numpy as np"
   ]
  },
  {
   "cell_type": "code",
   "execution_count": 4,
   "metadata": {},
   "outputs": [],
   "source": [
    "active_members = pickle.load(gzip.open('../Results/active_members.pickle.gz','rb'))"
   ]
  },
  {
   "cell_type": "code",
   "execution_count": 2,
   "metadata": {},
   "outputs": [],
   "source": [
    "members = pickle.load(gzip.open('../Results/members.pickle.gz','rb'))"
   ]
  },
  {
   "cell_type": "code",
   "execution_count": 72,
   "metadata": {},
   "outputs": [
    {
     "data": {
      "text/plain": [
       "(8897, 3788, 0.42576149263796786)"
      ]
     },
     "execution_count": 72,
     "metadata": {},
     "output_type": "execute_result"
    }
   ],
   "source": [
    "(len(members['enoughsandersspam']['users']),\n",
    " len(members['enoughsandersspam']['users'].intersection(members['hillaryclinton']['users'])),\n",
    " len(members['enoughsandersspam']['users'].intersection(members['hillaryclinton']['users']))\n",
    " /len(members['enoughsandersspam']['users']))"
   ]
  },
  {
   "cell_type": "code",
   "execution_count": 71,
   "metadata": {},
   "outputs": [
    {
     "data": {
      "text/plain": [
       "(50537, 22425, 0.44373429368581435)"
      ]
     },
     "execution_count": 71,
     "metadata": {},
     "output_type": "execute_result"
    }
   ],
   "source": [
    "(len(members['hillaryclinton']['users']),\n",
    " len(members['hillaryclinton']['users'].intersection(members['SandersForPresident']['users'])),\n",
    "len(members['hillaryclinton']['users'].intersection(members['SandersForPresident']['users']))/\n",
    "len(members['hillaryclinton']['users']))"
   ]
  },
  {
   "cell_type": "code",
   "execution_count": 70,
   "metadata": {},
   "outputs": [
    {
     "data": {
      "text/plain": [
       "(44268, 21110, 0.4768681666214873)"
      ]
     },
     "execution_count": 70,
     "metadata": {},
     "output_type": "execute_result"
    }
   ],
   "source": [
    "(len(members['HillaryForPrison']['users']),\n",
    " len(members['HillaryForPrison']['users'].intersection(members['SandersForPresident']['users'])),\n",
    "len(members['HillaryForPrison']['users'].intersection(members['SandersForPresident']['users']))/\n",
    "len(members['HillaryForPrison']['users']))"
   ]
  },
  {
   "cell_type": "code",
   "execution_count": 3,
   "metadata": {},
   "outputs": [],
   "source": [
    "left_users = members['politics']['users']|members['SandersForPresident']['users']\n",
    "right_users = members['The_Donald']['users']|members['Conservative']['users']\n",
    "\n",
    "\n",
    "political_orientations = {\n",
    "    'left': left_users - right_users,\n",
    "    'right': right_users - left_users\n",
    "}"
   ]
  },
  {
   "cell_type": "code",
   "execution_count": 4,
   "metadata": {},
   "outputs": [],
   "source": [
    "political_users = left_users|right_users"
   ]
  },
  {
   "cell_type": "code",
   "execution_count": 5,
   "metadata": {},
   "outputs": [
    {
     "data": {
      "text/plain": [
       "(802668, 357837)"
      ]
     },
     "execution_count": 5,
     "metadata": {},
     "output_type": "execute_result"
    }
   ],
   "source": [
    "len(political_orientations['left']),len(political_orientations['right'])"
   ]
  },
  {
   "cell_type": "code",
   "execution_count": 6,
   "metadata": {},
   "outputs": [],
   "source": [
    "sample = {\n",
    "    'left': set(np.random.choice(list(political_orientations['left']), 802668)),\n",
    "    'right': set(np.random.choice(list(political_orientations['right']), 357837))\n",
    "}"
   ]
  },
  {
   "cell_type": "code",
   "execution_count": 7,
   "metadata": {},
   "outputs": [],
   "source": [
    "political_bias = {\n",
    "    'all': {},\n",
    "    '2500': {},\n",
    "    '10000': {},\n",
    "    '25000': {},\n",
    "    '500000': {},\n",
    "}\n",
    "\n",
    "political_share = {}\n",
    "\n",
    "ratio = {}\n",
    "\n",
    "for subreddit in members:\n",
    "    \n",
    "    users_count = float(len(members[subreddit]['users']))\n",
    "    left_count = len(political_orientations['left'].intersection(members[subreddit]['users']))\n",
    "    right_count = len(political_orientations['right'].intersection(members[subreddit]['users']))\n",
    "    \n",
    "    political_bias['all'][subreddit] = (left_count - right_count) / users_count\n",
    "    \n",
    "    political_share[subreddit] = len(political_users.intersection(members[subreddit]['users']))/ users_count\n",
    "    \n",
    "    if len(members[subreddit]['users']) > 2500:\n",
    "        political_bias['2500'][subreddit] = political_bias['all'][subreddit]\n",
    "        \n",
    "        if len(members[subreddit]['users']) > 10000:\n",
    "            political_bias['10000'][subreddit] = political_bias['all'][subreddit]\n",
    "            if len(members[subreddit]['users']) > 25000:\n",
    "                political_bias['25000'][subreddit] = political_bias['all'][subreddit]\n",
    "                if len(members[subreddit]['users']) > 500000:\n",
    "                    political_bias['25000'][subreddit] = political_bias['all'][subreddit]\n",
    "            \n",
    "        if left_count + right_count > 2500:\n",
    "                    ratio[subreddit] = (left_count+1) / (right_count+1)"
   ]
  },
  {
   "cell_type": "code",
   "execution_count": 43,
   "metadata": {},
   "outputs": [
    {
     "data": {
      "text/plain": [
       "0.08117512646878984"
      ]
     },
     "execution_count": 43,
     "metadata": {},
     "output_type": "execute_result"
    }
   ],
   "source": [
    "np.mean(list(political_bias['all'].values()))"
   ]
  },
  {
   "cell_type": "code",
   "execution_count": 113,
   "metadata": {
    "collapsed": true
   },
   "outputs": [
    {
     "name": "stdout",
     "output_type": "stream",
     "text": [
      "CaliforniaForSanders & $0.19$ & DrainTheSwamp & $-0.19$ \\\\\n",
      "GrassrootsSelect & $0.18$ & The\\_Congress & $-0.18$ \\\\\n",
      "FriendsofthePod & $0.18$ & The\\_Farage & $-0.18$ \\\\\n",
      "Keep\\_Track & $0.15$ & The\\_Europe & $-0.16$ \\\\\n",
      "u\\_washingtonpost & $0.15$ & tucker\\_carlson & $-0.16$ \\\\\n",
      "progressive & $0.15$ & europeannationalism & $-0.14$ \\\\\n",
      "BlueMidterm2018 & $0.14$ & Le\\_Pen & $-0.14$ \\\\\n",
      "justicedemocrats & $0.14$ & DarkEnlightenment & $-0.13$ \\\\\n",
      "RussiaLago & $0.13$ & Physical\\_Removal & $-0.13$ \\\\\n",
      "LateShow & $0.13$ & kekistan & $-0.13$ \\\\\n",
      "Enough\\_Sanders\\_Spam & $0.12$ & WhiteRights & $-0.12$ \\\\\n",
      "GreenParty & $0.12$ & hottiesfortrump & $-0.12$ \\\\\n",
      "Political\\_Revolution & $0.12$ & AskThe\\_Donald & $-0.12$ \\\\\n",
      "PoliticalDiscussion & $0.12$ & CBTS\\_Stream & $-0.12$ \\\\\n",
      "LeftWithoutEdge & $0.12$ & Mr\\_Trump & $-0.11$ \\\\\n",
      "Kossacks\\_for\\_Sanders & $0.12$ & altright & $-0.11$ \\\\\n",
      "esist & $0.12$ & redacted & $-0.11$ \\\\\n",
      "occupywallstreet & $0.11$ & greatawakening & $-0.11$ \\\\\n",
      "Maher & $0.11$ & TheNewRight & $-0.1$ \\\\\n",
      "Cascadia & $0.11$ & RightwingLGBT & $-0.09$ \\\\\n",
      "\n",
      ".+.+.+.+.+.+.+.+.+.+.+.+.+.+.+.+.+.+.+.+.+.+.+.+.+.+.+.+.+.+.+.+.+.+.+.+.+.+.+.+.+.+.+.+\n",
      ".-.-.-.-.-.-.-.-.-.-.-.-.-.-.-.-.-.-.-.-.-.-.-.-.-.-.-.-.-.-.-.-.-.-.-.-.-.-.-.-.-.-.-.-\n",
      ".+.+.+.+.+.+.+.+.+.+.+.+.+.+.+.+.+.+.+.+.+.+.+.+.+.+.+.+.+.+.+.+.+.+.+.+.+.+.+.+.+.+.+.+\n",
      "\n",
      "progressive & $0.15$ & The\\_Congress & $-0.18$ \\\\\n",
      "BlueMidterm2018 & $0.14$ & AskThe\\_Donald & $-0.12$ \\\\\n",
      "RussiaLago & $0.13$ & CBTS\\_Stream & $-0.12$ \\\\\n",
      "Political\\_Revolution & $0.12$ & Mr\\_Trump & $-0.11$ \\\\\n",
      "PoliticalDiscussion & $0.12$ & greatawakening & $-0.11$ \\\\\n",
      "esist & $0.12$ & metacanada & $-0.08$ \\\\\n",
      "Impeach\\_Trump & $0.11$ & HillaryMeltdown & $-0.07$ \\\\\n",
      "NeutralPolitics & $0.11$ & SargonofAkkad & $-0.07$ \\\\\n",
      "TrueReddit & $0.11$ & sjwhate & $-0.07$ \\\\\n",
      "The\\_Mueller & $0.1$ & milliondollarextreme & $-0.07$ \\\\\n",
      "skeptic & $0.1$ & weekendgunnit & $-0.04$ \\\\\n",
      "TrumpCriticizesTrump & $0.1$ & Republican & $-0.04$ \\\\\n",
      "lastweektonight & $0.1$ & MGTOW & $-0.04$ \\\\\n",
      "bestof & $0.1$ & thedonald & $-0.04$ \\\\\n",
      "TechNewsToday & $0.1$ & Anarcho\\_Capitalism & $-0.04$ \\\\\n",
      "MarchForScience & $0.09$ & FilthyFrank & $-0.04$ \\\\\n",
      "Trumpgret & $0.09$ & progun & $-0.03$ \\\\\n",
      "democrats & $0.09$ & TheRedPill & $-0.03$ \\\\\n",
      "onguardforthee & $0.09$ & TrueChristian & $-0.03$ \\\\\n",
      "Foodforthought & $0.09$ & okbuddyretard & $-0.03$ \\\\\n",
      "\n",
      ".+.+.+.+.+.+.+.+.+.+.+.+.+.+.+.+.+.+.+.+.+.+.+.+.+.+.+.+.+.+.+.+.+.+.+.+.+.+.+.+.+.+.+.+\n",
      ".-.-.-.-.-.-.-.-.-.-.-.-.-.-.-.-.-.-.-.-.-.-.-.-.-.-.-.-.-.-.-.-.-.-.-.-.-.-.-.-.-.-.-.-\n",
      ".+.+.+.+.+.+.+.+.+.+.+.+.+.+.+.+.+.+.+.+.+.+.+.+.+.+.+.+.+.+.+.+.+.+.+.+.+.+.+.+.+.+.+.+\n",
      "\n",
      "BlueMidterm2018 & $0.14$ & AskThe\\_Donald & $-0.12$ \\\\\n",
      "Political\\_Revolution & $0.12$ & greatawakening & $-0.11$ \\\\\n",
      "PoliticalDiscussion & $0.12$ & sjwhate & $-0.07$ \\\\\n",
      "esist & $0.12$ & milliondollarextreme & $-0.07$ \\\\\n",
      "Impeach\\_Trump & $0.11$ & MGTOW & $-0.04$ \\\\\n",
      "NeutralPolitics & $0.11$ & Anarcho\\_Capitalism & $-0.04$ \\\\\n",
      "TrueReddit & $0.11$ & TheRedPill & $-0.03$ \\\\\n",
      "The\\_Mueller & $0.1$ & asktrp & $-0.03$ \\\\\n",
      "TrumpCriticizesTrump & $0.1$ & copypasta & $-0.03$ \\\\\n",
      "bestof & $0.1$ & JordanPeterson & $-0.02$ \\\\\n",
      "Trumpgret & $0.09$ & shittyrainbow6 & $-0.02$ \\\\\n",
      "democrats & $0.09$ & darkjokes & $-0.02$ \\\\\n",
      "Economics & $0.09$ & Catholicism & $-0.02$ \\\\\n",
      "Fuckthealtright & $0.09$ & KotakuInAction & $-0.02$ \\\\\n",
      "EverythingScience & $0.09$ & Memes\\_Of\\_The\\_Dank & $-0.02$ \\\\\n",
      "bestoflegaladvice & $0.09$ & Idubbbz & $-0.02$ \\\\\n",
      "offbeat & $0.09$ & pyrocynical & $-0.02$ \\\\\n",
      "atheism & $0.08$ & DeepFriedMemes & $-0.02$ \\\\\n",
      "EnoughTrumpSpam & $0.08$ & Braincels & $-0.02$ \\\\\n",
      "environment & $0.08$ & HillaryForPrison & $-0.02$ \\\\\n"
     ]
    }
   ],
   "source": [
    "political_bias_sorted = {}\n",
    "political_bias_sorted['2500'] = sorted(political_bias['2500'].items(),key=lambda x:x[1],reverse=True)\n",
    "political_bias_sorted['10000'] = sorted(political_bias['10000'].items(),key=lambda x:x[1],reverse=True)\n",
    "political_bias_sorted['25000'] = sorted(political_bias['25000'].items(),key=lambda x:x[1],reverse=True)\n",
    "\n",
    "for i in range(20):\n",
    "    print(political_bias_sorted['2500'][i+2][0].replace(\"_\",\"\\_\"),\"&\",\n",
    "          \"$\" + str(round(political_bias_sorted['2500'][i+2][1],2)) + \"$\",\"&\",\n",
    "          political_bias_sorted['2500'][-i-3][0].replace(\"_\",\"\\_\"),\"&\",\n",
    "          \"$\" + str(round(political_bias_sorted['2500'][-i-3][1],2)) + \"$\",\"\\\\\\\\\")\n",
    "print(\"\\n.+.+.+.+.+.+.+.+.+.+.+.+.+.+.+.+.+.+.+.+.+.+.+.+.+.+.+.+.+.+.+.+.+.+.+.+.+.+.+.+.+.+.+.+\")\n",
    "print(\".-.-.-.-.-.-.-.-.-.-.-.-.-.-.-.-.-.-.-.-.-.-.-.-.-.-.-.-.-.-.-.-.-.-.-.-.-.-.-.-.-.-.-.-\")\n",
    "print(\".+.+.+.+.+.+.+.+.+.+.+.+.+.+.+.+.+.+.+.+.+.+.+.+.+.+.+.+.+.+.+.+.+.+.+.+.+.+.+.+.+.+.+.+\\n\")\n",
    "for i in range(20):\n",
    "    print(political_bias_sorted['10000'][i+2][0].replace(\"_\",\"\\_\"),\"&\",\n",
    "          \"$\" + str(round(political_bias_sorted['10000'][i+2][1],2)) + \"$\",\"&\",\n",
    "          political_bias_sorted['10000'][-i-3][0].replace(\"_\",\"\\_\"),\"&\",\n",
    "          \"$\" + str(round(political_bias_sorted['10000'][-i-3][1],2)) + \"$\",\"\\\\\\\\\")\n",
    "print(\"\\n.+.+.+.+.+.+.+.+.+.+.+.+.+.+.+.+.+.+.+.+.+.+.+.+.+.+.+.+.+.+.+.+.+.+.+.+.+.+.+.+.+.+.+.+\")\n",
    "print(\".-.-.-.-.-.-.-.-.-.-.-.-.-.-.-.-.-.-.-.-.-.-.-.-.-.-.-.-.-.-.-.-.-.-.-.-.-.-.-.-.-.-.-.-\")\n",
    "print(\".+.+.+.+.+.+.+.+.+.+.+.+.+.+.+.+.+.+.+.+.+.+.+.+.+.+.+.+.+.+.+.+.+.+.+.+.+.+.+.+.+.+.+.+\\n\")\n",
    "for i in range(20):\n",
    "    print(political_bias_sorted['25000'][i+2][0].replace(\"_\",\"\\_\"),\"&\",\n",
    "          \"$\" + str(round(political_bias_sorted['25000'][i+2][1],2)) + \"$\",\"&\",\n",
    "          political_bias_sorted['25000'][-i-3][0].replace(\"_\",\"\\_\"),\"&\",\n",
    "          \"$\" + str(round(political_bias_sorted['25000'][-i-3][1],2)) + \"$\",\"\\\\\\\\\")"
   ]
  },
  {
   "cell_type": "code",
   "execution_count": 131,
   "metadata": {
    "collapsed": true
   },
   "outputs": [
    {
     "name": "stdout",
     "output_type": "stream",
     "text": [
      "BlueMidterm2018 & $9.31$ & greatawakening & $0.22$ \\\\\n",
      "Political\\_Revolution & $8.48$ & AskThe\\_Donald & $0.22$ \\\\\n",
      "RussiaLago & $7.75$ & milliondollarextreme & $0.32$ \\\\\n",
      "esist & $6.5$ & metacanada & $0.33$ \\\\\n",
      "Impeach\\_Trump & $6.5$ & sjwhate & $0.37$ \\\\\n",
      "PoliticalDiscussion & $6.48$ & MGTOW & $0.45$ \\\\\n",
      "NeutralPolitics & $5.47$ & TheRedPill & $0.49$ \\\\\n",
      "TrueReddit & $5.32$ & weekendgunnit & $0.53$ \\\\\n",
      "entertainment & $5.21$ & PewdiepieSubmissions & $0.56$ \\\\\n",
      "skeptic & $5.09$ & copypasta & $0.57$ \\\\\n",
      "Foodforthought & $4.83$ & Republican & $0.58$ \\\\\n",
      "scifi & $4.71$ & Anarcho\\_Capitalism & $0.59$ \\\\\n",
      "bestof & $4.67$ & NoFap & $0.6$ \\\\\n",
      "TrumpCriticizesTrump & $4.65$ & DeepFriedMemes & $0.62$ \\\\\n",
      "bestoflegaladvice & $4.61$ & thedonald & $0.64$ \\\\\n",
      "femalefashionadvice & $4.59$ & progun & $0.64$ \\\\\n",
      "EverythingScience & $4.43$ & CODZombies & $0.67$ \\\\\n",
      "The\\_Mueller & $4.41$ & JordanPeterson & $0.68$ \\\\\n",
      "AskCulinary & $4.37$ & Ice\\_Poseidon & $0.69$ \\\\\n",
      "environment & $4.33$ & Catholicism & $0.69$ \\\\\n"
     ]
    }
   ],
   "source": [
    "ratio_sorted = sorted(ratio.items(),key=lambda x:x[1],reverse=True)\n",
    "for i in range(20):\n",
    "    print(ratio_sorted[i+2][0].replace(\"_\",\"\\_\"),\"&\",\n",
    "      \"$\" + str(round(ratio_sorted[i+2][1],2)) + \"$\",\"&\",\n",
    "      ratio_sorted[-i-3][0].replace(\"_\",\"\\_\"),\"&\",\n",
    "      \"$\" + str(round(ratio_sorted[-i-3][1],2)) + \"$\",\"\\\\\\\\\")"
   ]
  },
  {
   "cell_type": "code",
   "execution_count": 44,
   "metadata": {},
   "outputs": [],
   "source": [
    "bias_sorted = sorted(political_bias['2500'].items(),key=lambda x:x[1],reverse=True)"
   ]
  },
  {
   "cell_type": "code",
   "execution_count": 50,
   "metadata": {},
   "outputs": [
    {
     "name": "stdout",
     "output_type": "stream",
     "text": [
      "u_washingtonpost 0.42599975836655796\n"
     ]
    }
   ],
   "source": [
    "for board,bias in bias_sorted:\n",
    "    if board == \"u_washingtonpost\":\n",
    "        print(board,bias)\n",
    "        break"
   ]
  },
  {
   "cell_type": "code",
   "execution_count": 51,
   "metadata": {},
   "outputs": [],
   "source": [
    "bias_sorted.remove((\"u_washingtonpost\", 0.42599975836655796))"
   ]
  },
  {
   "cell_type": "code",
   "execution_count": 55,
   "metadata": {},
   "outputs": [
    {
     "name": "stdout",
     "output_type": "stream",
     "text": [
      "politics & $0.73$ & $1.0$ & The\\_Donald & $-0.56$ $1.0$ \\\\\n",
      "SandersForPresident & $0.58$ & $1.0$ & Conservative & $-0.31$ $1.0$ \\\\\n",
      "CaliforniaForSanders & $0.55$ & $0.84$ & DrainTheSwamp & $-0.29$ $0.8$ \\\\\n",
      "GrassrootsSelect & $0.52$ & $0.94$ & The\\_Congress & $-0.27$ $0.96$ \\\\\n",
      "FriendsofthePod & $0.5$ & $0.76$ & The\\_Farage & $-0.26$ $0.9$ \\\\\n",
      "Keep\\_Track & $0.45$ & $0.9$ & tucker\\_carlson & $-0.23$ $0.93$ \\\\\n",
      "progressive & $0.42$ & $0.83$ & The\\_Europe & $-0.23$ $0.87$ \\\\\n",
      "justicedemocrats & $0.42$ & $0.86$ & europeannationalism & $-0.21$ $0.76$ \\\\\n",
      "BlueMidterm2018 & $0.41$ & $0.82$ & Le\\_Pen & $-0.2$ $0.9$ \\\\\n",
      "RussiaLago & $0.37$ & $0.86$ & Physical\\_Removal & $-0.18$ $0.89$ \\\\\n",
      "GreenParty & $0.36$ & $0.78$ & kekistan & $-0.18$ $0.5$ \\\\\n",
      "Political\\_Revolution & $0.36$ & $0.89$ & DarkEnlightenment & $-0.17$ $0.7$ \\\\\n",
      "occupywallstreet & $0.36$ & $0.8$ & CBTS\\_Stream & $-0.17$ $0.5$ \\\\\n",
      "PoliticalDiscussion & $0.36$ & $0.81$ & Mr\\_Trump & $-0.16$ $0.95$ \\\\\n",
      "LateShow & $0.36$ & $0.63$ & hottiesfortrump & $-0.15$ $0.81$ \\\\\n",
      "esist & $0.35$ & $0.85$ & redacted & $-0.15$ $0.95$ \\\\\n",
      "Maher & $0.35$ & $0.76$ & WhiteRights & $-0.15$ $0.71$ \\\\\n",
      "DepthHub & $0.35$ & $0.69$ & AskThe\\_Donald & $-0.14$ $0.91$ \\\\\n",
      "Enough\\_Sanders\\_Spam & $0.35$ & $0.83$ & altright & $-0.14$ $0.74$ \\\\\n",
      "Kossacks\\_for\\_Sanders & $0.34$ & $0.83$ & greatawakening & $-0.13$ $0.54$ \\\\\n"
     ]
    }
   ],
   "source": [
    "for i in range(20):\n",
    "    print(\n",
    "        bias_sorted[i][0].replace(\"_\",\"\\_\"),\"&\",\n",
    "        \"$\" + str(round(bias_sorted[i][1],2)) + \"$\",\"&\",\n",
    "        \"$\" + str(round(political_share[bias_sorted[i][0]],2)) + \"$\", \"&\",\n",
    "        bias_sorted[-i-1][0].replace(\"_\",\"\\_\"),\"&\",\n",
    "        \"$\" + str(round(bias_sorted[-i-1][1],2)) + \"$\",\n",
    "        \"$\" + str(round(political_share[bias_sorted[-i-1][0]],2)) + \"$\",\n",
    "        \"\\\\\\\\\"\n",
    "    )"
   ]
  },
  {
   "cell_type": "code",
   "execution_count": 51,
   "metadata": {
    "collapsed": true
   },
   "outputs": [
    {
     "name": "stdout",
     "output_type": "stream",
     "text": [
      "The_Donald 599849\n",
      "Conservative 93571\n",
      "The_Congress 10554\n",
      "tucker_carlson 5064\n",
      "Le_Pen 6527\n",
      "CBTS_Stream 12204\n",
      "hottiesfortrump 8329\n",
      "AskThe_Donald 34858\n",
      "altright 8981\n",
      "Mr_Trump 10202\n",
      "greatawakening 25990\n",
      "TheNewRight 9025\n",
      "RightwingLGBT 5258\n",
      "metacanada 15740\n",
      "HillaryMeltdown 10753\n",
      "milliondollarextreme 26940\n",
      "sjwhate 29583\n",
      "Jordan_Peterson_Memes 5203\n",
      "SargonofAkkad 16329\n",
      "european 8164\n",
      "DebateAltRight 7606\n",
      "DebateFascism 7515\n",
      "weekendgunnit 22722\n",
      "virginvschad 7685\n",
      "trump 6412\n",
      "WhereIsAssange 7216\n",
      "MGTOW 56751\n",
      "Republican 17933\n",
      "Shitstatistssay 9284\n"
     ]
    }
   ],
   "source": [
    "for i in range(50):\n",
    "    board,_ = political_bias_sorted[-i-1]\n",
    "    count = len(members[board]['users'])\n",
    "    if count > 5000:\n",
    "        print(board,count)"
   ]
  },
  {
   "cell_type": "code",
   "execution_count": null,
   "metadata": {},
   "outputs": [],
   "source": [
    "political_bias = {}\n",
    "\n",
    "for subreddit in active_members:\n",
    "        users_count = len(active_members[subreddit]['users'])\n",
    "        left_count = len(sample['left'].intersection(active_members[subreddit]['users']))\n",
    "        right_count = len(sample['right'].intersection(active_members[subreddit]['users']))\n",
    "        if left_count + right_count > 1000:\n",
    "            political_bias[subreddit] = (left_count - right_count) / (left_count + right_count)"
   ]
  }
 ],
 "metadata": {
  "kernelspec": {
   "display_name": "Python 3",
   "language": "python",
   "name": "python3"
  },
  "language_info": {
   "codemirror_mode": {
    "name": "ipython",
    "version": 3
   },
   "file_extension": ".py",
   "mimetype": "text/x-python",
   "name": "python",
   "nbconvert_exporter": "python",
   "pygments_lexer": "ipython3",
   "version": "3.7.1"
  }
 },
 "nbformat": 4,
 "nbformat_minor": 2
}
