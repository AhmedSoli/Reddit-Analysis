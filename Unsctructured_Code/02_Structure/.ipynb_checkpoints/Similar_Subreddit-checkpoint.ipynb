{
 "cells": [
  {
   "cell_type": "code",
   "execution_count": 1,
   "metadata": {},
   "outputs": [],
   "source": [
    "import pickle\n",
    "import gzip \n",
    "from sklearn.metrics.pairwise import cosine_similarity\n",
    "import numpy as np"
   ]
  },
  {
   "cell_type": "code",
   "execution_count": 2,
   "metadata": {},
   "outputs": [],
   "source": [
    "vectors = pickle.load(gzip.open('../Results/0to50k.pickle.gz',\"rb\"))\n",
    "active_members = pickle.load(gzip.open('../Results/active_members.pickle.gz',\"rb\"))"
   ]
  },
  {
   "cell_type": "code",
   "execution_count": 5,
   "metadata": {},
   "outputs": [],
   "source": [
    "def similar_vectors(board,k=10,skip=[]):\n",
    "    global vectors\n",
    "    similarity = {}\n",
    "    \n",
    "    if len(skip) == 0:\n",
    "        skip = [board]\n",
    "  \n",
    "    for subreddit in vectors:\n",
    "        if subreddit not in skip:\n",
    "            similarity[subreddit] = cosine_similarity( \\\n",
    "                vectors[board].reshape(1,-1),vectors[subreddit].reshape(1,-1))\n",
    "    \n",
    "    return sorted(similarity,key = lambda x:similarity[x],reverse=True)[0:k]\n",
    "\n",
    "def add(b1,b2,k=10,skip=[]):\n",
    "    global vectors\n",
    "    similarity = {}\n",
    "    \n",
    "    if len(skip) == 0:\n",
    "        skip = [b1,b2]\n",
    "        \n",
    "    result = vectors[b1] + vectors[b2]\n",
    "  \n",
    "    for subreddit in vectors:\n",
    "        if subreddit not in skip:\n",
    "            similarity[subreddit] = cosine_similarity( \\\n",
    "                result.reshape(1,-1),vectors[subreddit].reshape(1,-1))\n",
    "    \n",
    "    return sorted(similarity,key = lambda x:similarity[x],reverse=True)[0:k]\n",
    "\n",
    "\n",
    "def subtract(b1,b2,k=5,skip=[]):\n",
    "    global vectors\n",
    "    similarity = {}\n",
    "    \n",
    "    if len(skip) == 0:\n",
    "        skip = [b1,b2]\n",
    "        \n",
    "    result = vectors[b1] - vectors[b2]\n",
    "  \n",
    "    for subreddit in vectors:\n",
    "        if subreddit not in skip:\n",
    "            similarity[subreddit] = cosine_similarity( \\\n",
    "                result.reshape(1,-1),vectors[subreddit].reshape(1,-1))\n",
    "    \n",
    "    return sorted(similarity,key = lambda x:similarity[x],reverse=True)[0:k]"
   ]
  },
  {
   "cell_type": "code",
   "execution_count": 48,
   "metadata": {},
   "outputs": [
    {
     "data": {
      "text/plain": [
       "['nfl', 'fantasyfootball', 'baseball', 'CFB', 'hiphopheads']"
      ]
     },
     "execution_count": 48,
     "metadata": {},
     "output_type": "execute_result"
    }
   ],
   "source": [
    "similar_vectors('nba')"
   ]
  },
  {
   "cell_type": "code",
   "execution_count": 49,
   "metadata": {},
   "outputs": [
    {
     "data": {
      "text/plain": [
       "['askphilosophy',\n",
       " 'NeutralPolitics',\n",
       " 'psychology',\n",
       " 'EverythingScience',\n",
       " 'Foodforthought']"
      ]
     },
     "execution_count": 49,
     "metadata": {},
     "output_type": "execute_result"
    }
   ],
   "source": [
    "similar_vectors('philosophy')"
   ]
  },
  {
   "cell_type": "code",
   "execution_count": 51,
   "metadata": {},
   "outputs": [
    {
     "data": {
      "text/plain": [
       "['solotravel',\n",
       " 'Ultralight',\n",
       " 'bodyweightfitness',\n",
       " 'homegym',\n",
       " 'intermittentfasting']"
      ]
     },
     "execution_count": 51,
     "metadata": {},
     "output_type": "execute_result"
    }
   ],
   "source": [
    "add('running','nutrition')"
   ]
  },
  {
   "cell_type": "code",
   "execution_count": 52,
   "metadata": {},
   "outputs": [
    {
     "data": {
      "text/plain": [
       "['neutralnews', 'Impeach_Trump', 'Liberal', 'TrueAskReddit', 'Foodforthought']"
      ]
     },
     "execution_count": 52,
     "metadata": {},
     "output_type": "execute_result"
    }
   ],
   "source": [
    "add('NeutralPolitics','progressive')"
   ]
  },
  {
   "cell_type": "code",
   "execution_count": 53,
   "metadata": {},
   "outputs": [
    {
     "data": {
      "text/plain": [
       "['progressive', 'Liberal', 'neutralnews', 'RussiaLago', 'Impeach_Trump']"
      ]
     },
     "execution_count": 53,
     "metadata": {},
     "output_type": "execute_result"
    }
   ],
   "source": [
    "add('NeutralPolitics','democrats')"
   ]
  },
  {
   "cell_type": "code",
   "execution_count": 54,
   "metadata": {},
   "outputs": [
    {
     "data": {
      "text/plain": [
       "['neutralnews', 'Liberal', 'DNCleaks', 'AskALiberal', 'badeconomics']"
      ]
     },
     "execution_count": 54,
     "metadata": {},
     "output_type": "execute_result"
    }
   ],
   "source": [
    "add('NeutralPolitics','Republican')"
   ]
  },
  {
   "cell_type": "code",
   "execution_count": 8,
   "metadata": {},
   "outputs": [
    {
     "data": {
      "text/plain": [
       "['AskThe_Donald',\n",
       " 'ShitPoliticsSays',\n",
       " 'Liberal',\n",
       " 'Foodforthought',\n",
       " 'neutralnews']"
      ]
     },
     "execution_count": 8,
     "metadata": {},
     "output_type": "execute_result"
    }
   ],
   "source": [
    "add('NeutralPolitics','Conservative')"
   ]
  },
  {
   "cell_type": "code",
   "execution_count": 60,
   "metadata": {},
   "outputs": [
    {
     "data": {
      "text/plain": [
       "['worldnews',\n",
       " 'news',\n",
       " 'todayilearned',\n",
       " 'pics',\n",
       " 'AdviceAnimals',\n",
       " 'movies',\n",
       " 'gifs',\n",
       " 'nottheonion',\n",
       " 'WTF',\n",
       " 'technology']"
      ]
     },
     "execution_count": 60,
     "metadata": {},
     "output_type": "execute_result"
    }
   ],
   "source": [
    "similar_vectors('politics')"
   ]
  },
  {
   "cell_type": "code",
   "execution_count": 61,
   "metadata": {},
   "outputs": [
    {
     "data": {
      "text/plain": [
       "['conspiracy',\n",
       " 'PoliticalHumor',\n",
       " 'CringeAnarchy',\n",
       " 'SandersForPresident',\n",
       " 'Libertarian',\n",
       " 'ImGoingToHellForThis',\n",
       " 'nottheonion',\n",
       " 'Futurology',\n",
       " 'atheism',\n",
       " 'dataisbeautiful']"
      ]
     },
     "execution_count": 61,
     "metadata": {},
     "output_type": "execute_result"
    }
   ],
   "source": [
    "similar_vectors('The_Donald')"
   ]
  },
  {
   "cell_type": "code",
   "execution_count": 62,
   "metadata": {},
   "outputs": [
    {
     "data": {
      "text/plain": [
       "['BlueMidterm2018',\n",
       " 'MakingaMurderer',\n",
       " 'democrats',\n",
       " 'Enough_Sanders_Spam',\n",
       " 'Political_Revolution',\n",
       " 'washingtondc',\n",
       " 'progressive',\n",
       " 'enoughsandersspam',\n",
       " 'Blackfellas',\n",
       " 'neoliberal']"
      ]
     },
     "execution_count": 62,
     "metadata": {},
     "output_type": "execute_result"
    }
   ],
   "source": [
    "similar_vectors('hillaryclinton')"
   ]
  },
  {
   "cell_type": "code",
   "execution_count": 63,
   "metadata": {},
   "outputs": [
    {
     "data": {
      "text/plain": [
       "['PoliticalDiscussion',\n",
       " 'Political_Revolution',\n",
       " 'EnoughTrumpSpam',\n",
       " 'LateStageCapitalism',\n",
       " 'MarchAgainstTrump',\n",
       " 'esist',\n",
       " 'AskTrumpSupporters',\n",
       " 'bestof',\n",
       " 'TrueReddit',\n",
       " 'Conservative']"
      ]
     },
     "execution_count": 63,
     "metadata": {},
     "output_type": "execute_result"
    }
   ],
   "source": [
    "similar_vectors('SandersForPresident')"
   ]
  },
  {
   "cell_type": "code",
   "execution_count": 64,
   "metadata": {},
   "outputs": [
    {
     "data": {
      "text/plain": [
       "['Liberal',\n",
       " 'DNCleaks',\n",
       " 'Kossacks_for_Sanders',\n",
       " 'Iowa',\n",
       " 'wisconsin',\n",
       " 'TrueAskReddit',\n",
       " 'Feminism',\n",
       " 'Impeach_Trump',\n",
       " 'Africa',\n",
       " 'jillstein']"
      ]
     },
     "execution_count": 64,
     "metadata": {},
     "output_type": "execute_result"
    }
   ],
   "source": [
    "similar_vectors('progressive')"
   ]
  },
  {
   "cell_type": "code",
   "execution_count": 65,
   "metadata": {},
   "outputs": [
    {
     "data": {
      "text/plain": [
       "['uncensorednews',\n",
       " 'AskThe_Donald',\n",
       " 'ShitPoliticsSays',\n",
       " 'AskTrumpSupporters',\n",
       " 'Economics',\n",
       " 'HillaryForPrison',\n",
       " 'hillaryclinton',\n",
       " 'MarchAgainstTrump',\n",
       " 'Republican',\n",
       " 'WikiLeaks']"
      ]
     },
     "execution_count": 65,
     "metadata": {},
     "output_type": "execute_result"
    }
   ],
   "source": [
    "similar_vectors('Conservative')"
   ]
  },
  {
   "cell_type": "code",
   "execution_count": 66,
   "metadata": {},
   "outputs": [
    {
     "data": {
      "text/plain": [
       "['GoldandBlack',\n",
       " 'berkeley',\n",
       " 'TheNewRight',\n",
       " 'POTUSWatch',\n",
       " 'arizona',\n",
       " 'oklahoma',\n",
       " 'Cleveland',\n",
       " 'Spokane',\n",
       " 'RightwingLGBT',\n",
       " 'Norway']"
      ]
     },
     "execution_count": 66,
     "metadata": {},
     "output_type": "execute_result"
    }
   ],
   "source": [
    "similar_vectors('Republican')"
   ]
  },
  {
   "cell_type": "code",
   "execution_count": 67,
   "metadata": {},
   "outputs": [
    {
     "data": {
      "text/plain": [
       "['OurPresident',\n",
       " 'EnoughLibertarianSpam',\n",
       " 'Republican',\n",
       " 'BlueMidterm2018',\n",
       " 'Liberal',\n",
       " 'RussiaLago',\n",
       " 'oklahoma',\n",
       " 'GunsAreCool',\n",
       " 'florida',\n",
       " 'arizona']"
      ]
     },
     "execution_count": 67,
     "metadata": {},
     "output_type": "execute_result"
    }
   ],
   "source": [
    "similar_vectors('democrats')"
   ]
  },
  {
   "cell_type": "code",
   "execution_count": 68,
   "metadata": {},
   "outputs": [
    {
     "data": {
      "text/plain": [
       "['neutralnews',\n",
       " 'TrueAtheism',\n",
       " 'Impeach_Trump',\n",
       " 'Foodforthought',\n",
       " 'progressive',\n",
       " 'TrumpCriticizesTrump',\n",
       " 'badhistory',\n",
       " 'TrueAskReddit',\n",
       " 'conspiratard',\n",
       " 'circlebroke']"
      ]
     },
     "execution_count": 68,
     "metadata": {},
     "output_type": "execute_result"
    }
   ],
   "source": [
    "similar_vectors('NeutralPolitics')"
   ]
  },
  {
   "cell_type": "code",
   "execution_count": 69,
   "metadata": {},
   "outputs": [
    {
     "data": {
      "text/plain": [
       "['worldnews',\n",
       " 'news',\n",
       " 'todayilearned',\n",
       " 'pics',\n",
       " 'AdviceAnimals',\n",
       " 'movies',\n",
       " 'gifs',\n",
       " 'nottheonion',\n",
       " 'WTF',\n",
       " 'technology']"
      ]
     },
     "execution_count": 69,
     "metadata": {},
     "output_type": "execute_result"
    }
   ],
   "source": [
    "similar_vectors('politics')"
   ]
  },
  {
   "cell_type": "code",
   "execution_count": 12,
   "metadata": {},
   "outputs": [
    {
     "data": {
      "text/plain": [
       "['AskReddit', 'politics', 'worldnews', 'leagueoflegends', 'gaming']"
      ]
     },
     "execution_count": 12,
     "metadata": {},
     "output_type": "execute_result"
    }
   ],
   "source": [
    "subtract('The_Donald','conspiracy')"
   ]
  },
  {
   "cell_type": "code",
   "execution_count": 13,
   "metadata": {},
   "outputs": [
    {
     "data": {
      "text/plain": [
       "['GlobalOffensiveTrade',\n",
       " 'friendsafari',\n",
       " 'gonewild',\n",
       " 'dirtykikpals',\n",
       " 'PewdiepieSubmissions']"
      ]
     },
     "execution_count": 13,
     "metadata": {},
     "output_type": "execute_result"
    }
   ],
   "source": [
    "subtract('The_Donald','politics')"
   ]
  },
  {
   "cell_type": "code",
   "execution_count": 18,
   "metadata": {},
   "outputs": [
    {
     "data": {
      "text/plain": [
       "['Conservative',\n",
       " 'uncensorednews',\n",
       " 'AskTrumpSupporters',\n",
       " 'Libertarian',\n",
       " 'conspiracy',\n",
       " 'PoliticalDiscussion',\n",
       " 'KotakuInAction',\n",
       " 'AskThe_Donald',\n",
       " 'PoliticalHumor',\n",
       " 'MarchAgainstTrump']"
      ]
     },
     "execution_count": 18,
     "metadata": {},
     "output_type": "execute_result"
    }
   ],
   "source": [
    "add('NeutralPolitics','The_Donald')"
   ]
  },
  {
   "cell_type": "code",
   "execution_count": 14,
   "metadata": {},
   "outputs": [
    {
     "data": {
      "text/plain": [
       "['AskReddit', 'politics', 'worldnews', 'news', 'pics']"
      ]
     },
     "execution_count": 14,
     "metadata": {},
     "output_type": "execute_result"
    }
   ],
   "source": [
    "subtract('The_Donald','NeutralPolitics')"
   ]
  },
  {
   "cell_type": "code",
   "execution_count": 15,
   "metadata": {},
   "outputs": [
    {
     "data": {
      "text/plain": [
       "['ChubbyWhores',\n",
       " 'SloppyBlowjobVideos',\n",
       " 'Freya_Belrose',\n",
       " 'EscapistPorn',\n",
       " 'pantyclub']"
      ]
     },
     "execution_count": 15,
     "metadata": {},
     "output_type": "execute_result"
    }
   ],
   "source": [
    "subtract('NeutralPolitics','The_Donald')"
   ]
  },
  {
   "cell_type": "code",
   "execution_count": 16,
   "metadata": {},
   "outputs": [
    {
     "data": {
      "text/plain": [
       "['AskReddit', 'politics', 'worldnews', 'gaming', 'news']"
      ]
     },
     "execution_count": 16,
     "metadata": {},
     "output_type": "execute_result"
    }
   ],
   "source": [
    "subtract('The_Donald','SandersForPresident')"
   ]
  },
  {
   "cell_type": "code",
   "execution_count": 17,
   "metadata": {},
   "outputs": [
    {
     "data": {
      "text/plain": [
       "['ImaginaryMusic',\n",
       " 'SloppyBlowjobVideos',\n",
       " 'Cadance',\n",
       " 'NorthDakota4Sanders',\n",
       " 'ChubbyWhores']"
      ]
     },
     "execution_count": 17,
     "metadata": {},
     "output_type": "execute_result"
    }
   ],
   "source": [
    "subtract('SandersForPresident','The_Donald')"
   ]
  },
  {
   "cell_type": "code",
   "execution_count": 7,
   "metadata": {},
   "outputs": [
    {
     "data": {
      "text/plain": [
       "['friendsafari',\n",
       " 'GlobalOffensiveTrade',\n",
       " 'stopdrinking',\n",
       " 'Fireteams',\n",
       " 'depression']"
      ]
     },
     "execution_count": 7,
     "metadata": {},
     "output_type": "execute_result"
    }
   ],
   "source": [
    "subtract('EnoughMuskSpam','elonmusk')"
   ]
  },
  {
   "cell_type": "code",
   "execution_count": 8,
   "metadata": {},
   "outputs": [
    {
     "data": {
      "text/plain": [
       "['UkrainianConflict',\n",
       " 'chomsky',\n",
       " 'RealTesla',\n",
       " 'thedavidpakmanshow',\n",
       " 'redacted',\n",
       " 'SocialistRA',\n",
       " 'NorthKoreaNews',\n",
       " 'PuertoRico',\n",
       " 'czech',\n",
       " 'nasa']"
      ]
     },
     "execution_count": 8,
     "metadata": {},
     "output_type": "execute_result"
    }
   ],
   "source": [
    "add('EnoughMuskSpam','elonmusk')"
   ]
  },
  {
   "cell_type": "code",
   "execution_count": 9,
   "metadata": {},
   "outputs": [
    {
     "data": {
      "text/plain": [
       "['shrooms',\n",
       " 'MDMA',\n",
       " 'Psychonaut',\n",
       " 'weed',\n",
       " 'researchchemicals',\n",
       " 'opiates',\n",
       " 'vaporents',\n",
       " 'Stims',\n",
       " 'DMT',\n",
       " 'DarkNetMarkets']"
      ]
     },
     "execution_count": 9,
     "metadata": {},
     "output_type": "execute_result"
    }
   ],
   "source": [
    "similar_vectors('LSD')"
   ]
  },
  {
   "cell_type": "code",
   "execution_count": 10,
   "metadata": {},
   "outputs": [
    {
     "data": {
      "text/plain": [
       "['RealTesla',\n",
       " 'PuertoRico',\n",
       " 'nasa',\n",
       " 'newyorkcity',\n",
       " 'Wales',\n",
       " 'netneutrality',\n",
       " 'Dinosaurs',\n",
       " 'SpaceXMasterrace',\n",
       " 'brasilivre',\n",
       " 'KeepOurNetFree']"
      ]
     },
     "execution_count": 10,
     "metadata": {},
     "output_type": "execute_result"
    }
   ],
   "source": [
    "similar_vectors('elonmusk')"
   ]
  },
  {
   "cell_type": "code",
   "execution_count": 11,
   "metadata": {},
   "outputs": [
    {
     "data": {
      "text/plain": [
       "['judo',\n",
       " 'puns',\n",
       " 'SuddenlyGay',\n",
       " 'SyrianCirclejerkWar',\n",
       " 'spiderbro',\n",
       " 'NormMacdonald',\n",
       " 'glitch_art',\n",
       " 'BethesdaSoftworks',\n",
       " 'berserklejerk',\n",
       " 'freemasonry']"
      ]
     },
     "execution_count": 11,
     "metadata": {},
     "output_type": "execute_result"
    }
   ],
   "source": [
    "similar_vectors('flatearth')"
   ]
  },
  {
   "cell_type": "code",
   "execution_count": 12,
   "metadata": {},
   "outputs": [
    {
     "data": {
      "text/plain": [
       "['Libertarian',\n",
       " 'uncensorednews',\n",
       " 'Documentaries',\n",
       " 'PoliticalHumor',\n",
       " 'Conservative',\n",
       " 'MarchAgainstTrump',\n",
       " 'LateStageCapitalism',\n",
       " 'EnoughTrumpSpam',\n",
       " 'SandersForPresident',\n",
       " 'worldpolitics']"
      ]
     },
     "execution_count": 12,
     "metadata": {},
     "output_type": "execute_result"
    }
   ],
   "source": [
    "similar_vectors('conspiracy')"
   ]
  },
  {
   "cell_type": "code",
   "execution_count": 13,
   "metadata": {},
   "outputs": [
    {
     "data": {
      "text/plain": [
       "['JoeRogan',\n",
       " 'Psychonaut',\n",
       " 'MarchAgainstTrump',\n",
       " 'uncensorednews',\n",
       " 'JordanPeterson',\n",
       " 'MGTOW',\n",
       " 'shrooms',\n",
       " 'MensRights',\n",
       " 'HillaryForPrison',\n",
       " 'ChapoTrapHouse']"
      ]
     },
     "execution_count": 13,
     "metadata": {},
     "output_type": "execute_result"
    }
   ],
   "source": [
    "add('LSD','conspiracy')"
   ]
  },
  {
   "cell_type": "code",
   "execution_count": 14,
   "metadata": {},
   "outputs": [
    {
     "data": {
      "text/plain": [
       "['JordanPeterson',\n",
       " 'StreetFights',\n",
       " 'samharris',\n",
       " 'Anarcho_Capitalism',\n",
       " 'steelers',\n",
       " 'Destiny',\n",
       " 'PKA',\n",
       " 'WayOfTheBern',\n",
       " 'howardstern',\n",
       " 'The_Mueller']"
      ]
     },
     "execution_count": 14,
     "metadata": {},
     "output_type": "execute_result"
    }
   ],
   "source": [
    "similar_vectors('JoeRogan')"
   ]
  },
  {
   "cell_type": "code",
   "execution_count": 15,
   "metadata": {},
   "outputs": [
    {
     "data": {
      "text/plain": [
       "['Anxiety',\n",
       " 'leaves',\n",
       " 'opiates',\n",
       " 'dating_advice',\n",
       " 'kratom',\n",
       " 'amiugly',\n",
       " 'ForeverAlone',\n",
       " 'SuicideWatch',\n",
       " 'bipolar',\n",
       " 'aspergers']"
      ]
     },
     "execution_count": 15,
     "metadata": {},
     "output_type": "execute_result"
    }
   ],
   "source": [
    "add('depression','LSD')"
   ]
  },
  {
   "cell_type": "code",
   "execution_count": 16,
   "metadata": {},
   "outputs": [
    {
     "data": {
      "text/plain": [
       "['pornfree',\n",
       " 'Divorce',\n",
       " 'BreakUps',\n",
       " 'BipolarReddit',\n",
       " 'blogsnark',\n",
       " 'intj',\n",
       " 'adultery',\n",
       " 'AskFeminists',\n",
       " 'sales',\n",
       " 'BPDlovedones']"
      ]
     },
     "execution_count": 16,
     "metadata": {},
     "output_type": "execute_result"
    }
   ],
   "source": [
    "similar_vectors('leaves')"
   ]
  },
  {
   "cell_type": "code",
   "execution_count": 17,
   "metadata": {},
   "outputs": [
    {
     "data": {
      "text/plain": [
       "['ForeverAlone',\n",
       " 'Anxiety',\n",
       " 'aspergers',\n",
       " 'AskThe_Donald',\n",
       " 'dating_advice',\n",
       " 'IncelTears',\n",
       " 'leaves',\n",
       " 'AskTrumpSupporters',\n",
       " 'amiugly',\n",
       " 'Catholicism']"
      ]
     },
     "execution_count": 17,
     "metadata": {},
     "output_type": "execute_result"
    }
   ],
   "source": [
    "add('depression','Conservative')"
   ]
  },
  {
   "cell_type": "code",
   "execution_count": null,
   "metadata": {},
   "outputs": [],
   "source": []
  }
 ],
 "metadata": {
  "kernelspec": {
   "display_name": "Python 3",
   "language": "python",
   "name": "python3"
  },
  "language_info": {
   "codemirror_mode": {
    "name": "ipython",
    "version": 3
   },
   "file_extension": ".py",
   "mimetype": "text/x-python",
   "name": "python",
   "nbconvert_exporter": "python",
   "pygments_lexer": "ipython3",
   "version": "3.7.1"
  }
 },
 "nbformat": 4,
 "nbformat_minor": 2
}
