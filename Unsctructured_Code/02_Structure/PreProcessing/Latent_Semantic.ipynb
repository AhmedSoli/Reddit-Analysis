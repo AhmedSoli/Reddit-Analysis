{
 "cells": [
  {
   "cell_type": "code",
   "execution_count": 3,
   "metadata": {},
   "outputs": [],
   "source": [
    "import pickle\n",
    "import gzip\n",
    "\n",
    "active_members = pickle.load(gzip.open(\"../../Results/active_members.pickle.gz\",\"rb\"))"
   ]
  },
  {
   "cell_type": "code",
   "execution_count": 4,
   "metadata": {},
   "outputs": [],
   "source": [
    "counts = {}\n",
    "\n",
    "for board in active_members:\n",
    "    counts[board] = len(active_members[board]['users'])\n",
    "    \n",
    "boards_sorted = sorted(counts.items(),key=lambda x: x[1],reverse=True)"
   ]
  },
  {
   "cell_type": "code",
   "execution_count": 12,
   "metadata": {},
   "outputs": [
    {
     "name": "stdout",
     "output_type": "stream",
     "text": [
      "0 ('AskReddit', 1667185)\n",
      "1 ('funny', 428512)\n",
      "5 ('politics', 321808)\n",
      "1000 ('dankchristianmemes', 6251)\n",
      "1500 ('goodyearwelt', 4082)\n",
      "2000 ('Sneks', 2911)\n",
      "4000 ('vagabond', 1129)\n",
      "5000 ('Garmin', 797)\n",
      "10000 ('FirefoxCSS', 226)\n",
      "15000 ('DailyDouble', 99)\n",
      "20000 ('ASLinterpreters', 53)\n",
      "50000 ('RoyaleConspiracy', 8)\n"
     ]
    }
   ],
   "source": [
    "for rank in [0,1,5,1000,1500,2000,4000,5000,10000,15000,20000,50000]:\n",
    "    print(rank,boards_sorted[rank])"
   ]
  },
  {
   "cell_type": "code",
   "execution_count": 6,
   "metadata": {},
   "outputs": [
    {
     "data": {
      "text/plain": [
       "8824747"
      ]
     },
     "execution_count": 6,
     "metadata": {},
     "output_type": "execute_result"
    }
   ],
   "source": [
    "relevant_subreddits = []\n",
    "users = []\n",
    "\n",
    "for board,_ in boards_sorted[0:50000]:\n",
    "    relevant_subreddits.append(board)\n",
    "    users.extend(active_members[board]['users'])\n",
    "    \n",
    "n = len(set(users))\n",
    "n"
   ]
  },
  {
   "cell_type": "code",
   "execution_count": 7,
   "metadata": {},
   "outputs": [],
   "source": [
    "import numpy as np\n",
    "import math\n",
    "from sklearn import preprocessing\n",
    "\n",
    "def sets_common(a,b):\n",
    "    return int(len(a.intersection(b)))\n",
    "\n",
    "def h(x,n):\n",
    "    return (x/float(n)) * math.log((x/float(n)))\n",
    "\n",
    "def pmi(count_a,count_b,common,n):\n",
    "    try:\n",
    "        return math.log((common/float(n)) / float((count_a/n) * (count_b/n))) \n",
    "    except:\n",
    "        return math.log((1/float(n)) / float((count_a/n) * (count_b/n)))\n",
    "\n",
    "def calc_vectors(base_boards,desc):\n",
    "    global active_members\n",
    "    global n\n",
    "    vectors = {}\n",
    "    len_base_boards = len(base_boards)\n",
    "    # number of authors in the top 50k subreddits\n",
    "\n",
    "    for key,board in enumerate(reversed(relevant_subreddits[0:50000])):\n",
    "        vectors[board] = np.zeros(len_base_boards) \n",
    "        for vec_key,base in enumerate(base_boards):\n",
    "            common = sets_common(active_members[board]['users'],active_members[base]['users'])\n",
    "            vectors[board][vec_key] = pmi(counts[board],counts[base],common,n)\n",
    "        \n",
    "        vectors[board] = preprocessing.normalize(vectors[board].reshape(1,-1), norm='l2')[0]\n",
    "\n",
    "        logging.info(\"{} {}\".format(key,desc))\n",
    "            \n",
    "    return vectors"
   ]
  },
  {
   "cell_type": "code",
   "execution_count": 8,
   "metadata": {},
   "outputs": [],
   "source": [
    "hand_picked =  ['gaming', 'funny', 'Music', 'movies', 'television', 'sports', \\\n",
    "               'anime', 'comics', 'gifs', 'relationships', 'sex', 'Tinder', \\\n",
    "               'atheism', 'philosophy', 'The_Donald', 'worldnews', \\\n",
    "               'SandersForPresident', 'politics', 'PoliticalDiscussion',\\\n",
    "               'hillaryclinton', 'todayilearned', 'explainlikeimfive',\\\n",
    "               'books', 'science', 'askscience', 'Documentaries',\\\n",
    "               'history', 'pics', 'AdviceAnimals', 'photography',\\\n",
    "               'cats', 'Bitcoin', 'cscareerquestions', 'investing',\\\n",
    "               'learnprogramming', 'personalfinance', 'streetwear', 'Sneakers',\\\n",
    "               'Art', 'MakeupAddiction', 'malefashionadvice', 'Fitness', 'bicycling',\\\n",
    "               'Drugs', 'LSD', 'apple', 'Android', 'nvidia', 'nintendo', 'PS4', 'xboxone', \\\n",
    "               'Twitch', 'Vive', 'oculus', 'keto', 'vegan', 'food', 'Frugal', 'NoFap',\\\n",
    "               'depression', 'Anxiety', 'SuicideWatch']"
   ]
  },
  {
   "cell_type": "code",
   "execution_count": 16,
   "metadata": {},
   "outputs": [
    {
     "name": "stdout",
     "output_type": "stream",
     "text": [
      "[None, None, None, None, None, None, None, None, None, None, None, None, None, None]\n"
     ]
    }
   ],
   "source": [
    "from multiprocessing import Pool\n",
    "import logging\n",
    "\n",
    "logging.basicConfig(filename=\"output.log\",level=logging.INFO)\n",
    "\n",
    "def worker(desc):\n",
    "    logging.info(\"Working on {}\".format(desc))\n",
    "    vectors = calc_vectors(base_boards[desc],desc)\n",
    "    pickle_out = open(\"../../Results/\" + desc + \".pickle\",\"wb\")\n",
    "    pickle.dump(vectors, pickle_out)\n",
    "    pickle_out.close()\n",
    "\n",
    "base_boards = {\n",
    "    'hand_picked': hand_picked,\n",
    "    'politics': ['The_Donald','hillaryclinton','SandersForPresident'],\n",
    "    'politics_alt': ['Republican','democrats','Liberal','Conservative','progressive', \\\n",
    "                     'SandersForPresident','The_Donald','hillaryclinton'],\n",
    "    'politics_The_Donald': ['politics','The_Donald'],\n",
    "    'sanders_The_Donald': ['SandersForPresident','The_Donald'],\n",
    "    '0to100': relevant_subreddits[1:100],\n",
    "    '0to250': relevant_subreddits[1:250],\n",
    "    '0to500': relevant_subreddits[1:500],\n",
    "    '0to2500': relevant_subreddits[1:2500],\n",
    "    '2500to5000': relevant_subreddits[2500:5000],\n",
    "    '0to5000': relevant_subreddits[1:5000],\n",
    "    '0to10k': relevant_subreddits[1:10000],\n",
    "    '0to25k': relevant_subreddits[1:25000],\n",
    "    '0to50k': relevant_subreddits[1:50000],\n",
    "#    '1kto10k': relevant_subreddits[1000:10000],\n",
    "#    '0to100': relevant_subreddits[0:100],\n",
    "#    '0to75': relevant_subreddits[0:75],\n",
    "#    '0to150': relevant_subreddits[0:150],    \n",
    "#   '0to175': relevant_subreddits[0:175],    \n",
    "#     '0to200': relevant_subreddits[0:200],\n",
    "#     '0to250': relevant_subreddits[0:250],\n",
    "#     '0to300': relevant_subreddits[0:300],\n",
    "#     '0to350': relevant_subreddits[0:350],\n",
    "#     '0to400': relevant_subreddits[0:400],\n",
    "#    '0to500': relevant_subreddits[0:500],\n",
    "#    '0to600': relevant_subreddits[0:600],\n",
    "#    '0to700': relevant_subreddits[0:700],\n",
    "#    '0to800': relevant_subreddits[0:800],\n",
    "#    '0to900': relevant_subreddits[0:900],\n",
    "#    '0to1000': relevant_subreddits[0:1000],\n",
    "#    '500to1000': relevant_subreddits[500:1000],\n",
    "#    '1kto4k': relevant_subreddits[1000:4000],\n",
    "#    '1kto3k': relevant_subreddits[1000:3000],\n",
    "#    '1kto2k': relevant_subreddits[1000:2000],\n",
    "#    '2kto4k': relevant_subreddits[2000:4000],\n",
    "#    '2kto5k': relevant_subreddits[2000:5000],\n",
    "#    '0to5k': relevant_subreddits[0:5000],\n",
    "}\n",
    "\n",
    "p = Pool(len(base_boards))\n",
    "print(p.map(worker, base_boards))\n",
    "p.close()"
   ]
  }
 ],
 "metadata": {
  "kernelspec": {
   "display_name": "Python 3",
   "language": "python",
   "name": "python3"
  },
  "language_info": {
   "codemirror_mode": {
    "name": "ipython",
    "version": 3
   },
   "file_extension": ".py",
   "mimetype": "text/x-python",
   "name": "python",
   "nbconvert_exporter": "python",
   "pygments_lexer": "ipython3",
   "version": "3.7.1"
  }
 },
 "nbformat": 4,
 "nbformat_minor": 2
}
