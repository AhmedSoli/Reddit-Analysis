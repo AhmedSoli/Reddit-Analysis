{
 "cells": [
  {
   "cell_type": "code",
   "execution_count": 1,
   "metadata": {},
   "outputs": [],
   "source": [
    "import pickle\n",
    "import gzip \n",
    "\n",
    "vectors = pickle.load(gzip.open('../Results/0to50k.pickle.gz',\"rb\"))\n",
    "active_members = pickle.load(gzip.open('../Results/active_members.pickle.gz',\"rb\"))\n",
    "# members = pickle.load(open('../Results/members.pickle',\"rb\"))"
   ]
  },
  {
   "cell_type": "code",
   "execution_count": 2,
   "metadata": {},
   "outputs": [],
   "source": [
    "active_members_counts = {}\n",
    "\n",
    "for board in active_members:\n",
    "    active_members_counts[board] = len(active_members[board]['users'])\n",
    "    \n",
    "boards_sorted = sorted(active_members_counts,key=lambda x: active_members_counts[x],reverse=True)"
   ]
  },
  {
   "cell_type": "code",
   "execution_count": 6,
   "metadata": {},
   "outputs": [],
   "source": [
    "def same_user_base(board,filter = 0):\n",
    "    global boards_sorted\n",
    "    global vectors\n",
    "    global counts\n",
    "    results = []\n",
    "    idx = (-vectors[board]).argsort()\n",
    "    i = 0\n",
    "    for id in idx:\n",
    "        name = boards_sorted[id + 1]\n",
    "        #if name in members and len(members[name]['users']) > filter:\n",
    "        i += 1\n",
    "        results.append(name)\n",
    "        if i == 100:\n",
    "            break\n",
    "    return results"
   ]
  },
  {
   "cell_type": "code",
   "execution_count": 7,
   "metadata": {},
   "outputs": [
    {
     "data": {
      "text/plain": [
       "['altright',\n",
       " 'RedPillReality',\n",
       " 'hitler',\n",
       " 'The_Hofer',\n",
       " 'HiddenHateCrimes',\n",
       " 'MockRedditAdmins',\n",
       " 'IslamIsCancer',\n",
       " 'FreeEuropeNews',\n",
       " 'ethnocommunity',\n",
       " 'Listen2This',\n",
       " 'ThisCantBeHappening',\n",
       " 'Fuck_Islam',\n",
       " 'TheImperialCult',\n",
       " 'PURE_TRUMP',\n",
       " 'NationalSocialism',\n",
       " 'neweconomy',\n",
       " 'uncensored_reddit',\n",
       " 'NewRussia',\n",
       " 'GayWrongs',\n",
       " 'AltRightAus',\n",
       " 'Martial_Industrial',\n",
       " 'LiberalDegeneracy',\n",
       " 'Openandgenuine',\n",
       " 'regressive_left',\n",
       " 'UNAgenda21',\n",
       " 'HBD',\n",
       " 'EuropeanPeoples',\n",
       " 'CNNauto',\n",
       " 'ElectionReforMaybe',\n",
       " 'Digital_Manipulation',\n",
       " 'sketchvideos',\n",
       " 'IrishNationalism',\n",
       " 'euromigration',\n",
       " 'FULLFASCISM',\n",
       " 'TheAltRight',\n",
       " 'besteurope',\n",
       " 'IdentityIrelandForum',\n",
       " 'Pegida_Ireland',\n",
       " 'ZOG',\n",
       " 'RedEnsign',\n",
       " 'TheDonaldNews',\n",
       " 'CommieWatch',\n",
       " 'NorthAmerican',\n",
       " 'hardright',\n",
       " 'Evalion',\n",
       " 'europeannationalism',\n",
       " 'Mixcraft_Studio',\n",
       " 'paleolibertarian',\n",
       " 'nato',\n",
       " 'tekthingers',\n",
       " 'Team_Italian',\n",
       " 'mashable',\n",
       " 'GunslingerMusic',\n",
       " 'TrumpMinnesota',\n",
       " 'Salted_Crime',\n",
       " 'RefugeeCrisis',\n",
       " 'CrimesAgainstAsianity',\n",
       " '911fanart',\n",
       " 'deadsy',\n",
       " 'CipherBrowser',\n",
       " 'politics2',\n",
       " 'chicksfalling',\n",
       " 'PoliticalConspiracy',\n",
       " 'INeedFeminismBecause',\n",
       " 'fuckthepolice',\n",
       " 'FGC',\n",
       " 'russiawarinukraine',\n",
       " 'DebateMonarchy',\n",
       " 'GenaroNetwork',\n",
       " 'infrasociology',\n",
       " 'MarshallBrain',\n",
       " 'CulturalMarxism',\n",
       " 'BanThisBreed',\n",
       " 'ModelReasonMagazine',\n",
       " 'PokemonGoNewfoundland',\n",
       " 'BrockTurnerInnocent',\n",
       " '1984isreality',\n",
       " 'MGuardian',\n",
       " 'TechUnemployment',\n",
       " 'styxhexenhammer666',\n",
       " 'DystopiaToday',\n",
       " 'philosophy_memes',\n",
       " 'CoverBattles',\n",
       " 'PollEverything',\n",
       " 'BadPharma',\n",
       " 'piratepartyofcanada',\n",
       " 'HistoryOfAustria',\n",
       " 'jews',\n",
       " 'BCpolitics',\n",
       " 'GenderEgalitarian',\n",
       " 'democraticsocialists',\n",
       " 'TodaysNews',\n",
       " 'CryptoAirdropsNew',\n",
       " 'Elon_musketeers',\n",
       " 'WeissSturm',\n",
       " 'Race_Realism',\n",
       " '8chan',\n",
       " 'Black_Lives_Matter',\n",
       " 'UKdocumentaries',\n",
       " 'IncelAbode']"
      ]
     },
     "execution_count": 7,
     "metadata": {},
     "output_type": "execute_result"
    }
   ],
   "source": [
    "same_user_base('altright')"
   ]
  },
  {
   "cell_type": "code",
   "execution_count": 42,
   "metadata": {},
   "outputs": [],
   "source": [
    "same = {}\n",
    "boards = ['hillaryclinton','SandersForPresident','politics','The_Donald','Conservative']"
   ]
  },
  {
   "cell_type": "code",
   "execution_count": 43,
   "metadata": {},
   "outputs": [],
   "source": [
    "for board in boards:\n",
    "    same[board] = same_user_base(board)"
   ]
  },
  {
   "cell_type": "code",
   "execution_count": 44,
   "metadata": {},
   "outputs": [
    {
     "name": "stdout",
     "output_type": "stream",
     "text": [
      "hillaryclinton\n",
      "['hillaryclinton', 'democrats', 'BlueMidterm2018', 'progressive', 'PoliticalDiscussion', 'Liberal', 'Impeach_Trump', 'EnoughTrumpSpam', 'Political_Revolution', 'the_meltdown']\n",
      "\n",
      "\n",
      "SandersForPresident\n",
      "['SandersForPresident', 'Political_Revolution', 'OurPresident', 'DNCleaks', 'WayOfTheBern', 'HillaryForPrison', 'progressive', 'PanamaPapers', 'hillaryclinton', 'WikiLeaks']\n",
      "\n",
      "\n",
      "politics\n",
      "['politics', 'the_meltdown', 'OurPresident', 'esist', 'RussiaLago', 'MarchAgainstTrump', 'Impeach_Trump', 'Political_Revolution', 'progressive', 'BlueMidterm2018']\n",
      "\n",
      "\n",
      "The_Donald\n",
      "['The_Donald', 'The_Congress', 'Mr_Trump', 'HillaryMeltdown', 'HillaryForPrison', 'AskThe_Donald', 'metacanada', 'uncensorednews', 'ShitPoliticsSays', 'sjwhate']\n",
      "\n",
      "\n",
      "Conservative\n",
      "['Conservative', 'Republican', 'ShitPoliticsSays', 'The_Congress', 'Liberal', 'HillaryMeltdown', 'progun', 'gunpolitics', 'Libertarian', 'sjwhate']\n",
      "\n",
      "\n"
     ]
    }
   ],
   "source": [
    "for board in boards:\n",
    "    print(board)\n",
    "    print(same[board])\n",
    "    print(\"\\n\")"
   ]
  },
  {
   "cell_type": "code",
   "execution_count": 45,
   "metadata": {},
   "outputs": [
    {
     "name": "stdout",
     "output_type": "stream",
     "text": [
      "SandersForPresident & politics & The\\_Donald & Conservative \\\\\n",
      "Political\\_Revolution & the\\_meltdown & The\\_Congress & Republican \\\\\n",
      "OurPresident & OurPresident & Mr\\_Trump & ShitPoliticsSays \\\\\n",
      "DNCleaks & esist & HillaryMeltdown & The\\_Congress \\\\\n",
      "WayOfTheBern & RussiaLago & HillaryForPrison & Liberal \\\\\n",
      "HillaryForPrison & MarchAgainstTrump & AskThe\\_Donald & HillaryMeltdown \\\\\n",
      "progressive & Impeach\\_Trump & metacanada & progun \\\\\n",
      "PanamaPapers & Political\\_Revolution & uncensorednews & gunpolitics \\\\\n",
      "hillaryclinton & progressive & ShitPoliticsSays & Libertarian \\\\\n",
      "WikiLeaks & BlueMidterm2018 & sjwhate & sjwhate \\\\\n"
     ]
    }
   ],
   "source": [
    "for i in range(10):\n",
    "    line = []\n",
    "    for key,subreddit in enumerate(['SandersForPresident','politics','The_Donald','Conservative']):\n",
    "        line.append(same[subreddit][i].replace('_','\\_'))\n",
    "        if key < 3:\n",
    "            line.append(\"&\")\n",
    "        else:\n",
    "            line.append(\"\\\\\\\\\")\n",
    "    print(\" \".join(line))"
   ]
  },
  {
   "cell_type": "code",
   "execution_count": null,
   "metadata": {},
   "outputs": [],
   "source": [
    "for board,boardTwo in [('politics','SandersForPresident'),('politics','hillaryclinton'),('hillaryclinton','SandersForPresident'),('The_Donald','Conservative')]:\n",
    "    print(board,boardTwo)\n",
    "    print(set(same[board]).intersection(set(same[boardTwo])))"
   ]
  },
  {
   "cell_type": "code",
   "execution_count": 49,
   "metadata": {
    "collapsed": true
   },
   "outputs": [
    {
     "name": "stdout",
     "output_type": "stream",
     "text": [
      "politics\n",
      "the_meltdown\n",
      "OurPresident\n",
      "esist\n",
      "RussiaLago\n",
      "MarchAgainstTrump\n",
      "Impeach_Trump\n",
      "Political_Revolution\n",
      "progressive\n",
      "BlueMidterm2018\n"
     ]
    }
   ],
   "source": [
    "same_user_base('politics')"
   ]
  },
  {
   "cell_type": "code",
   "execution_count": 50,
   "metadata": {
    "collapsed": true
   },
   "outputs": [
    {
     "name": "stdout",
     "output_type": "stream",
     "text": [
      "The_Donald\n",
      "The_Congress\n",
      "Mr_Trump\n",
      "tucker_carlson\n",
      "The_Farage\n",
      "Le_Pen\n",
      "The_Europe\n",
      "HillaryMeltdown\n",
      "Physical_Removal\n",
      "redacted\n"
     ]
    }
   ],
   "source": [
    "same_user_base('The_Donald')"
   ]
  },
  {
   "cell_type": "code",
   "execution_count": 51,
   "metadata": {
    "collapsed": true
   },
   "outputs": [
    {
     "name": "stdout",
     "output_type": "stream",
     "text": [
      "Conservative\n",
      "conservatives\n",
      "Republican\n",
      "askaconservative\n",
      "ShitRConservativeSays\n",
      "POTUSWatch\n",
      "ShitPoliticsSays\n",
      "TheNewRight\n",
      "prolife\n",
      "randpaul\n"
     ]
    }
   ],
   "source": [
    "same_user_base('Conservative')"
   ]
  },
  {
   "cell_type": "code",
   "execution_count": 52,
   "metadata": {
    "collapsed": true
   },
   "outputs": [
    {
     "name": "stdout",
     "output_type": "stream",
     "text": [
      "Republican\n",
      "conservatives\n"
     ]
    }
   ],
   "source": [
    "same_user_base('Republican')"
   ]
  },
  {
   "cell_type": "code",
   "execution_count": 53,
   "metadata": {
    "collapsed": true
   },
   "outputs": [
    {
     "name": "stdout",
     "output_type": "stream",
     "text": [
      "progressive\n",
      "Liberal\n"
     ]
    }
   ],
   "source": [
    "same_user_base('progressive')"
   ]
  },
  {
   "cell_type": "code",
   "execution_count": 54,
   "metadata": {
    "collapsed": true
   },
   "outputs": [
    {
     "name": "stdout",
     "output_type": "stream",
     "text": [
      "BlueMidterm2018\n",
      "Impeach_Trump\n",
      "democrats\n",
      "justicedemocrats\n"
     ]
    }
   ],
   "source": [
    "same_user_base('BlueMidterm2018')"
   ]
  },
  {
   "cell_type": "code",
   "execution_count": 55,
   "metadata": {
    "collapsed": true
   },
   "outputs": [
    {
     "name": "stdout",
     "output_type": "stream",
     "text": [
      "hillaryclinton\n",
      "EnoughHillHate\n",
      "enoughsandersspam\n",
      "Enough_Sanders_Spam\n",
      "democrats\n"
     ]
    }
   ],
   "source": [
    "same_user_base('hillaryclinton')"
   ]
  },
  {
   "cell_type": "code",
   "execution_count": 56,
   "metadata": {
    "collapsed": true
   },
   "outputs": [
    {
     "name": "stdout",
     "output_type": "stream",
     "text": [
      "democrats\n",
      "Liberal\n",
      "progressive\n",
      "uspolitics\n"
     ]
    }
   ],
   "source": [
    "same_user_base('democrats')"
   ]
  },
  {
   "cell_type": "code",
   "execution_count": 57,
   "metadata": {
    "collapsed": true
   },
   "outputs": [
    {
     "name": "stdout",
     "output_type": "stream",
     "text": [
      "Liberal\n",
      "progressive\n",
      "democrats\n"
     ]
    }
   ],
   "source": [
    "same_user_base('Liberal')"
   ]
  },
  {
   "cell_type": "code",
   "execution_count": 59,
   "metadata": {
    "collapsed": true
   },
   "outputs": [
    {
     "name": "stdout",
     "output_type": "stream",
     "text": [
      "neutralnews\n",
      "NeutralPolitics\n"
     ]
    }
   ],
   "source": [
    "same_user_base('neutralnews')"
   ]
  },
  {
   "cell_type": "code",
   "execution_count": 60,
   "metadata": {
    "collapsed": true
   },
   "outputs": [
    {
     "name": "stdout",
     "output_type": "stream",
     "text": [
      "NeutralPolitics\n",
      "neutralnews\n",
      "moderatepolitics\n"
     ]
    }
   ],
   "source": [
    "same_user_base('NeutralPolitics')"
   ]
  },
  {
   "cell_type": "code",
   "execution_count": 62,
   "metadata": {
    "collapsed": true
   },
   "outputs": [
    {
     "name": "stdout",
     "output_type": "stream",
     "text": [
      "randpaul\n"
     ]
    }
   ],
   "source": [
    "same_user_base('randpaul')"
   ]
  },
  {
   "cell_type": "code",
   "execution_count": 65,
   "metadata": {
    "collapsed": true
   },
   "outputs": [
    {
     "name": "stdout",
     "output_type": "stream",
     "text": [
      "philosophy\n",
      "askphilosophy\n",
      "badphilosophy\n",
      "CriticalTheory\n"
     ]
    }
   ],
   "source": [
    "same_user_base('philosophy')"
   ]
  },
  {
   "cell_type": "code",
   "execution_count": 66,
   "metadata": {
    "collapsed": true
   },
   "outputs": [
    {
     "name": "stdout",
     "output_type": "stream",
     "text": [
      "ThreadGames\n",
      "nocontext\n",
      "LifeProTips\n",
      "bestof\n",
      "CrazyIdeas\n",
      "YouShouldKnow\n",
      "nottheonion\n",
      "jesuschristreddit\n",
      "UNBGBBIIVCHIDCTIICBG\n",
      "coolguides\n"
     ]
    }
   ],
   "source": [
    "same_user_base('AskReddit')"
   ]
  },
  {
   "cell_type": "code",
   "execution_count": 67,
   "metadata": {
    "collapsed": true
   },
   "outputs": [
    {
     "name": "stdout",
     "output_type": "stream",
     "text": [
      "LSD\n",
      "1P_LSD\n",
      "Psychedelics\n",
      "DMT\n",
      "microdosing\n",
      "drugscirclejerk\n",
      "ketamine\n",
      "RationalPsychonaut\n",
      "drugsarebeautiful\n",
      "shrooms\n"
     ]
    }
   ],
   "source": [
    "same_user_base('LSD')"
   ]
  },
  {
   "cell_type": "code",
   "execution_count": 68,
   "metadata": {
    "collapsed": true
   },
   "outputs": [
    {
     "name": "stdout",
     "output_type": "stream",
     "text": [
      "ukpolitics\n",
      "badunitedkingdom\n",
      "LabourUK\n",
      "unitedkingdom\n",
      "brexit\n",
      "BritishSuccess\n",
      "Wales\n",
      "Scotland\n",
      "BritishTV\n",
      "ukbike\n"
     ]
    }
   ],
   "source": [
    "same_user_base('ukpolitics')"
   ]
  },
  {
   "cell_type": "code",
   "execution_count": 77,
   "metadata": {
    "collapsed": true
   },
   "outputs": [
    {
     "name": "stdout",
     "output_type": "stream",
     "text": [
      "worldnews\n",
      "u_washingtonpost\n",
      "TrumpCriticizesTrump\n",
      "OurPresident\n",
      "blog\n",
      "esist\n",
      "bestof\n",
      "UpliftingNews\n",
      "MarchAgainstTrump\n",
      "announcements\n"
     ]
    }
   ],
   "source": [
    "same_user_base('worldnews')"
   ]
  },
  {
   "cell_type": "code",
   "execution_count": 78,
   "metadata": {
    "collapsed": true
   },
   "outputs": [
    {
     "name": "stdout",
     "output_type": "stream",
     "text": [
      "altright\n",
      "europeannationalism\n",
      "WhiteRights\n",
      "The_Europe\n",
      "DebateAltRight\n"
     ]
    }
   ],
   "source": [
    "same_user_base('altright')"
   ]
  },
  {
   "cell_type": "code",
   "execution_count": 6,
   "metadata": {
    "collapsed": true
   },
   "outputs": [
    {
     "name": "stdout",
     "output_type": "stream",
     "text": [
      "sorted\n",
      "enoughpetersonhate\n",
      "JordanPeterson\n",
      "DeepJordanPeterson\n",
      "JBPforWomen\n",
      "Maps_of_Meaning\n",
      "ArrestedCanadaBillC16\n",
      "ben_shapiro\n",
      "Jordan_Peterson_Memes\n",
      "alt_source_bot_log\n"
     ]
    }
   ],
   "source": [
    "same_user_base('JordanPeterson')"
   ]
  },
  {
   "cell_type": "code",
   "execution_count": 7,
   "metadata": {
    "collapsed": true
   },
   "outputs": [
    {
     "name": "stdout",
     "output_type": "stream",
     "text": [
      "ben_shapiro\n",
      "HHKB\n",
      "LinearAlgebra\n",
      "pangolinappreciation\n",
      "indomusic\n",
      "bonds\n",
      "Foxtrot\n",
      "NoTop\n",
      "ItalianFood\n",
      "GROOLGW\n"
     ]
    }
   ],
   "source": [
    "same_user_base('ben_shapiro')"
   ]
  },
  {
   "cell_type": "code",
   "execution_count": 8,
   "metadata": {
    "collapsed": true
   },
   "outputs": [
    {
     "name": "stdout",
     "output_type": "stream",
     "text": [
      "listentothis\n",
      "CARMUSIC\n",
      "Indie_Promo\n",
      "AmericanPrimitivism\n",
      "yourap\n",
      "electronicmagic\n",
      "MelancholyMusic\n",
      "Catchysongs\n",
      "deepcuts\n",
      "LiquidandChillstep\n"
     ]
    }
   ],
   "source": [
    "same_user_base('listentothis')"
   ]
  },
  {
   "cell_type": "code",
   "execution_count": 10,
   "metadata": {
    "collapsed": true
   },
   "outputs": [
    {
     "name": "stdout",
     "output_type": "stream",
     "text": [
      "ableton\n",
      "AbletonRacks\n",
      "abletonpush\n",
      "abletonlive\n",
      "reaktor\n",
      "serum\n",
      "Novation\n",
      "Rekordbox\n",
      "edmpacks\n",
      "madewithableton\n"
     ]
    }
   ],
   "source": [
    "same_user_base('ableton')"
   ]
  },
  {
   "cell_type": "code",
   "execution_count": 11,
   "metadata": {
    "collapsed": true
   },
   "outputs": [
    {
     "name": "stdout",
     "output_type": "stream",
     "text": [
      "elonmusk\n",
      "Elon_Musk_is_God\n",
      "Neuralink\n",
      "Elon_musketeers\n",
      "mashable\n",
      "GGCrypto\n",
      "MagaFirstNews\n",
      "WorldDailyTops\n",
      "russiawarinukraine\n",
      "infrasociology\n"
     ]
    }
   ],
   "source": [
    "same_user_base('elonmusk')"
   ]
  },
  {
   "cell_type": "code",
   "execution_count": 13,
   "metadata": {
    "collapsed": true
   },
   "outputs": [
    {
     "name": "stdout",
     "output_type": "stream",
     "text": [
      "Egypt\n",
      "drugs_egypt\n",
      "WorldDailyTops\n",
      "GGCrypto\n",
      "CSSdisasters\n",
      "Gaza\n",
      "Senegal\n",
      "MAGAWars\n",
      "mei_irl\n",
      "sports_undelete\n"
     ]
    }
   ],
   "source": [
    "same_user_base('Egypt')"
   ]
  },
  {
   "cell_type": "code",
   "execution_count": 14,
   "metadata": {
    "collapsed": true
   },
   "outputs": [
    {
     "name": "stdout",
     "output_type": "stream",
     "text": [
      "LSD\n",
      "TripCaves\n",
      "TripMusic\n",
      "WorldDailyTops\n",
      "PsychoactiveBillUK\n",
      "CarFans\n",
      "LSDTripLifeHacks\n",
      "underpopular\n",
      "TheDonaldNews\n",
      "RemovedByThe_Donald\n"
     ]
    }
   ],
   "source": [
    "same_user_base('LSD')"
   ]
  },
  {
   "cell_type": "code",
   "execution_count": 15,
   "metadata": {
    "collapsed": true
   },
   "outputs": [
    {
     "name": "stdout",
     "output_type": "stream",
     "text": [
      "MDMA\n",
      "olling\n",
      "DilatedPupils\n",
      "Ecstasy\n",
      "CSSdisasters\n",
      "PsychoactiveBillUK\n",
      "molly\n",
      "maybemaybeoriginal\n",
      "amphetamine\n",
      "2cb\n"
     ]
    }
   ],
   "source": [
    "same_user_base('MDMA')"
   ]
  },
  {
   "cell_type": "code",
   "execution_count": 16,
   "metadata": {
    "collapsed": true
   },
   "outputs": [
    {
     "name": "stdout",
     "output_type": "stream",
     "text": [
      "FortniteTMZ\n",
      "u_CarlosTheCar\n",
      "FortNiteBR\n",
      "FortniteBRMeta\n",
      "FortNiteBR2Deep\n",
      "ShrineOfHeadHunter\n",
      "FortniteFashion\n",
      "PraiseTheCube\n",
      "shrineoframirez\n",
      "FortniteAfterDark\n"
     ]
    }
   ],
   "source": [
    "same_user_base('FortNiteBR')"
   ]
  },
  {
   "cell_type": "code",
   "execution_count": 18,
   "metadata": {
    "collapsed": true
   },
   "outputs": [
    {
     "name": "stdout",
     "output_type": "stream",
     "text": [
      "Poetry\n",
      "alt_poetry\n",
      "PoetryReadings\n",
      "litvideos\n",
      "RemovedByThe_Donald\n",
      "CSSdisasters\n",
      "vignettes\n",
      "veins\n",
      "FreeEuropeNews\n",
      "diogenesclub\n"
     ]
    }
   ],
   "source": [
    "same_user_base('Poetry')"
   ]
  },
  {
   "cell_type": "code",
   "execution_count": 19,
   "metadata": {
    "collapsed": true
   },
   "outputs": [
    {
     "name": "stdout",
     "output_type": "stream",
     "text": [
      "flatearth\n",
      "FlatEarthAndThought\n",
      "FlatEarthTheory\n",
      "DebateFlatEarth\n",
      "Flatearther\n",
      "CarFans\n",
      "ApolloMoonLandingHoax\n",
      "maybemaybeoriginal\n",
      "sports_undelete\n",
      "Masub\n"
     ]
    }
   ],
   "source": [
    "same_user_base('flatearth')"
   ]
  },
  {
   "cell_type": "code",
   "execution_count": 20,
   "metadata": {
    "collapsed": true
   },
   "outputs": [
    {
     "name": "stdout",
     "output_type": "stream",
     "text": [
      "ConspiracySongs\n",
      "conspiracy\n",
      "conspiracyhub\n",
      "greenlight2\n",
      "ConspiracyV\n",
      "LasVegasFalseFlag\n",
      "ConspiracyNews\n",
      "PodestaGate\n",
      "ConspiracyDailyUpdate\n",
      "TheSphinxClub\n"
     ]
    }
   ],
   "source": [
    "same_user_base('conspiracy')"
   ]
  },
  {
   "cell_type": "code",
   "execution_count": 21,
   "metadata": {
    "collapsed": true
   },
   "outputs": [
    {
     "name": "stdout",
     "output_type": "stream",
     "text": [
      "DMT\n",
      "dmtguide\n",
      "4acodmt\n",
      "maybemaybeoriginal\n",
      "CarFans\n",
      "pinealgland\n",
      "timelapsegifs\n",
      "Masub\n",
      "Linky_links\n",
      "RemovedByThe_Donald\n"
     ]
    }
   ],
   "source": [
    "same_user_base('DMT')"
   ]
  },
  {
   "cell_type": "code",
   "execution_count": 22,
   "metadata": {
    "collapsed": true
   },
   "outputs": [
    {
     "name": "stdout",
     "output_type": "stream",
     "text": [
      "leaves\n",
      "sports_undelete\n",
      "RXSources\n",
      "CSSdisasters\n",
      "MagaFirstNews\n",
      "mei_irl\n",
      "rationalspirituality\n",
      "ModelReasonMagazine\n",
      "nato\n",
      "DarkerThanBlack\n"
     ]
    }
   ],
   "source": [
    "same_user_base('leaves')"
   ]
  },
  {
   "cell_type": "code",
   "execution_count": null,
   "metadata": {},
   "outputs": [],
   "source": []
  }
 ],
 "metadata": {
  "kernelspec": {
   "display_name": "Python 3",
   "language": "python",
   "name": "python3"
  },
  "language_info": {
   "codemirror_mode": {
    "name": "ipython",
    "version": 3
   },
   "file_extension": ".py",
   "mimetype": "text/x-python",
   "name": "python",
   "nbconvert_exporter": "python",
   "pygments_lexer": "ipython3",
   "version": "3.7.1"
  }
 },
 "nbformat": 4,
 "nbformat_minor": 2
}
