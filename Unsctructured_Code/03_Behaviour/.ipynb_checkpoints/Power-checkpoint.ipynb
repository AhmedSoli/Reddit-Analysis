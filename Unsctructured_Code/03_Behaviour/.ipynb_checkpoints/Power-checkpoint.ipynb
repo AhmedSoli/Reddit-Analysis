{
 "cells": [
  {
   "cell_type": "code",
   "execution_count": 1,
   "metadata": {},
   "outputs": [],
   "source": [
    "import pickle \n",
    "import gzip\n",
    "import plotly.plotly as py\n",
    "import plotly.graph_objs as go\n",
    "import plotly.io as pio\n",
    "\n",
    "\n",
    "comm_percentages_required = pickle.load(gzip.open(\"../Results/com_perc_req.pickle.gz\",\"rb\"))\n",
    "sub_percentages_required = pickle.load(gzip.open(\"../Results/sub_perc_req.pickle.gz\",\"rb\"))"
   ]
  },
  {
   "cell_type": "code",
   "execution_count": 9,
   "metadata": {},
   "outputs": [],
   "source": [
    "def plot(vals,dict_key,title,x_label,y_label):\n",
    "    subreddits = [\n",
    "        'SandersForPresident','politics',\n",
    "        'Conservative','The_Donald'\n",
    "    ]\n",
    "    labels = ['Sanders','politics','Conservative','Donald']\n",
    "    latest= {}\n",
    "    for subreddit in subreddits:\n",
    "        latest[subreddit] = 0\n",
    "    data = []\n",
    "    for percentage in [80,95,99]:\n",
    "    \n",
    "        Y = []\n",
    "\n",
    "        for subreddit in subreddits:\n",
    "            Y.append(vals[subreddit][dict_key][percentage] - latest[subreddit])\n",
    "            latest[subreddit] = vals[subreddit][dict_key][percentage]\n",
    "\n",
    "        trace = go.Bar(\n",
    "            x=labels,\n",
    "            y=Y,\n",
    "            name=\"{}%\".format(percentage),\n",
    "        )\n",
    "\n",
    "        data.append(trace)\n",
    "    \n",
    "    title =  {\n",
    "        'text':'<b>' + title + '</b>',\n",
    "        'font': {\n",
    "            'color': 'black',\n",
    "            'size': 30,\n",
    "            \n",
    "        }\n",
    "    }\n",
    "        \n",
    "    layout = go.Layout(\n",
    "        barmode='stack',\n",
    "        title = title,\n",
    "        xaxis = dict(\n",
    "                tickwidth=4,\n",
    "                tickcolor='#000',\n",
    "                tickfont=dict(\n",
    "                    size=28,\n",
    "                    color='black'\n",
    "                ),\n",
    "            ),\n",
    "        yaxis = dict(\n",
    "            title = '<b>' + y_label + '</b>' ,\n",
    "            titlefont = dict(\n",
    "                family='Courier New, monospace',\n",
    "                size=25,\n",
    "                color='#000000',\n",
    "            ),\n",
    "            tickfont=dict(\n",
    "                size=28,\n",
    "                color='black'\n",
    "            ),\n",
    "        ),\n",
    "        legend = {\n",
    "            'font': {\n",
    "                'size': 25\n",
    "            }\n",
    "        },\n",
    "    )\n",
    "\n",
    "    fig = go.Figure(data=data, layout=layout)\n",
    "    display(py.iplot(fig, filename='stacked-bar'))"
   ]
  },
  {
   "cell_type": "code",
   "execution_count": 10,
   "metadata": {},
   "outputs": [
    {
     "data": {
      "text/html": [
       "<iframe id=\"igraph\" scrolling=\"no\" style=\"border:none;\" seamless=\"seamless\" src=\"https://plot.ly/~soli__/38.embed\" height=\"525px\" width=\"100%\"></iframe>"
      ],
      "text/plain": [
       "<plotly.tools.PlotlyDisplay object>"
      ]
     },
     "metadata": {},
     "output_type": "display_data"
    }
   ],
   "source": [
    "plot(sub_percentages_required,'%_of_users_required_for_%_of_votes_received',\\\n",
    "    '% of Users required for % of votes received','Subreddit','% of users required')"
   ]
  },
  {
   "cell_type": "code",
   "execution_count": 12,
   "metadata": {},
   "outputs": [
    {
     "data": {
      "text/html": [
       "<iframe id=\"igraph\" scrolling=\"no\" style=\"border:none;\" seamless=\"seamless\" src=\"https://plot.ly/~soli__/38.embed\" height=\"525px\" width=\"100%\"></iframe>"
      ],
      "text/plain": [
       "<plotly.tools.PlotlyDisplay object>"
      ]
     },
     "metadata": {},
     "output_type": "display_data"
    }
   ],
   "source": [
    "plot(sub_percentages_required,'%_of_posts_required_for_%_of_votes_received',\\\n",
    "    '% of Submissions required for % of votes received','Subreddit','% of posts required')"
   ]
  },
  {
   "cell_type": "code",
   "execution_count": 13,
   "metadata": {},
   "outputs": [
    {
     "data": {
      "text/html": [
       "<iframe id=\"igraph\" scrolling=\"no\" style=\"border:none;\" seamless=\"seamless\" src=\"https://plot.ly/~soli__/38.embed\" height=\"525px\" width=\"100%\"></iframe>"
      ],
      "text/plain": [
       "<plotly.tools.PlotlyDisplay object>"
      ]
     },
     "metadata": {},
     "output_type": "display_data"
    }
   ],
   "source": [
    "plot(sub_percentages_required,'%_of_posts_required_for_%_of_comments_received',\\\n",
    "    '% of Submissions required for % of comments received','Subreddit','% of posts required')"
   ]
  },
  {
   "cell_type": "code",
   "execution_count": 6,
   "metadata": {},
   "outputs": [
    {
     "data": {
      "text/html": [
       "<iframe id=\"igraph\" scrolling=\"no\" style=\"border:none;\" seamless=\"seamless\" src=\"https://plot.ly/~soli__/38.embed\" height=\"525px\" width=\"100%\"></iframe>"
      ],
      "text/plain": [
       "<plotly.tools.PlotlyDisplay object>"
      ]
     },
     "metadata": {},
     "output_type": "display_data"
    }
   ],
   "source": [
    "plot(sub_percentages_required,'%_of_users_required_for_%_of_comments_received',\\\n",
    "    '% of Users required for % of comments received','Subreddit','% of posts required')"
   ]
  },
  {
   "cell_type": "code",
   "execution_count": null,
   "metadata": {},
   "outputs": [],
   "source": []
  },
  {
   "cell_type": "code",
   "execution_count": 12,
   "metadata": {},
   "outputs": [
    {
     "data": {
      "text/plain": [
       "dict_keys(['politics', 'NeutralPolitics', 'The_Donald', 'SandersForPresident', 'democrats', 'Republican', 'Conservative', 'progressive'])"
      ]
     },
     "execution_count": 12,
     "metadata": {},
     "output_type": "execute_result"
    }
   ],
   "source": [
    " sub_percentages_required.keys()"
   ]
  }
 ],
 "metadata": {
  "kernelspec": {
   "display_name": "Python 3",
   "language": "python",
   "name": "python3"
  },
  "language_info": {
   "codemirror_mode": {
    "name": "ipython",
    "version": 3
   },
   "file_extension": ".py",
   "mimetype": "text/x-python",
   "name": "python",
   "nbconvert_exporter": "python",
   "pygments_lexer": "ipython3",
   "version": "3.7.1"
  }
 },
 "nbformat": 4,
 "nbformat_minor": 2
}
