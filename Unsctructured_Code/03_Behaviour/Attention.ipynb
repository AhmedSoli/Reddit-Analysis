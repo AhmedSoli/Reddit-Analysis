{
 "cells": [
  {
   "cell_type": "code",
   "execution_count": 4,
   "metadata": {},
   "outputs": [],
   "source": [
    "import pickle\n",
    "import gzip \n",
    "import plotly.plotly as py\n",
    "import plotly.graph_objs as go\n",
    "import plotly\n",
    "import plotly.io as pio\n",
    "import numpy as np\n",
    "\n",
    "comments_analysis = pickle.load(gzip.open(\"../Results/comments_analysis.pickle.gz\",\"rb\"))\n",
    "submissions_analysis = pickle.load(gzip.open(\"../Results/submissions_analysis.pickle.gz\",\"rb\"))"
   ]
  },
  {
   "cell_type": "code",
   "execution_count": 58,
   "metadata": {},
   "outputs": [
    {
     "name": "stdout",
     "output_type": "stream",
     "text": [
      "Subreddit & median & mean & std \\\\\n",
      "politics & 4.0 & 2544.31 & 33872.34 \\\\\n",
      "SandersForPresident & 10.0 & 596.18 & 7591.17 \\\\\n",
      "The_Donald & 25.0 & 3332.15 & 39356.37 \\\\\n",
      "Conservative & 2.0 & 351.75 & 9739.48 \\\\\n"
     ]
    }
   ],
   "source": [
    "print(\"Subreddit\",\"&\",\"median\",\"&\",\"mean\",\"&\",\"std\", \"\\\\\\\\\")\n",
    "for subreddit in ['politics','SandersForPresident','The_Donald','Conservative']:\n",
    "    print(subreddit,\"&\",\n",
    "          submissions_analysis[subreddit]['votes_received']['per_user']['median'],\"&\",\n",
    "          submissions_analysis[subreddit]['votes_received']['per_user']['mean'],\"&\",\n",
    "          submissions_analysis[subreddit]['votes_received']['per_user']['std'],\"\\\\\\\\\"\n",
    "         )"
   ]
  },
  {
   "cell_type": "code",
   "execution_count": 59,
   "metadata": {},
   "outputs": [
    {
     "name": "stdout",
     "output_type": "stream",
     "text": [
      "politics & 289141 0.26 & 5522276 0.11\n",
      "The_Donald & 786541 0.22 & 3586808 0.12\n",
      "SandersForPresident & 40418 0.2 & 480172 0.13\n",
      "Conservative & 20327 0.15 & 237281 0.15\n"
     ]
    }
   ],
   "source": [
    "for subreddit in ['politics','The_Donald','SandersForPresident','Conservative']:\n",
    "    \n",
    "    print(subreddit,\"&\",\n",
    "          submissions_analysis[subreddit]['counts']['deleted_posts'],\n",
    "          round(submissions_analysis[subreddit]['counts']['deleted_posts'] /\n",
    "          (submissions_analysis[subreddit]['counts']['deleted_posts'] + submissions_analysis[subreddit]['counts']['posts']),2),\n",
    "          \"&\",\n",
    "          comments_analysis[subreddit]['counts']['deleted_comments'],\n",
    "          round(comments_analysis[subreddit]['counts']['deleted_comments'] /\n",
    "          (comments_analysis[subreddit]['counts']['deleted_comments'] + submissions_analysis[subreddit]['counts']['comments']),2)\n",
    "         )"
   ]
  },
  {
   "cell_type": "code",
   "execution_count": 7,
   "metadata": {},
   "outputs": [],
   "source": [
    "def plot_sample(vals,dict_key,title,x_label,y_label,sample_size=100000):\n",
    "    \n",
    "    data = []\n",
    "    \n",
    "    colors = {\n",
    "        'The_Donald': '(139,0,0)',\n",
    "        'Conservative': '(255,0,0)',\n",
    "        'politics': '(0,191,255)',\n",
    "        'SandersForPresident': '(0,0,255)',\n",
    "    }\n",
    "    \n",
    "    \n",
    "    subreddits = list(colors.keys())\n",
    "    for subreddit in subreddits:\n",
    "        if len(vals[subreddit]['values'][dict_key]) < sample_size:\n",
    "            subreddits.remove(subreddit)\n",
    "    \n",
    "    \n",
    "    for subreddit in subreddits:\n",
    "       \n",
    "        X = []\n",
    "        Y = []\n",
    "        \n",
    "        sample = np.random.choice(vals[subreddit]['values'][dict_key], sample_size)\n",
    "        for key, vote in enumerate(sorted(sample,reverse=True)):\n",
    "            X.append(np.log(key+1))\n",
    "            if vote <= 0:\n",
    "                Y.append(0)\n",
    "            else:\n",
    "                Y.append(np.log(vote))\n",
    "\n",
    "        trace = go.Scatter(\n",
    "            x = X,\n",
    "            y = Y,\n",
    "            mode = 'lines',\n",
    "            name = subreddit,\n",
    "            line = {\n",
    "                'color' : ('rgb' + colors[subreddit]),\n",
    "            }\n",
    "        )\n",
    "\n",
    "        data.append(trace)\n",
    "        \n",
    "    layout = go.Layout(\n",
    "            xaxis = dict(\n",
    "                title = x_label,\n",
    "                titlefont=dict(\n",
    "                    family='Courier New, monospace',\n",
    "                    size=22,\n",
    "                    color='black'\n",
    "                )\n",
    "            ),\n",
    "            yaxis = dict(\n",
    "                title = y_label,\n",
    "                titlefont = dict(\n",
    "                    family='Courier New, monospace',\n",
    "                    size=22,\n",
    "                    color='black'\n",
    "                )\n",
    "            )\n",
    "        )\n",
    "    \n",
    "    fig = go.Figure(data=data, layout=layout)\n",
    "    \n",
    "    display(py.iplot(fig, filename='line-mode'))"
   ]
  },
  {
   "cell_type": "code",
   "execution_count": 8,
   "metadata": {},
   "outputs": [
    {
     "name": "stdout",
     "output_type": "stream",
     "text": [
      "High five! You successfully sent some data to your account on plotly. View your plot in your browser at https://plot.ly/~soli__/0 or inside your plot.ly account where it is named 'line-mode'\n"
     ]
    },
    {
     "data": {
      "text/html": [
       "<iframe id=\"igraph\" scrolling=\"no\" style=\"border:none;\" seamless=\"seamless\" src=\"https://plot.ly/~soli__/0.embed\" height=\"525px\" width=\"100%\"></iframe>"
      ],
      "text/plain": [
       "<plotly.tools.PlotlyDisplay object>"
      ]
     },
     "metadata": {},
     "output_type": "display_data"
    }
   ],
   "source": [
    "plot_sample(submissions_analysis,'votes','Votes Received Per Submission','log(rank)','log(# votes)')"
   ]
  },
  {
   "cell_type": "code",
   "execution_count": 9,
   "metadata": {},
   "outputs": [
    {
     "name": "stdout",
     "output_type": "stream",
     "text": [
      "High five! You successfully sent some data to your account on plotly. View your plot in your browser at https://plot.ly/~soli__/0 or inside your plot.ly account where it is named 'line-mode'\n"
     ]
    },
    {
     "data": {
      "text/html": [
       "<iframe id=\"igraph\" scrolling=\"no\" style=\"border:none;\" seamless=\"seamless\" src=\"https://plot.ly/~soli__/0.embed\" height=\"525px\" width=\"100%\"></iframe>"
      ],
      "text/plain": [
       "<plotly.tools.PlotlyDisplay object>"
      ]
     },
     "metadata": {},
     "output_type": "display_data"
    }
   ],
   "source": [
    "plot_sample(submissions_analysis,'comments','Comments Received Per Submission','log(rank)','log(# comments)')"
   ]
  },
  {
   "cell_type": "code",
   "execution_count": 14,
   "metadata": {},
   "outputs": [
    {
     "name": "stdout",
     "output_type": "stream",
     "text": [
      "High five! You successfully sent some data to your account on plotly. View your plot in your browser at https://plot.ly/~soli__/0 or inside your plot.ly account where it is named 'line-mode'\n"
     ]
    },
    {
     "data": {
      "text/html": [
       "<iframe id=\"igraph\" scrolling=\"no\" style=\"border:none;\" seamless=\"seamless\" src=\"https://plot.ly/~soli__/0.embed\" height=\"525px\" width=\"100%\"></iframe>"
      ],
      "text/plain": [
       "<plotly.tools.PlotlyDisplay object>"
      ]
     },
     "metadata": {},
     "output_type": "display_data"
    }
   ],
   "source": [
    "plot_sample(submissions_analysis,'sum_votes','Votes Received Per User (Submissions)','log(rank)','log(# votes)',sample_size=15000)"
   ]
  },
  {
   "cell_type": "code",
   "execution_count": 15,
   "metadata": {},
   "outputs": [
    {
     "name": "stdout",
     "output_type": "stream",
     "text": [
      "High five! You successfully sent some data to your account on plotly. View your plot in your browser at https://plot.ly/~soli__/0 or inside your plot.ly account where it is named 'line-mode'\n"
     ]
    },
    {
     "data": {
      "text/html": [
       "<iframe id=\"igraph\" scrolling=\"no\" style=\"border:none;\" seamless=\"seamless\" src=\"https://plot.ly/~soli__/0.embed\" height=\"525px\" width=\"100%\"></iframe>"
      ],
      "text/plain": [
       "<plotly.tools.PlotlyDisplay object>"
      ]
     },
     "metadata": {},
     "output_type": "display_data"
    }
   ],
   "source": [
    "plot_sample(submissions_analysis,'sum_comments','Comments Received Per User (Submissions)','log(rank)','log(# comments)',sample_size=15000)"
   ]
  },
  {
   "cell_type": "code",
   "execution_count": 19,
   "metadata": {},
   "outputs": [
    {
     "name": "stdout",
     "output_type": "stream",
     "text": [
      "High five! You successfully sent some data to your account on plotly. View your plot in your browser at https://plot.ly/~soli__/0 or inside your plot.ly account where it is named 'line-mode'\n"
     ]
    },
    {
     "data": {
      "text/html": [
       "<iframe id=\"igraph\" scrolling=\"no\" style=\"border:none;\" seamless=\"seamless\" src=\"https://plot.ly/~soli__/0.embed\" height=\"525px\" width=\"100%\"></iframe>"
      ],
      "text/plain": [
       "<plotly.tools.PlotlyDisplay object>"
      ]
     },
     "metadata": {},
     "output_type": "display_data"
    }
   ],
   "source": [
    "plot_sample(comments_analysis,'sum_votes','Votes Received Per User (Comments)','log(rank)','log(# votes)',sample_size=50000)"
   ]
  },
  {
   "cell_type": "code",
   "execution_count": 17,
   "metadata": {},
   "outputs": [
    {
     "name": "stdout",
     "output_type": "stream",
     "text": [
      "High five! You successfully sent some data to your account on plotly. View your plot in your browser at https://plot.ly/~soli__/0 or inside your plot.ly account where it is named 'line-mode'\n"
     ]
    },
    {
     "data": {
      "text/html": [
       "<iframe id=\"igraph\" scrolling=\"no\" style=\"border:none;\" seamless=\"seamless\" src=\"https://plot.ly/~soli__/0.embed\" height=\"525px\" width=\"100%\"></iframe>"
      ],
      "text/plain": [
       "<plotly.tools.PlotlyDisplay object>"
      ]
     },
     "metadata": {},
     "output_type": "display_data"
    }
   ],
   "source": [
    "plot_sample(comments_analysis,'votes','Votes Received Per Comments','log(rank)','log(# votes)')"
   ]
  }
 ],
 "metadata": {
  "kernelspec": {
   "display_name": "Python 3",
   "language": "python",
   "name": "python3"
  },
  "language_info": {
   "codemirror_mode": {
    "name": "ipython",
    "version": 3
   },
   "file_extension": ".py",
   "mimetype": "text/x-python",
   "name": "python",
   "nbconvert_exporter": "python",
   "pygments_lexer": "ipython3",
   "version": "3.7.1"
  }
 },
 "nbformat": 4,
 "nbformat_minor": 2
}
