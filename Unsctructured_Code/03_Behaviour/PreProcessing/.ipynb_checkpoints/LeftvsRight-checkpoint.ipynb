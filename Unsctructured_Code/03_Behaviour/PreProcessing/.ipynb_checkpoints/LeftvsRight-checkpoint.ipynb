{
 "cells": [
  {
   "cell_type": "code",
   "execution_count": 1,
   "metadata": {},
   "outputs": [],
   "source": [
    "import pickle\n",
    "import gzip\n",
    "import numpy as np"
   ]
  },
  {
   "cell_type": "code",
   "execution_count": 2,
   "metadata": {},
   "outputs": [],
   "source": [
    "comments = pickle.load(gzip.open(\"../../Results/comments.pickle.gz\",\"rb\"))\n",
    "commentators = pickle.load(gzip.open(\"../../Results/commentators.pickle.gz\",\"rb\"))"
   ]
  },
  {
   "cell_type": "code",
   "execution_count": 3,
   "metadata": {},
   "outputs": [],
   "source": [
    "submissions = pickle.load(gzip.open(\"../../Results/submissions.pickle.gz\",\"rb\"))\n",
    "submissioners = pickle.load(gzip.open(\"../../Results/submissioners.pickle.gz\",\"rb\"))"
   ]
  },
  {
   "cell_type": "code",
   "execution_count": 4,
   "metadata": {},
   "outputs": [],
   "source": [
    "members = pickle.load(gzip.open(\"../../Results/members.pickle.gz\",\"rb\"))"
   ]
  },
  {
   "cell_type": "code",
   "execution_count": 7,
   "metadata": {},
   "outputs": [],
   "source": [
    "pol_san = members['politics']['users']|members['SandersForPresident']['users']\n",
    "don_con = members['The_Donald']['users']|members['Conservative']['users']\n",
    "users = {}\n",
    "users['left'] = pol_san - don_con\n",
    "users['right'] = don_con - pol_san"
   ]
  },
  {
   "cell_type": "code",
   "execution_count": 19,
   "metadata": {},
   "outputs": [
    {
     "name": "stdout",
     "output_type": "stream",
     "text": [
      "left\n",
      "right\n"
     ]
    }
   ],
   "source": [
    "num_posts_before = {}\n",
    "focus = {}\n",
    "exclusive = {}\n",
    "\n",
    "subreddits = {\n",
    "    'left': ('politics','SandersForPresident'),\n",
    "    'right': ('The_Donald','Conservative')\n",
    "}\n",
    "\n",
    "for pol_orientation in subreddits:\n",
    "    print(pol_orientation)\n",
    "    \n",
    "    num_posts_before[pol_orientation] = {\n",
    "        'all': [],\n",
    "        'active': [],\n",
    "        'extremely_active': [],\n",
    "        'mega_active': []\n",
    "    }\n",
    "    \n",
    "    focus[pol_orientation] = {\n",
    "        'all': [],\n",
    "        'active': [],\n",
    "        'extremely_active': [],\n",
    "        'mega_active': []\n",
    "    }\n",
    "    \n",
    "    exclusive[pol_orientation] = {}\n",
    "    \n",
    "    for user in users[pol_orientation]:\n",
    "        \n",
    "        timestamps_in_source = []\n",
    "        timestamps_overall = commentators.get(user,{'timestamps':[]})['timestamps'] + \\\n",
    "                submissioners.get(user,{'timestamps':[]})['timestamps']\n",
    "        \n",
    "        for subreddit in subreddits[pol_orientation]:\n",
    "            if user in comments[subreddit]['commentators'] and user in submissions[subreddit]['submissioners']:\n",
    "                timestamps_in_source.extend(comments[subreddit]['comments'][user]['timestamps'])\n",
    "                timestamps_in_source.extend(submissions[subreddit]['submissions'][user]['timestamps'])\n",
    "            elif user in comments[subreddit]['commentators']:\n",
    "                timestamps_in_source.extend(comments[subreddit]['comments'][user]['timestamps'])\n",
    "            elif user in submissions[subreddit]['submissioners']:\n",
    "                timestamps_in_source.extend(submissions[subreddit]['submissions'][user]['timestamps'])\n",
    "                \n",
    "        first_post_in_source = min(timestamps_in_source)\n",
    "        num_posts_in_source = len(timestamps_in_source)\n",
    "        num_posts_overall = len(timestamps_overall)\n",
    "        \n",
    "        user_focus = num_posts_in_source / float(num_posts_overall)\n",
    "        \n",
    "        timestamps_overall.sort()\n",
    "        user_num_posts_before = timestamps_overall.index(first_post_in_source)\n",
    "        \n",
    "       \n",
    "        num_posts_before[pol_orientation]['all'].append(user_num_posts_before)\n",
    "        focus[pol_orientation]['all'].append(user_focus)\n",
    "\n",
    "\n",
    "        if num_posts_in_source > 9:\n",
    "            num_posts_before[pol_orientation]['active'].append(user_num_posts_before)\n",
    "            focus[pol_orientation]['active'].append(user_focus)\n",
    "        if num_posts_in_source > 24:\n",
    "            num_posts_before[pol_orientation]['extremely_active'].append(user_num_posts_before)\n",
    "            focus[pol_orientation]['extremely_active'].append(user_focus)\n",
    "        if num_posts_in_source > 49:\n",
    "            num_posts_before[pol_orientation]['mega_active'].append(user_num_posts_before)\n",
    "            focus[pol_orientation]['mega_active'].append(user_focus)\n",
    "            \n",
    "\n",
    "        if num_posts_overall == num_posts_in_source:\n",
    "            exclusive[pol_orientation][user] = num_posts_in_source\n",
    "\n",
    "pickle_out = open(\"../../Results/left_right_num_post_before.pickle\",\"wb\")\n",
    "pickle.dump(num_posts_before, pickle_out)\n",
    "pickle_out.close()\n",
    "\n",
    "pickle_out = open(\"../../Results/left_right_post_focus.pickle\",\"wb\")\n",
    "pickle.dump(focus, pickle_out)\n",
    "pickle_out.close()\n",
    "\n",
    "pickle_out = open(\"../../Results/left_right_post_exclusive.pickle\",\"wb\")\n",
    "pickle.dump(exclusive, pickle_out)\n",
    "pickle_out.close()"
   ]
  },
  {
   "cell_type": "code",
   "execution_count": 9,
   "metadata": {},
   "outputs": [
    {
     "name": "stdout",
     "output_type": "stream",
     "text": [
      "politics\n",
      "NeutralPolitics\n",
      "The_Donald\n",
      "SandersForPresident\n",
      "democrats\n",
      "Republican\n",
      "Conservative\n",
      "progressive\n"
     ]
    }
   ],
   "source": [
    "num_comments_before = {}\n",
    "# calculate number of comments before posting in The_Donald, AskReddit, news, and politics\n",
    "for subreddit in subreddits:\n",
    "    print(subreddit)\n",
    "    num_comments_before[subreddit] = {\n",
    "        'all': {},\n",
    "        'active': {},\n",
    "        'extremely_active': {},\n",
    "        'mega_active': {}\n",
    "    }\n",
    "    \n",
    "    for commentator in comments[subreddit]['commentators']:\n",
    "        first_post_in_board = min(comments[subreddit]['comments'][commentator]['timestamps'])\n",
    "        # get count of comments in all Reddit before first commment in source boards\n",
    "        for count,timestamp in enumerate(sorted(commentators[commentator]['timestamps'])):\n",
    "            if timestamp >= first_post_in_board:\n",
    "                num_comments_before[subreddit]['all'][commentator] = count\n",
    "                num_comments_in_board = len(comments[subreddit]['comments'][commentator]['timestamps'])\n",
    "                if num_comments_in_board > 9:\n",
    "                    num_comments_before[subreddit]['active'][commentator] = count\n",
    "                if num_comments_in_board > 24:\n",
    "                    num_comments_before[subreddit]['extremely_active'][commentator] = count\n",
    "                if num_comments_in_board > 49:\n",
    "                    num_comments_before[subreddit]['mega_active'][commentator] = count\n",
    "                break\n",
    "            \n",
    "\n",
    "pickle_out = open(\"../../Results/num_comments_before.pickle\",\"wb\")\n",
    "pickle.dump(num_comments_before, pickle_out)\n",
    "pickle_out.close()"
   ]
  },
  {
   "cell_type": "code",
   "execution_count": 18,
   "metadata": {},
   "outputs": [
    {
     "name": "stdout",
     "output_type": "stream",
     "text": [
      "politics\n",
      "NeutralPolitics\n",
      "The_Donald\n",
      "SandersForPresident\n",
      "democrats\n",
      "Republican\n",
      "Conservative\n",
      "progressive\n"
     ]
    }
   ],
   "source": [
    "focus = {}\n",
    "\n",
    "for subreddit in subreddits:\n",
    "    print(subreddit)\n",
    "    focus[subreddit] = {\n",
    "        'all': {},\n",
    "        'active': {},\n",
    "        'extremely_active': {},\n",
    "        'mega_active': {}\n",
    "    }\n",
    "    \n",
    "    for commentator in comments[subreddit]['commentators']:\n",
    "        num_in_board = len(comments[subreddit]['comments'][commentator]['timestamps'])\n",
    "        num_overall = float(len(commentators[commentator]['timestamps']))\n",
    "        focus[subreddit]['all'][commentator] = num_in_board / num_overall\n",
    "                \n",
    "        if num_in_board > 9:\n",
    "            focus[subreddit]['active'][commentator] = focus[subreddit]['all'][commentator] \n",
    "        if num_in_board > 24:\n",
    "            focus[subreddit]['extremely_active'][commentator] = focus[subreddit]['all'][commentator] \n",
    "        if num_in_board > 49:\n",
    "            focus[subreddit]['mega_active'][commentator] = focus[subreddit]['all'][commentator] \n",
    "            \n",
    "pickle_out = open(\"../../Results/focus.pickle\",\"wb\")\n",
    "pickle.dump(focus, pickle_out)\n",
    "pickle_out.close()"
   ]
  },
  {
   "cell_type": "code",
   "execution_count": 21,
   "metadata": {},
   "outputs": [
    {
     "name": "stdout",
     "output_type": "stream",
     "text": [
      "politics only exclusive\n",
      "NeutralPolitics only exclusive\n",
      "The_Donald only exclusive\n",
      "SandersForPresident only exclusive\n",
      "democrats only exclusive\n",
      "Republican only exclusive\n",
      "Conservative only exclusive\n",
      "progressive only exclusive\n"
     ]
    }
   ],
   "source": [
    "exclusive_users = {}\n",
    "\n",
    "for subreddit in subreddits:\n",
    "    print(subreddit,'only exclusive')\n",
    "    exclusive_users[subreddit] = []\n",
    "    for commentator in comments[subreddit]['commentators']:\n",
    "        num_in_board = len(comments[subreddit]['comments'][commentator]['timestamps'])\n",
    "        num_overall = len(commentators[commentator]['timestamps'])\n",
    "        if num_in_board == num_overall:\n",
    "            exclusive_users[subreddit].append(num_in_board)\n",
    "\n",
    "pickle_out = open(\"../../Results/exclusive_users.pickle\",\"wb\")\n",
    "pickle.dump(exclusive_users, pickle_out)\n",
    "pickle_out.close()"
   ]
  },
  {
   "cell_type": "code",
   "execution_count": null,
   "metadata": {},
   "outputs": [],
   "source": [
    "exclusive_users = {}\n",
    "\n",
    "for subreddit in subreddits:\n",
    "    print(subreddit,'only exclusive')\n",
    "    exclusive_users[subreddit] = []\n",
    "    for submissioner in submissions[subreddit]['submissioners']:\n",
    "        num_in_board = len(submissions[subreddit]['submissions'][submissioner]['timestamps'])\n",
    "        num_overall = len(submissioners[submissioner]['timestamps'])\n",
    "        if num_in_board == num_overall:\n",
    "            exclusive_users[subreddit].append(num_in_board)\n",
    "\n",
    "pickle_out = open(\"../../Results/submissions_exclusive_users.pickle\",\"wb\")\n",
    "pickle.dump(exclusive_users, pickle_out)\n",
    "pickle_out.close()"
   ]
  }
 ],
 "metadata": {
  "kernelspec": {
   "display_name": "Python 3",
   "language": "python",
   "name": "python3"
  },
  "language_info": {
   "codemirror_mode": {
    "name": "ipython",
    "version": 3
   },
   "file_extension": ".py",
   "mimetype": "text/x-python",
   "name": "python",
   "nbconvert_exporter": "python",
   "pygments_lexer": "ipython3",
   "version": "3.7.1"
  }
 },
 "nbformat": 4,
 "nbformat_minor": 2
}
