{
 "cells": [
  {
   "cell_type": "code",
   "execution_count": 1,
   "metadata": {},
   "outputs": [],
   "source": [
    "import pickle\n",
    "import gzip\n",
    "\n",
    "num_posts_before = pickle.load(gzip.open(\"../Results/num_post_before.pickle.gz\",\"rb\"))\n",
    "focus = pickle.load(gzip.open(\"../Results/post_focus.pickle.gz\",\"rb\"))\n",
    "exclusive = pickle.load(gzip.open(\"../Results/post_exclusive.pickle.gz\",\"rb\"))"
   ]
  },
  {
   "cell_type": "code",
   "execution_count": 35,
   "metadata": {},
   "outputs": [
    {
     "data": {
      "text/plain": [
       "(0.1314380791163405, 0.19080183758695232)"
      ]
     },
     "execution_count": 35,
     "metadata": {},
     "output_type": "execute_result"
    }
   ],
   "source": [
    "np.mean(focus['politics']['all']),np.mean(focus['The_Donald']['all'])"
   ]
  },
  {
   "cell_type": "code",
   "execution_count": 31,
   "metadata": {},
   "outputs": [
    {
     "data": {
      "text/plain": [
       "(6.563709658407789, 13.895426890869496)"
      ]
     },
     "execution_count": 31,
     "metadata": {},
     "output_type": "execute_result"
    }
   ],
   "source": [
    "np.mean(list(exclusive['politics'].values())),np.mean(list(exclusive['The_Donald'].values()))"
   ]
  },
  {
   "cell_type": "code",
   "execution_count": 19,
   "metadata": {},
   "outputs": [],
   "source": [
    "import plotly\n",
    "import plotly.plotly as py\n",
    "import plotly.graph_objs as go\n",
    "import numpy as np\n",
    "\n",
    "plotly.tools.set_credentials_file(username='soli__', api_key='azOUWrgxv12Fmya1i5W7')\n",
    "\n",
    "def plot_sample(vals,title,x_label,y_label,activity,sample_size=15000,log=False):\n",
    "    data = []\n",
    "    \n",
    "    subreddits = ['SandersForPresident','politics','Conservative','The_Donald']\n",
    "    for subreddit in subreddits:\n",
    "        if len(vals[subreddit][activity]) < sample_size:\n",
    "            subreddits.remove(subreddit)\n",
    "            \n",
    "    colors = {\n",
    "        'The_Donald': ('(139,0,0)','dashdot'),\n",
    "        'Conservative': ('(255,0,0)','dot'),\n",
    "        'politics': ('(0,191,255)',None),\n",
    "        'SandersForPresident': ('(0,0,255)','dash'),\n",
    "    }\n",
    "    \n",
    "    for subreddit in subreddits:\n",
    "       \n",
    "        X = []\n",
    "        Y = []\n",
    "        \n",
    "        sample = np.random.choice(vals[subreddit][activity], sample_size)\n",
    "        for key, val in enumerate(sorted(sample,reverse=True)):\n",
    "            if log:\n",
    "                X.append(np.log(key+1))\n",
    "                if val <= 0:\n",
    "                    Y.append(0)\n",
    "                else:\n",
    "                    Y.append(np.log(val))\n",
    "            else:\n",
    "                X.append((key+1))\n",
    "                if val <= 0:\n",
    "                    Y.append(0)\n",
    "                else:\n",
    "                    Y.append((val))\n",
    "\n",
    "        trace = go.Scatter(\n",
    "            x = X,\n",
    "            y = Y,\n",
    "            mode = 'lines',\n",
    "            name = subreddit,\n",
    "            line = {\n",
    "                'color' : ('rgb' + colors[subreddit][0]),\n",
    "                'dash': colors[subreddit][1]\n",
    "            }\n",
    "        )\n",
    "\n",
    "        data.append(trace)\n",
    "        \n",
    "    title =  {\n",
    "        'text':'<b>' + title + '</b>',\n",
    "        'font': {\n",
    "            'color': 'black',\n",
    "            'size': 30,\n",
    "            \n",
    "        }\n",
    "    }\n",
    "        \n",
    "        \n",
    "    layout = go.Layout(\n",
    "            xaxis = dict(\n",
    "                #title = \"<b>\" + x_label + \"</b>\",\n",
    "                titlefont=dict(\n",
    "                    family='Courier New, monospace',\n",
    "                    size=18,\n",
    "                    color='black'\n",
    "                )\n",
    "            ),\n",
    "            yaxis = dict(\n",
    "                title = \"<b>\" + y_label + \"</b>\",\n",
    "                titlefont = dict(\n",
    "                    family='Courier New, monospace',\n",
    "                    size=18,\n",
    "                    color='black'\n",
    "                )\n",
    "            ),\n",
    "         legend = {\n",
    "                'font': {\n",
    "                    'size': 15\n",
    "                },\n",
    "                'orientation': 'h'\n",
    "            },\n",
    "        )\n",
    "    \n",
    "    fig = go.Figure(data=data, layout=layout)\n",
    "    \n",
    "    display(py.iplot(fig, filename='line-mode'))"
   ]
  },
  {
   "cell_type": "code",
   "execution_count": 26,
   "metadata": {},
   "outputs": [
    {
     "name": "stdout",
     "output_type": "stream",
     "text": [
      "This is the format of your plot grid:\n",
      "[ (1,1) x1,y1 ]  [ (1,2) x2,y2 ]\n",
      "\n",
      "The draw time for this plot will be slow for all clients.\n"
     ]
    },
    {
     "data": {
      "text/html": [
       "<iframe id=\"igraph\" scrolling=\"no\" style=\"border:none;\" seamless=\"seamless\" src=\"https://plot.ly/~soli__/47.embed\" height=\"500px\" width=\"1000px\"></iframe>"
      ],
      "text/plain": [
       "<plotly.tools.PlotlyDisplay object>"
      ]
     },
     "metadata": {},
     "output_type": "display_data"
    }
   ],
   "source": [
    "colors = {\n",
    "        'The_Donald': ('(139,0,0)','dashdot'),\n",
    "        'Conservative': ('(255,0,0)','dot'),\n",
    "        'politics': ('(0,191,255)',None),\n",
    "        'SandersForPresident': ('(0,0,255)','dash'),\n",
    "    }\n",
    "    \n",
    "fig = plotly.tools.make_subplots(rows=1,cols=2)\n",
    "\n",
    "\n",
    "fig['layout']['legend']['orientation'] = 'h'\n",
    "fig['layout']['legend']['x'] = 0\n",
    "fig['layout']['legend']['y'] = -0.2\n",
    "\n",
    "fig['layout']['width'] = 1000\n",
    "fig['layout']['height'] = 500\n",
    "   \n",
    "        \n",
    "for subreddit in colors:\n",
    "    sample = np.random.choice(focus[subreddit]['all'], 250000)\n",
    "    X,Y = [],[]\n",
    "    for key, val in enumerate(sorted(sample,reverse=True)):\n",
    "        X.append((key+1))\n",
    "        Y.append(val)\n",
    "    trace = go.Scatter(\n",
    "        x = X,\n",
    "        y = Y,\n",
    "        mode = 'lines',\n",
    "        name = subreddit,\n",
    "        line = {\n",
    "            'color' : ('rgb' + colors[subreddit][0]),\n",
    "            'dash': colors[subreddit][1]\n",
    "\n",
    "        },\n",
    "        showlegend = True\n",
    "    )\n",
    "\n",
    "    fig.append_trace(trace,1,1)\n",
    "    \n",
    "fig['layout']['xaxis1'].update({\n",
    "    'title': \"<b> users with #posts > 0</b>\",\n",
    "    'titlefont': {\n",
    "        'family': 'Courier New, monospace',\n",
    "        'size': 15,\n",
    "        'color':'black'\n",
    "    }\n",
    "})\n",
    "\n",
    "fig['layout']['yaxis1'].update({\n",
    "    'title': \"<b> # posts in subreddit / # posts </b>\",\n",
    "    'titlefont': {\n",
    "        'family': 'Courier New, monospace',\n",
    "        'size': 15,\n",
    "        'color':'black'\n",
    "    }\n",
    "})\n",
    "            \n",
    "for subreddit in colors:\n",
    "    sample = np.random.choice(focus[subreddit]['active'], 50000)\n",
    "    X,Y = [],[]\n",
    "    for key, val in enumerate(sorted(sample,reverse=True)):\n",
    "        X.append((key+1))\n",
    "        Y.append(val)\n",
    "    trace = go.Scatter(\n",
    "        x = X,\n",
    "        y = Y,\n",
    "        mode = 'lines',\n",
    "        name = subreddit,\n",
    "        line = {\n",
    "            'color' : ('rgb' + colors[subreddit][0]),\n",
    "            'dash': colors[subreddit][1]\n",
    "\n",
    "        },\n",
    "        showlegend = False\n",
    "    )\n",
    "\n",
    "    fig.append_trace(trace,1,2)\n",
    "    \n",
    "fig['layout']['xaxis2'].update({\n",
    "    'title': \"<b> users with #posts > 9</b>\",\n",
    "    'titlefont': {\n",
    "        'family': 'Courier New, monospace',\n",
    "        'size': 15,\n",
    "        'color':'black'\n",
    "    }\n",
    "})\n",
    "\n",
    "\n",
    "display(py.iplot(fig, filename='focus'))"
   ]
  },
  {
   "cell_type": "code",
   "execution_count": 23,
   "metadata": {},
   "outputs": [
    {
     "name": "stdout",
     "output_type": "stream",
     "text": [
      "High five! You successfully sent some data to your account on plotly. View your plot in your browser at https://plot.ly/~soli__/0 or inside your plot.ly account where it is named 'line-mode'\n"
     ]
    },
    {
     "data": {
      "text/html": [
       "<iframe id=\"igraph\" scrolling=\"no\" style=\"border:none;\" seamless=\"seamless\" src=\"https://plot.ly/~soli__/0.embed\" height=\"525px\" width=\"100%\"></iframe>"
      ],
      "text/plain": [
       "<plotly.tools.PlotlyDisplay object>"
      ]
     },
     "metadata": {},
     "output_type": "display_data"
    }
   ],
   "source": [
    "plot_sample(focus,'Focus of users with #posts > 0','rank','# posts in subreddit / # all posts','all',sample_size=15000)"
   ]
  },
  {
   "cell_type": "code",
   "execution_count": 22,
   "metadata": {},
   "outputs": [
    {
     "name": "stdout",
     "output_type": "stream",
     "text": [
      "High five! You successfully sent some data to your account on plotly. View your plot in your browser at https://plot.ly/~soli__/0 or inside your plot.ly account where it is named 'line-mode'\n"
     ]
    },
    {
     "data": {
      "text/html": [
       "<iframe id=\"igraph\" scrolling=\"no\" style=\"border:none;\" seamless=\"seamless\" src=\"https://plot.ly/~soli__/0.embed\" height=\"525px\" width=\"100%\"></iframe>"
      ],
      "text/plain": [
       "<plotly.tools.PlotlyDisplay object>"
      ]
     },
     "metadata": {},
     "output_type": "display_data"
    }
   ],
   "source": [
    "plot_sample(focus,'Focus of users with #posts > 9','rank','# posts in subreddit / # all posts','active',sample_size=15000)"
   ]
  },
  {
   "cell_type": "code",
   "execution_count": 21,
   "metadata": {
    "collapsed": true
   },
   "outputs": [
    {
     "name": "stdout",
     "output_type": "stream",
     "text": [
      "High five! You successfully sent some data to your account on plotly. View your plot in your browser at https://plot.ly/~soli__/0 or inside your plot.ly account where it is named 'line-mode'\n"
     ]
    },
    {
     "data": {
      "text/html": [
       "<iframe id=\"igraph\" scrolling=\"no\" style=\"border:none;\" seamless=\"seamless\" src=\"https://plot.ly/~soli__/0.embed\" height=\"525px\" width=\"100%\"></iframe>"
      ],
      "text/plain": [
       "<plotly.tools.PlotlyDisplay object>"
      ]
     },
     "metadata": {},
     "output_type": "display_data"
    }
   ],
   "source": [
    "plot_sample(num_posts_before,'Users Age','log(rank)','log(# posts before joining)','all',log=True,sample_size=75000)"
   ]
  },
  {
   "cell_type": "code",
   "execution_count": 26,
   "metadata": {
    "collapsed": true
   },
   "outputs": [
    {
     "name": "stdout",
     "output_type": "stream",
     "text": [
      "High five! You successfully sent some data to your account on plotly. View your plot in your browser at https://plot.ly/~soli__/0 or inside your plot.ly account where it is named 'line-mode'\n"
     ]
    },
    {
     "data": {
      "text/html": [
       "<iframe id=\"igraph\" scrolling=\"no\" style=\"border:none;\" seamless=\"seamless\" src=\"https://plot.ly/~soli__/0.embed\" height=\"525px\" width=\"100%\"></iframe>"
      ],
      "text/plain": [
       "<plotly.tools.PlotlyDisplay object>"
      ]
     },
     "metadata": {},
     "output_type": "display_data"
    }
   ],
   "source": [
    "exclusive_users_posts = {}\n",
    "for subreddit in exclusive:\n",
    "    exclusive_users_posts[subreddit] = {\n",
    "        'all': list(exclusive[subreddit].values())\n",
    "    } \n",
    "plot_sample(exclusive_users_posts,'Users Age','log(rank)','log(# posts)','all',log=True,sample_size=1000)"
   ]
  },
  {
   "cell_type": "code",
   "execution_count": 44,
   "metadata": {},
   "outputs": [
    {
     "data": {
      "text/html": [
       "<iframe id=\"igraph\" scrolling=\"no\" style=\"border:none;\" seamless=\"seamless\" src=\"https://plot.ly/~soli__/41.embed\" height=\"525px\" width=\"100%\"></iframe>"
      ],
      "text/plain": [
       "<plotly.tools.PlotlyDisplay object>"
      ]
     },
     "execution_count": 44,
     "metadata": {},
     "output_type": "execute_result"
    }
   ],
   "source": [
    "color = []\n",
    "colors = {\n",
    "    'The_Donald': 'rgb(139,0,0)',\n",
    "    'Conservative': 'rgb(255,0,0)',\n",
    "    'politics': 'rgb(0,191,255)',\n",
    "    'SandersForPresident': 'rgb(0,0,255)',\n",
    "}\n",
    "\n",
    "subreddits = ['SandersForPresident','politics','Conservative','The_Donald']\n",
    "\n",
    "values = []\n",
    "annotations = []\n",
    "\n",
    "for subreddit in subreddits:\n",
    "    color.append(colors[subreddit])\n",
    "    percentage = len(exclusive[subreddit])  / float(len(focus[subreddit]['all']))\n",
    "    values.append(percentage)\n",
    "    annotations.append({\n",
    "        'x': subreddit,\n",
    "        'y': percentage,\n",
    "        'xref': 'x',\n",
    "        'yref': 'y',\n",
    "        'text': str(len(exclusive[subreddit])) +  '<br>' + 'members',\n",
    "        'showarrow': True,\n",
    "        'arrowhead': 5,\n",
    "        'ax': 0,\n",
    "        'ay':-40,\n",
    "    })\n",
    "\n",
    "trace0 = go.Bar(\n",
    "    x=subreddits,\n",
    "    y=values,\n",
    "    marker= {\n",
    "        'color':color\n",
    "    }\n",
    ")\n",
    "\n",
    "data = [trace0]\n",
    "\n",
    "layout = go.Layout(\n",
    "    xaxis = dict(\n",
    "     tickfont=dict(\n",
    "                size=20,\n",
    "                color='black'\n",
    "            )\n",
    "    ),\n",
    "    yaxis = dict(\n",
    "        title = '# exclusive users / # all users',\n",
    "        titlefont = dict(\n",
    "            family='Courier New, monospace',\n",
    "            size=18,\n",
    "            color='black'\n",
    "        ),\n",
    "        tickfont=dict(\n",
    "                size=18,\n",
    "                color='black'\n",
    "            ),\n",
    "    ),\n",
    "    annotations=annotations\n",
    ")\n",
    "\n",
    "fig = go.Figure(data=data, layout=layout)\n",
    "py.iplot(fig, filename='color-bar')"
   ]
  },
  {
   "cell_type": "code",
   "execution_count": null,
   "metadata": {},
   "outputs": [],
   "source": []
  }
 ],
 "metadata": {
  "kernelspec": {
   "display_name": "Python 3",
   "language": "python",
   "name": "python3"
  },
  "language_info": {
   "codemirror_mode": {
    "name": "ipython",
    "version": 3
   },
   "file_extension": ".py",
   "mimetype": "text/x-python",
   "name": "python",
   "nbconvert_exporter": "python",
   "pygments_lexer": "ipython3",
   "version": "3.7.1"
  }
 },
 "nbformat": 4,
 "nbformat_minor": 2
}
